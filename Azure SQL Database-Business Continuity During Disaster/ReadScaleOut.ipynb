{
    "metadata": {
        "kernelspec": {
            "name": "SQL",
            "display_name": "SQL",
            "language": "sql"
        },
        "language_info": {
            "name": "sql",
            "version": ""
        }
    },
    "nbformat_minor": 2,
    "nbformat": 4,
    "cells": [
        {
            "cell_type": "markdown",
            "source": [
                "## ReadScaleOut.ipynb\n",
                "\n",
                "Written by Taiob Ali<br>SqlWorldWide.com"
            ],
            "metadata": {
                "azdata_cell_guid": "825ad24b-e52c-4500-bce2-abb681656428"
            },
            "attachments": {}
        },
        {
            "cell_type": "markdown",
            "source": [
                "# Read Scale-Out demo\n",
                "\n",
                "More abour read-only replicas:  https://docs.microsoft.com/en-us/azure/azure-sql/database/read-scale-out"
            ],
            "metadata": {
                "azdata_cell_guid": "c4af2b3e-2ab9-41b3-bf4e-49f4e0392de6"
            }
        },
        {
            "cell_type": "markdown",
            "source": [
                "Connect to readscaleoutserver1004.database.windows.net\n",
                "\n",
                "Set database context to sqlDatabaseReadScale1004  \n",
                "Looking at the Updateability property of the database"
            ],
            "metadata": {
                "azdata_cell_guid": "119427af-fd27-4fc2-af84-6ed8fa9a423b"
            }
        },
        {
            "cell_type": "code",
            "source": [
                "SELECT DB_NAME() AS [DatabaseName], DATABASEPROPERTYEX(DB_NAME(), 'Updateability') AS [Writable?]"
            ],
            "metadata": {
                "azdata_cell_guid": "c94597a8-1011-446e-9f13-5c212f8fc503",
                "tags": [],
                "language": "sql"
            },
            "outputs": [],
            "execution_count": null
        },
        {
            "cell_type": "markdown",
            "source": [
                "Connect to readscaleoutserver1004.database.windows.net\n",
                "\n",
                "From advanced tab change 'Application Intent' to 'ReadOnly'\n",
                "\n",
                "Set database context to sqlDatabaseReadScale1004  \n",
                "Looking at the Updateability property of the database"
            ],
            "metadata": {
                "azdata_cell_guid": "e6d06981-b27a-4872-a364-df61f0e01ea2"
            }
        },
        {
            "cell_type": "code",
            "source": [
                "SELECT DB_NAME() AS [DatabaseName], DATABASEPROPERTYEX(DB_NAME(), 'Updateability') AS [Writable?]"
            ],
            "metadata": {
                "azdata_cell_guid": "559dd59a-a1df-4914-af5b-b3371ab1fc8c",
                "language": "sql"
            },
            "outputs": [],
            "execution_count": null
        }
    ]
}