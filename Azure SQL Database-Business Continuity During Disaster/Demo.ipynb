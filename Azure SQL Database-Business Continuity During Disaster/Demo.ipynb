{
    "metadata": {
        "kernelspec": {
            "name": "powershell",
            "display_name": "PowerShell",
            "language": "powershell"
        },
        "language_info": {
            "name": "powershell",
            "codemirror_mode": "shell",
            "mimetype": "text/x-sh",
            "file_extension": ".ps1"
        },
        "extensions": {
            "azuredatastudio": {
                "version": 1,
                "views": []
            }
        }
    },
    "nbformat_minor": 2,
    "nbformat": 4,
    "cells": [
        {
            "cell_type": "markdown",
            "source": [
                "## Demo.ipynb\n",
                "\n",
                "Written by Taiob Ali  \n",
                "SqlWorldWide.com\n",
                "\n",
                "This script will create:\n",
                "\n",
                "- One resource group\n",
                "- Three logical SQL server\n",
                "- Two sample databases\n",
                "\n",
                "Credit:\n",
                "\n",
                "- [Azure PowerShell samples for Azure SQL Database and Azure SQL Managed Instance](https://docs.microsoft.com/en-us/azure/azure-sql/database/powershell-script-content-guide?tabs=single-database)\n",
                "- [PowerShell One Liner: Get External/Public IP Address](https://gallery.technet.microsoft.com/scriptcenter/Get-ExternalPublic-IP-c1b601bb)\n",
                "- [Azure SQL Database and Azure Synapse IP firewall rules](https://docs.microsoft.com/en-us/azure/azure-sql/database/firewall-configure#manage-firewall-rules-using-azure-cli)"
            ],
            "metadata": {
                "azdata_cell_guid": "1823befc-a18c-47a9-bd29-765b5ca7108e",
                "extensions": {
                    "azuredatastudio": {
                        "views": []
                    }
                }
            },
            "attachments": {}
        },
        {
            "cell_type": "markdown",
            "source": [
                "PowerShell 7.x and later is the recommended version of PowerShell for use with Azure PowerShell on all platforms.<br>Check your PowerShell version and update as required"
            ],
            "metadata": {
                "azdata_cell_guid": "1c266381-89b6-4585-8e3c-35ad39867f71",
                "extensions": {
                    "azuredatastudio": {
                        "views": []
                    }
                }
            }
        },
        {
            "cell_type": "code",
            "source": [
                "$PSVersionTable.PSVersion"
            ],
            "metadata": {
                "azdata_cell_guid": "5800e475-18c1-44cc-b6a3-b26425eebd26",
                "extensions": {
                    "azuredatastudio": {
                        "views": []
                    }
                },
                "language": "powershell"
            },
            "outputs": [],
            "execution_count": null
        },
        {
            "cell_type": "markdown",
            "source": [
                "Install the Azure PowerShell module if you have not already"
            ],
            "metadata": {
                "azdata_cell_guid": "241df43a-d194-4adb-b0eb-39b41f6fa539",
                "extensions": {
                    "azuredatastudio": {
                        "views": []
                    }
                }
            }
        },
        {
            "cell_type": "code",
            "source": [
                "Install-Module -Name Az"
            ],
            "metadata": {
                "azdata_cell_guid": "e8e3e90c-608c-468b-a970-35572618750c",
                "extensions": {
                    "azuredatastudio": {
                        "views": []
                    }
                },
                "language": "powershell"
            },
            "outputs": [],
            "execution_count": null
        },
        {
            "cell_type": "markdown",
            "source": [
                "If you've disabled module autoloading, manually import the module with `Import-Module -Name Az`. Because of the way the module is structured, this can take a few seconds."
            ],
            "metadata": {
                "azdata_cell_guid": "9da8fc95-ba8b-4b55-bf49-0ea5db203c8e"
            },
            "attachments": {}
        },
        {
            "cell_type": "code",
            "source": [
                "Import-Module -Name Az\r\n",
                "Import-Module -Name Az.Accounts"
            ],
            "metadata": {
                "azdata_cell_guid": "2980b2fe-e8c4-4170-93c1-fcce55502834",
                "language": "powershell"
            },
            "outputs": [],
            "execution_count": null
        },
        {
            "cell_type": "markdown",
            "source": [
                "Sign in to Azure"
            ],
            "metadata": {
                "azdata_cell_guid": "9e7474e8-6a71-4260-8172-fe2de8d08d41",
                "extensions": {
                    "azuredatastudio": {
                        "views": []
                    }
                }
            }
        },
        {
            "cell_type": "code",
            "source": [
                "Connect-AzAccount"
            ],
            "metadata": {
                "azdata_cell_guid": "58e1bd9a-3667-4ce8-b166-4839c00c2c34",
                "extensions": {
                    "azuredatastudio": {
                        "views": []
                    }
                },
                "language": "powershell"
            },
            "outputs": [],
            "execution_count": null
        },
        {
            "cell_type": "markdown",
            "source": [
                "If you need to see the list of your subscription\n",
                "\n",
                "<span style=\"color: #6a9955;\">$SubscriptionList=Get-AzSubscription</span><span style=\"color: rgb(106, 153, 85);\">$SubscriptionList</span>\n",
                "\n",
                "Use below code if you have multiple subscription and you want to use a particular one"
            ],
            "metadata": {
                "azdata_cell_guid": "7acdd1cc-7ce4-4e87-a23d-f93e1d7b8dac",
                "extensions": {
                    "azuredatastudio": {
                        "views": []
                    }
                }
            },
            "attachments": {}
        },
        {
            "cell_type": "code",
            "source": [
                "Set-AzContext -SubscriptionId '6f8db000-8416-43f0-a2db-cbfb7c945982'\r\n",
                "#Set-AzContext -SubscriptionId '18d92f52-ac34-4379-ab8b-5a5106f1c54e'"
            ],
            "metadata": {
                "azdata_cell_guid": "f65e1558-a067-421d-8ccc-2541537987d7",
                "extensions": {
                    "azuredatastudio": {
                        "views": []
                    }
                },
                "language": "powershell"
            },
            "outputs": [],
            "execution_count": null
        },
        {
            "cell_type": "markdown",
            "source": [
                "Declare Variables"
            ],
            "metadata": {
                "azdata_cell_guid": "5830f159-43dd-474e-8e4d-d7cfab8ba744",
                "extensions": {
                    "azuredatastudio": {
                        "views": []
                    }
                }
            }
        },
        {
            "cell_type": "code",
            "source": [
                "$resourceGroupName = \"rgeu2hadrdemo\"\r\n",
                "$primaryLocation = \"East US\" \r\n",
                "$secondaryLocation = \"West US\"\r\n",
                "$primaryServerName = \"primaryserver1004\"\r\n",
                "$secondaryServerName = \"secondaryserver1004\"\r\n",
                "$readScaleoutServerName = \"readscaleoutserver1004\"\r\n",
                "$databaseName = \"sqlDatabase1004\"\r\n",
                "$databaseNameReadScale = \"sqlDatabaseReadScale1004\"\r\n",
                "$failoverGroupName = \"failovergroup1004\"\r\n",
                "$ipinfo = Invoke-RestMethod http://ipinfo.io/json \r\n",
                "$startip = $ipinfo.ip\r\n",
                "$endip = $ipinfo.ip \r\n",
                "$adminlogin = \"taiob\"\r\n",
                "$password = Get-Content \"C:\\password.txt\""
            ],
            "metadata": {
                "azdata_cell_guid": "dd1dca99-a34c-4a16-ae19-095d6aa9e6c6",
                "tags": [
                    "parameters"
                ],
                "extensions": {
                    "azuredatastudio": {
                        "views": []
                    }
                },
                "language": "powershell"
            },
            "outputs": [],
            "execution_count": null
        },
        {
            "cell_type": "markdown",
            "source": [
                "Check if Resource group exists. If exist delete the resource group.\n",
                "\n",
                "Create a new Resource group"
            ],
            "metadata": {
                "azdata_cell_guid": "ddcef94b-4f17-40a5-914e-f37fcd7c081e",
                "extensions": {
                    "azuredatastudio": {
                        "views": []
                    }
                }
            }
        },
        {
            "cell_type": "code",
            "source": [
                "$resGrpChk = Get-AzResourceGroup `\r\n",
                "    -Name $resourceGroupName `\r\n",
                "    -ev notPresent `\r\n",
                "    -ea 0\r\n",
                "\r\n",
                "if ($resGrpChk) {  \r\n",
                "    #Delete resource group\r\n",
                "    Remove-AzResourceGroup `\r\n",
                "        -Name $resourceGroupName -Confirm   \r\n",
                "    Write-Host 'Resource group deleted' `\r\n",
                "        -fore white `\r\n",
                "        -back green\r\n",
                "}\r\n",
                "\r\n",
                "New-AzResourceGroup `\r\n",
                "    -Name $resourceGroupName `\r\n",
                "    -Location $primaryLocation    \r\n",
                "Write-Host 'Resource group created' `\r\n",
                "    -fore white `\r\n",
                "    -back green"
            ],
            "metadata": {
                "azdata_cell_guid": "20b2fadd-2561-4cbf-9f3c-d6ba48e2c2ae",
                "extensions": {
                    "azuredatastudio": {
                        "views": []
                    }
                },
                "language": "powershell"
            },
            "outputs": [],
            "execution_count": null
        },
        {
            "cell_type": "markdown",
            "source": [
                "Create a Azure SQL Server at Primary Region (East US 2)"
            ],
            "metadata": {
                "azdata_cell_guid": "b31c4f9d-839c-4fd0-8205-12079a662819",
                "extensions": {
                    "azuredatastudio": {
                        "views": []
                    }
                }
            }
        },
        {
            "cell_type": "code",
            "source": [
                "New-AzSqlServer `\r\n",
                "  -ResourceGroupName $resourceGroupName `\r\n",
                "  -ServerName $primaryServerName `\r\n",
                "  -Location $primaryLocation `\r\n",
                "  -SqlAdministratorCredentials $(New-Object -TypeName System.Management.Automation.PSCredential `\r\n",
                "  -ArgumentList $adminlogin, $(ConvertTo-SecureString -String $password -AsPlainText -Force)) "
            ],
            "metadata": {
                "azdata_cell_guid": "1a6d1586-c6c1-4e5f-8081-73511d8b7aa6",
                "extensions": {
                    "azuredatastudio": {
                        "views": []
                    }
                },
                "language": "powershell"
            },
            "outputs": [],
            "execution_count": null
        },
        {
            "cell_type": "markdown",
            "source": [
                "Configure Firewall rule for the above server"
            ],
            "metadata": {
                "azdata_cell_guid": "1e04510f-0f3a-4fa4-97c1-478fb93860aa",
                "extensions": {
                    "azuredatastudio": {
                        "views": []
                    }
                }
            }
        },
        {
            "cell_type": "code",
            "source": [
                "New-AzSqlServerFirewallRule `\r\n",
                "  -ResourceGroupName $resourceGroupName `\r\n",
                "  -ServerName $primaryServerName `\r\n",
                "  -FirewallRuleName \"TaiobDemoMachine\" `\r\n",
                "  -StartIpAddress $startip `\r\n",
                "  -EndIpAddress $endip\r\n",
                "\r\n",
                "# This is done to allow access to Azure Services\r\n",
                "New-AzSqlServerFirewallRule `\r\n",
                "  -ResourceGroupName $resourceGroupName `\r\n",
                "  -ServerName $primaryServerName `\r\n",
                "  -FirewallRuleName \"AllowAzureService\" `\r\n",
                "  -StartIpAddress 0.0.0.0 `\r\n",
                "  -EndIpAddress 0.0.0.0"
            ],
            "metadata": {
                "azdata_cell_guid": "3e8fbc20-40b0-4383-856d-987a8e1af38f",
                "extensions": {
                    "azuredatastudio": {
                        "views": []
                    }
                },
                "language": "powershell"
            },
            "outputs": [],
            "execution_count": null
        },
        {
            "cell_type": "markdown",
            "source": [
                "Create a Azure SQL Server at Secondary Region (West US)\n",
                "\n",
                "<span style=\"font-size: 14px;\"><a href=\"https://docs.microsoft.com/en-us/azure/best-practices-availability-paired-regions\" data-href=\"https://docs.microsoft.com/en-us/azure/best-practices-availability-paired-regions\" title=\"https://docs.microsoft.com/en-us/azure/best-practices-availability-paired-regions\">https://docs.microsoft.com/en-us/azure/best-practices-availability-paired-regions</a></span>"
            ],
            "metadata": {
                "azdata_cell_guid": "3ea00317-6de9-455a-aedf-6bc51e791717",
                "extensions": {
                    "azuredatastudio": {
                        "views": []
                    }
                }
            },
            "attachments": {}
        },
        {
            "cell_type": "code",
            "source": [
                "New-AzSqlServer -ResourceGroupName $resourceGroupName `\r\n",
                "  -ServerName $secondaryServerName `\r\n",
                "  -Location $secondaryLocation `\r\n",
                "  -SqlAdministratorCredentials $(New-Object -TypeName System.Management.Automation.PSCredential `\r\n",
                "  -ArgumentList $adminlogin, $(ConvertTo-SecureString -String $password -AsPlainText -Force))"
            ],
            "metadata": {
                "azdata_cell_guid": "e4331aee-f1b4-4151-8bf7-ff9d0ff23e48",
                "extensions": {
                    "azuredatastudio": {
                        "views": []
                    }
                },
                "language": "powershell"
            },
            "outputs": [],
            "execution_count": null
        },
        {
            "cell_type": "markdown",
            "source": [
                "Configure Firewall rule for the above server"
            ],
            "metadata": {
                "azdata_cell_guid": "a0814758-8983-4930-abf1-e06656844179",
                "extensions": {
                    "azuredatastudio": {
                        "views": []
                    }
                }
            }
        },
        {
            "cell_type": "code",
            "source": [
                "New-AzSqlServerFirewallRule `\r\n",
                "  -ResourceGroupName $resourceGroupName `\r\n",
                "  -ServerName $secondaryServerName  `\r\n",
                "  -FirewallRuleName \"TaiobDemoMachine\" `\r\n",
                "  -StartIpAddress $startip `\r\n",
                "  -EndIpAddress $endip\r\n",
                "\r\n",
                "# This is done to allow access to Azure Services\r\n",
                "New-AzSqlServerFirewallRule `\r\n",
                "  -ResourceGroupName $resourceGroupName `\r\n",
                "  -ServerName $secondaryServerName `\r\n",
                "  -FirewallRuleName \"AllowAzureService\" `\r\n",
                "  -StartIpAddress 0.0.0.0 `\r\n",
                "  -EndIpAddress 0.0.0.0"
            ],
            "metadata": {
                "azdata_cell_guid": "a5262db0-0ef4-4e24-b7d9-40f76b8115c5",
                "extensions": {
                    "azuredatastudio": {
                        "views": []
                    }
                },
                "language": "powershell"
            },
            "outputs": [],
            "execution_count": null
        },
        {
            "cell_type": "markdown",
            "source": [
                "Create a Azure SQL Serer to demo Read Scale-Out"
            ],
            "metadata": {
                "azdata_cell_guid": "27ee8f6e-b143-4258-914e-e6fe5f22c724",
                "extensions": {
                    "azuredatastudio": {
                        "views": []
                    }
                }
            }
        },
        {
            "cell_type": "code",
            "source": [
                "New-AzSqlServer `\r\n",
                "  -ResourceGroupName $resourceGroupName `\r\n",
                "  -ServerName $readScaleoutServerName `\r\n",
                "  -Location $primaryLocation `\r\n",
                "  -SqlAdministratorCredentials $(New-Object -TypeName System.Management.Automation.PSCredential `\r\n",
                "  -ArgumentList $adminlogin, $(ConvertTo-SecureString -String $password -AsPlainText -Force))"
            ],
            "metadata": {
                "azdata_cell_guid": "75b42634-266a-490f-9928-f419994bd0e4",
                "extensions": {
                    "azuredatastudio": {
                        "views": []
                    }
                },
                "language": "powershell"
            },
            "outputs": [],
            "execution_count": null
        },
        {
            "cell_type": "markdown",
            "source": [
                "Configure Firewall rule for the above server"
            ],
            "metadata": {
                "azdata_cell_guid": "b591278a-2063-428a-ad8f-75c4998ee8ac",
                "extensions": {
                    "azuredatastudio": {
                        "views": []
                    }
                }
            }
        },
        {
            "cell_type": "code",
            "source": [
                "New-AzSqlServerFirewallRule `\r\n",
                "  -ResourceGroupName $resourceGroupName `\r\n",
                "  -ServerName $readScaleoutServerName `\r\n",
                "  -FirewallRuleName \"TaiobDemoMachine\" `\r\n",
                "  -StartIpAddress $startip `\r\n",
                "  -EndIpAddress $endip\r\n",
                "\r\n",
                "# This is done to allow access to Azure Services\r\n",
                "New-AzSqlServerFirewallRule `\r\n",
                "  -ResourceGroupName $resourceGroupName `\r\n",
                "  -ServerName $readScaleoutServerName `\r\n",
                "  -FirewallRuleName \"AllowAzureService\" `\r\n",
                "  -StartIpAddress 0.0.0.0 `\r\n",
                "  -EndIpAddress 0.0.0.0"
            ],
            "metadata": {
                "azdata_cell_guid": "c7100713-0bf9-4847-8a89-86ac197cbdd4",
                "extensions": {
                    "azuredatastudio": {
                        "views": []
                    }
                },
                "language": "powershell"
            },
            "outputs": [],
            "execution_count": null
        },
        {
            "cell_type": "markdown",
            "source": [
                "Creating an Azure SQL Database with sample database AdventureWorksLT\n",
                "\n",
                "Puchase Model: vCpu<br>Service Tier : General Purpose"
            ],
            "metadata": {
                "azdata_cell_guid": "70668868-21b5-4fcc-aa96-a478e970b96a",
                "extensions": {
                    "azuredatastudio": {
                        "views": []
                    }
                }
            }
        },
        {
            "cell_type": "code",
            "source": [
                "New-Azsqldatabase  `\r\n",
                "  -ResourceGroupName $resourceGroupName `\r\n",
                "  -ServerName $primaryServerName `\r\n",
                "  -DatabaseName $databaseName `\r\n",
                "  -SampleName \"AdventureWorksLT\" `\r\n",
                "  -RequestedServiceObjectiveName \"GP_Gen5_2\" `\r\n",
                "  -MaxSizeBytes 5368709120"
            ],
            "metadata": {
                "azdata_cell_guid": "f4d50c2c-84e0-40fb-8fe2-3be789d57084",
                "extensions": {
                    "azuredatastudio": {
                        "views": []
                    }
                },
                "language": "powershell"
            },
            "outputs": [],
            "execution_count": null
        },
        {
            "cell_type": "markdown",
            "source": [
                "Creating an Azure SQL Database with sample database AdventureWorksLT\n",
                "\n",
                "Puchase Model: vCpu<br>Service Tier : Business Critical"
            ],
            "metadata": {
                "azdata_cell_guid": "07f40de4-cbb1-49d4-9b5f-91d47a61170a",
                "extensions": {
                    "azuredatastudio": {
                        "views": []
                    }
                }
            }
        },
        {
            "cell_type": "code",
            "source": [
                "New-Azsqldatabase  `\r\n",
                "  -ResourceGroupName $resourceGroupName `\r\n",
                "  -ServerName $readScaleoutServerName `\r\n",
                "  -DatabaseName $databaseNameReadScale `\r\n",
                "  -SampleName \"AdventureWorksLT\" `\r\n",
                "  -RequestedServiceObjectiveName \"BC_Gen5_2\" `\r\n",
                "  -MaxSizeBytes 5368709120"
            ],
            "metadata": {
                "azdata_cell_guid": "f51e9205-f14f-4b90-b9e0-5f79e8fc0805",
                "extensions": {
                    "azuredatastudio": {
                        "views": []
                    }
                },
                "language": "powershell"
            },
            "outputs": [],
            "execution_count": null
        },
        {
            "cell_type": "markdown",
            "source": [
                "# Demo Starts here"
            ],
            "metadata": {
                "azdata_cell_guid": "2f9d84a7-ac5b-46bc-8fe8-7a202503bfcf",
                "extensions": {
                    "azuredatastudio": {
                        "views": []
                    }
                }
            }
        },
        {
            "cell_type": "markdown",
            "source": [
                "## Demo : Automated backup\n",
                "\n",
                "Open the Azure portal and show lon-term retention (LTR) backups is not enable by default\n",
                "\n",
                "```\n",
                "SQL Server-->Data management-->Backups\n",
                "```\n",
                "\n",
                "You will only see Pont-in-time restore (PITR)"
            ],
            "metadata": {
                "azdata_cell_guid": "8945943e-7752-4e56-a3a7-047583859bde",
                "extensions": {
                    "azuredatastudio": {
                        "views": []
                    }
                }
            },
            "attachments": {}
        },
        {
            "cell_type": "markdown",
            "source": [
                "Get all long term retention (LTR) policies within a server\n",
                "\n",
                "<span style=\"font-size: 14px;\">https://docs.microsoft.com/en-us/powershell/module/az.sql/get-azsqldatabasebackuplongtermretentionpolicy?view=azps-5.6.0&amp;viewFallbackFrom=azps-4.3.0</span>"
            ],
            "metadata": {
                "azdata_cell_guid": "c8b5931b-f49b-476c-a57d-e8394ebc2ac5",
                "extensions": {
                    "azuredatastudio": {
                        "views": []
                    }
                }
            }
        },
        {
            "cell_type": "code",
            "source": [
                "$ltrPolicies = Get-AzSqldatabase `\r\n",
                "  -ResourceGroupName $resourceGroupName `\r\n",
                "  -ServerName $primaryServerName `\r\n",
                "  -DatabaseName $databaseName `\r\n",
                "| Get-AzSqldatabaseLongTermRetentionPolicy\r\n",
                "\r\n",
                "Write-Output $ltrPolicies"
            ],
            "metadata": {
                "azdata_cell_guid": "66535560-14db-4fcd-9941-460459985a91",
                "extensions": {
                    "azuredatastudio": {
                        "views": []
                    }
                },
                "language": "powershell"
            },
            "outputs": [],
            "execution_count": null
        },
        {
            "cell_type": "markdown",
            "source": [
                "Set up long-term retention backup \n",
                "\n",
                "<span style=\"font-size: 14px;\">https://docs.microsoft.com/en-us/powershell/module/az.sql/set-azsqldatabasebackuplongtermretentionpolicy?view=azps-5.6.0</span>  \n",
                "\n",
                "Create LTR policy with below specification\n",
                "\n",
                "WeeklyRetention = 12 weeks  \n",
                "MonthlyRetention = 0  \n",
                "YearlyRetetion = 5 years  \n",
                "WeekOfYear = 16"
            ],
            "metadata": {
                "azdata_cell_guid": "8302deac-5a7b-4198-95fb-ebbc77dca2ad",
                "extensions": {
                    "azuredatastudio": {
                        "views": []
                    }
                }
            }
        },
        {
            "cell_type": "code",
            "source": [
                "Set-AzSqldatabaseBackupLongTermRetentionPolicy `\r\n",
                "  -ServerName $primaryServerName `\r\n",
                "  -DatabaseName $databaseName `\r\n",
                "  -ResourceGroupName $resourceGroupName `\r\n",
                "  -WeeklyRetention P12W `\r\n",
                "  -YearlyRetention P5Y `\r\n",
                "  -WeekOfYear 16"
            ],
            "metadata": {
                "azdata_cell_guid": "8efa2ddf-41be-4878-9d48-a10bbe4c3fdf",
                "extensions": {
                    "azuredatastudio": {
                        "views": []
                    }
                },
                "language": "powershell"
            },
            "outputs": [],
            "execution_count": null
        },
        {
            "cell_type": "markdown",
            "source": [
                "Check the long-term retention (LTR) policies within a server"
            ],
            "metadata": {
                "azdata_cell_guid": "3acfc6bd-480c-400d-a777-0f2099470e22",
                "extensions": {
                    "azuredatastudio": {
                        "views": []
                    }
                }
            }
        },
        {
            "cell_type": "code",
            "source": [
                "$ltrPolicies = Get-AzSqldatabase `\r\n",
                "  -ResourceGroupName $resourceGroupName `\r\n",
                "  -ServerName $primaryServerName `\r\n",
                "  -DatabaseName $databaseName `\r\n",
                "| Get-AzSqldatabaseLongTermRetentionPolicy\r\n",
                "\r\n",
                "Write-Output $ltrPolicies"
            ],
            "metadata": {
                "azdata_cell_guid": "74891681-a699-41a6-a82b-4308505ce2c3",
                "extensions": {
                    "azuredatastudio": {
                        "views": []
                    }
                },
                "language": "powershell"
            },
            "outputs": [],
            "execution_count": null
        },
        {
            "cell_type": "markdown",
            "source": [
                "Do not need to run the code during demo\n",
                "\n",
                "Remove LTR policy from a database<br>"
            ],
            "metadata": {
                "azdata_cell_guid": "a8f4b7c7-abf6-42ec-9380-2a417ec9d40c",
                "extensions": {
                    "azuredatastudio": {
                        "views": []
                    }
                }
            }
        },
        {
            "cell_type": "code",
            "source": [
                "Set-AzSqlDatabaseBackupLongTermRetentionPolicy `\r\n",
                "  -ServerName $primaryServerName `\r\n",
                "  -DatabaseName $databaseName `\r\n",
                "  -ResourceGroupName $resourceGroupName `\r\n",
                "  -RemovePolicy"
            ],
            "metadata": {
                "azdata_cell_guid": "6a3cad9a-66f8-4b3e-b624-2f40ebf8dc64",
                "extensions": {
                    "azuredatastudio": {
                        "views": []
                    }
                },
                "language": "powershell"
            },
            "outputs": [],
            "execution_count": null
        },
        {
            "cell_type": "markdown",
            "source": [
                "## Demo : Built in HA/DR (with NO Configuration)"
            ],
            "metadata": {
                "azdata_cell_guid": "bd794b53-be6b-402d-be02-d799bd65d640",
                "extensions": {
                    "azuredatastudio": {
                        "views": []
                    }
                }
            }
        },
        {
            "cell_type": "markdown",
            "source": [
                "This demo code is copied from:  \r\n",
                "[Basic high availability in Azure SQL Database](https://github.com/microsoft/sqlworkshops-azuresqlworkshop/blob/master/azuresqlworkshop/05-Availability/basic-ha/basic-ha.ipynb)"
            ],
            "metadata": {
                "azdata_cell_guid": "6fe6185f-8ed1-4aa4-8864-bdf0efa483ef",
                "extensions": {
                    "azuredatastudio": {
                        "views": []
                    }
                }
            }
        },
        {
            "cell_type": "markdown",
            "source": [
                "Start a workload using [ostress](https://www.microsoft.com/en-us/download/details.aspx?id=4511)  \n",
                "\n",
                "Once the failover is done press ctrl+c to stop the ostress\n",
                "\n",
                "```\n",
                "ostress.exe -S\"primaryServer1004.database.windows.net\" -Q\"SELECT COUNT(*) FROM SalesLT.Customer\" -U\"taiob\" -d\"sqlDataBase1004\" -n1 -r50000\n",
                "```\n",
                "\n",
                "Initiate a failover  \n",
                "Since 'sqlDatabase1004' is in 'General Purpose' service tier it will take longer time compare to 'Business Critical'"
            ],
            "metadata": {
                "azdata_cell_guid": "02d8c516-2332-4595-b9c3-0d82e1a8afa1",
                "extensions": {
                    "azuredatastudio": {
                        "views": []
                    }
                }
            }
        },
        {
            "cell_type": "code",
            "source": [
                "$Start = Get-Date\r\n",
                "Invoke-AzSqlDatabaseFailover `\r\n",
                "  -ResourceGroupName $resourceGroupName `\r\n",
                "  -ServerName $primaryServerName `\r\n",
                "  -DatabaseName $databaseName\r\n",
                "$end = Get-Date\r\n",
                "$Runtime = $end - $Start\r\n",
                "$Runtime"
            ],
            "metadata": {
                "azdata_cell_guid": "f9dba3d6-dcdc-40cf-9712-641deef410ae",
                "extensions": {
                    "azuredatastudio": {
                        "views": []
                    }
                },
                "language": "powershell"
            },
            "outputs": [],
            "execution_count": null
        },
        {
            "cell_type": "markdown",
            "source": [
                "Start a workload using [ostress](https://www.microsoft.com/en-us/download/details.aspx?id=4511)\n",
                "\n",
                "Once the failover is done press ctrl+c to stop the ostress\n",
                "\n",
                "```\n",
                "ostress.exe -S\"readscaleoutserver1004.database.windows.net\" -Q\"SELECT COUNT(*) FROM SalesLT.Customer\" -U\"taiob\" -d\"sqlDataBaseReadScale1004\" -n1 -r50000 -o\"C:\\Users\\taiob\\AppData\\Local\\Temp\\output\\ostress2.log\"\n",
                "```\n",
                "\n",
                "Initiate a failover  \n",
                "Since 'sqlDatabaseReadScale1004' is in 'Business Critical' service tier it will very quick"
            ],
            "metadata": {
                "azdata_cell_guid": "56e2cfdd-ee40-4e37-808e-ddfd3428a71d",
                "extensions": {
                    "azuredatastudio": {
                        "views": []
                    }
                }
            }
        },
        {
            "cell_type": "code",
            "source": [
                "$Start = Get-Date\r\n",
                "Invoke-AzSqlDatabaseFailover `\r\n",
                "  -ResourceGroupName $resourceGroupName `\r\n",
                "  -ServerName $readScaleoutServerName `\r\n",
                "  -DatabaseName $databaseNameReadScale\r\n",
                "$end = Get-Date\r\n",
                "$Runtime = $end - $Start\r\n",
                "$Runtime"
            ],
            "metadata": {
                "azdata_cell_guid": "c0631880-ddc5-4df9-83f1-32441b148a05",
                "tags": [],
                "extensions": {
                    "azuredatastudio": {
                        "views": []
                    }
                },
                "language": "powershell"
            },
            "outputs": [],
            "execution_count": null
        },
        {
            "cell_type": "markdown",
            "source": [
                "## Demo : Active Geo-Replication"
            ],
            "metadata": {
                "azdata_cell_guid": "5eb18b08-2b7c-4ef0-aff5-fd68ddd555fe",
                "extensions": {
                    "azuredatastudio": {
                        "views": []
                    }
                }
            }
        },
        {
            "cell_type": "markdown",
            "source": [
                "Setting up Active Geo-Replication for sqlDatabase1004  \n",
                "Between 'primaryserver1004.database.windows.net' and 'secondaryserver1004.database.windows.net'\n",
                "\n",
                "While this is running go to Azure portal and see that it is being setup"
            ],
            "metadata": {
                "azdata_cell_guid": "9ecfc4e0-5220-45f1-b0fe-f23a29fc0953",
                "extensions": {
                    "azuredatastudio": {
                        "views": []
                    }
                }
            }
        },
        {
            "cell_type": "code",
            "source": [
                "$database = \r\n",
                "Get-AzSqldatabase `\r\n",
                "  -DatabaseName $databaseName `\r\n",
                "  -ResourceGroupName $resourceGroupName `\r\n",
                "  -ServerName $primaryServerName\r\n",
                "\r\n",
                "$database | `\r\n",
                "New-AzSqldatabaseSecondary `\r\n",
                "  -PartnerResourceGroupName $resourceGroupName `\r\n",
                "  -PartnerServerName $secondaryServerName `\r\n",
                "  -AllowConnections \"All\""
            ],
            "metadata": {
                "azdata_cell_guid": "eaa1ebbe-f0bd-4633-8c17-c9025472368c",
                "extensions": {
                    "azuredatastudio": {
                        "views": []
                    }
                },
                "language": "powershell"
            },
            "outputs": [],
            "execution_count": null
        },
        {
            "cell_type": "markdown",
            "source": [
                "Perform a planned failover (Switches a secondary database to be primary in order to initiate failover)</span>\n",
                "\n",
                "<span style=\"font-size: 14px;\">https://docs.microsoft.com/en-us/powershell/module/az.sql/set-azsqldatabasesecondary?view=azps-5.6.0</span>"
            ],
            "metadata": {
                "azdata_cell_guid": "c55b7560-9f1f-4573-9f7a-ebfb0a23cd4c",
                "extensions": {
                    "azuredatastudio": {
                        "views": []
                    }
                }
            }
        },
        {
            "cell_type": "code",
            "source": [
                "$database = \r\n",
                "Get-AzSqlDatabase `\r\n",
                "  -DatabaseName $databaseName `\r\n",
                "  -ResourceGroupName $resourceGroupName `\r\n",
                "  -ServerName $secondaryServerName\r\n",
                "$database | Set-AzSqlDatabaseSecondary -PartnerResourceGroupName $resourceGroupName -Failover"
            ],
            "metadata": {
                "azdata_cell_guid": "8801887f-7dc9-4c40-9705-7b96e6b45cf6",
                "extensions": {
                    "azuredatastudio": {
                        "views": []
                    }
                },
                "language": "powershell"
            },
            "outputs": [],
            "execution_count": null
        },
        {
            "cell_type": "markdown",
            "source": [
                "Go to Portal and see the new primary/seconadary for database sqlDatabase1004"
            ],
            "metadata": {
                "azdata_cell_guid": "aa306cc9-6ff3-4fa6-9ba1-f73d5aa08986",
                "extensions": {
                    "azuredatastudio": {
                        "views": []
                    }
                }
            }
        },
        {
            "cell_type": "markdown",
            "source": [
                "Failback for next demo"
            ],
            "metadata": {
                "azdata_cell_guid": "8ad9e968-e0f4-487c-b790-77cfc9a7e028",
                "extensions": {
                    "azuredatastudio": {
                        "views": []
                    }
                }
            }
        },
        {
            "cell_type": "code",
            "source": [
                "Set-AzsqldatabaseSecondary `\r\n",
                "  -DatabaseName $databaseName `\r\n",
                "  -PartnerResourceGroupName $resourceGroupName `\r\n",
                "  -ServerName $primaryServerName `\r\n",
                "  -ResourceGroupName $resourceGroupName `\r\n",
                "  -Failover"
            ],
            "metadata": {
                "azdata_cell_guid": "8abdfa59-bdb0-401b-a6bc-b3632aae5a35",
                "extensions": {
                    "azuredatastudio": {
                        "views": []
                    }
                },
                "language": "powershell"
            },
            "outputs": [],
            "execution_count": null
        },
        {
            "cell_type": "markdown",
            "source": [
                "## Demo : Auto-Failover Group"
            ],
            "metadata": {
                "azdata_cell_guid": "517e8a71-28be-4997-a97b-8ca71ff9c2b3",
                "extensions": {
                    "azuredatastudio": {
                        "views": []
                    }
                }
            }
        },
        {
            "cell_type": "markdown",
            "source": [
                "Create a Failover group\n",
                "\n",
                "At this point Failover group is empty and does not contain any databases"
            ],
            "metadata": {
                "azdata_cell_guid": "1c3471d6-6871-444f-af38-e6e96b4950ea",
                "extensions": {
                    "azuredatastudio": {
                        "views": []
                    }
                }
            }
        },
        {
            "cell_type": "code",
            "source": [
                "$failovergroup = \r\n",
                "New-AzSqldatabaseFailoverGroup `\r\n",
                "    -ResourceGroupName $resourceGroupName `\r\n",
                "    -ServerName $primaryServerName `\r\n",
                "    -PartnerServerName $secondaryServerName `\r\n",
                "    -FailoverGroupName $failoverGroupName `\r\n",
                "    -GracePeriodWithDataLossHours 2\r\n",
                "\r\n",
                "$failovergroup"
            ],
            "metadata": {
                "azdata_cell_guid": "3291bf69-29e5-4ff5-be58-930306db21ec",
                "extensions": {
                    "azuredatastudio": {
                        "views": []
                    }
                },
                "language": "powershell"
            },
            "outputs": [],
            "execution_count": null
        },
        {
            "cell_type": "markdown",
            "source": [
                "Add database to the Failover gorup created above"
            ],
            "metadata": {
                "azdata_cell_guid": "f226b002-0046-44cb-81e0-dea0948f05f5",
                "extensions": {
                    "azuredatastudio": {
                        "views": []
                    }
                }
            }
        },
        {
            "cell_type": "code",
            "source": [
                "$failoverGroup = \r\n",
                "Get-AzSqldatabase `\r\n",
                "  -ResourceGroupName $resourceGroupName `\r\n",
                "  -ServerName $primaryServerName `\r\n",
                "  -DatabaseName $databaseName | `\r\n",
                "Add-AzSqldatabaseToFailoverGroup `\r\n",
                "  -ResourceGroupName $resourceGroupName `\r\n",
                "  -ServerName $primaryServerName `\r\n",
                "  -FailoverGroupName $failoverGroupName \r\n",
                "\r\n",
                "$failovergroup"
            ],
            "metadata": {
                "azdata_cell_guid": "f1346bb4-a8fc-45b3-889b-e35e4b846ae1",
                "extensions": {
                    "azuredatastudio": {
                        "views": []
                    }
                },
                "language": "powershell"
            },
            "outputs": [],
            "execution_count": null
        },
        {
            "cell_type": "markdown",
            "source": [
                "Go to the portal and show the failover group '<span style=\"font-size: 12px; white-space: pre-wrap;\">failovergroup1004'</span>\n",
                "\n",
                "<span style=\"font-size: 12px; white-space: pre-wrap;\">ServerName--&gt; Data Mangement --&gt;Failover groups</span>\n",
                "\n",
                "<span style=\"font-size: 12px; white-space: pre-wrap;\">Two tabs</span>\n",
                "\n",
                "- <span style=\"font-size: 12px; white-space: pre-wrap;\">Configuration details</span>\n",
                "- <span style=\"font-size: 12px; white-space: pre-wrap;\">Databases within group</span>\n",
                "\n",
                "Copy the endpoints, connect to the server, show server names"
            ],
            "metadata": {
                "azdata_cell_guid": "eb70e104-157e-4ce1-85f0-9f31a0ec5a6a",
                "extensions": {
                    "azuredatastudio": {
                        "views": []
                    }
                }
            },
            "attachments": {}
        },
        {
            "cell_type": "markdown",
            "source": [
                "Initiate a planned failover"
            ],
            "metadata": {
                "azdata_cell_guid": "9697707d-f93a-47f9-b8b0-3b39d4ff4ef9",
                "extensions": {
                    "azuredatastudio": {
                        "views": []
                    }
                }
            }
        },
        {
            "cell_type": "code",
            "source": [
                "Switch-AzSqldatabaseFailoverGroup `\r\n",
                "  -ResourceGroupName $resourceGroupName  `\r\n",
                "  -ServerName $secondaryServerName `\r\n",
                "  -FailoverGroupName $failoverGroupName"
            ],
            "metadata": {
                "azdata_cell_guid": "35095915-6412-46b3-ae7c-43c610ebff1f",
                "tags": [],
                "extensions": {
                    "azuredatastudio": {
                        "views": []
                    }
                },
                "language": "powershell"
            },
            "outputs": [],
            "execution_count": null
        },
        {
            "cell_type": "markdown",
            "source": [
                "Gets a specific Azure SQL Database Failover Group or lists the Failover Groups on a server.  \n",
                "Either server in the Failover Group may be used to execute the command.  \n",
                "The returned values will reflect the state of the specified server with respect to the Failover Group."
            ],
            "metadata": {
                "azdata_cell_guid": "d36dc30d-393a-4ec6-ac9d-a573d30d8338",
                "extensions": {
                    "azuredatastudio": {
                        "views": []
                    }
                }
            },
            "attachments": {}
        },
        {
            "cell_type": "code",
            "source": [
                "Get-AzSqldatabaseFailoverGroup `\r\n",
                "  -ResourceGroupName $resourceGroupName  `\r\n",
                "  -ServerName $primaryServerName \r\n",
                "Get-AzSqldatabaseFailoverGroup `\r\n",
                "  -ResourceGroupName $resourceGroupName  `\r\n",
                "  -ServerName $secondaryServerName "
            ],
            "metadata": {
                "azdata_cell_guid": "4c5053df-0f80-4a3e-81d4-14122033b89d",
                "extensions": {
                    "azuredatastudio": {
                        "views": []
                    }
                },
                "language": "powershell"
            },
            "outputs": [],
            "execution_count": null
        },
        {
            "cell_type": "markdown",
            "source": [
                "## Demo : Read Scale-Out\n",
                "\n",
                "Premium and Business Critical service tier is automatically Enabled<br>Basic, Standard, and General Purpose service tiers does not include this feature"
            ],
            "metadata": {
                "azdata_cell_guid": "faf313be-9f03-4f03-b69e-c8c59f19d954",
                "extensions": {
                    "azuredatastudio": {
                        "views": []
                    }
                }
            }
        },
        {
            "cell_type": "markdown",
            "source": [
                "Checking current setting for Read Scale-Out"
            ],
            "metadata": {
                "azdata_cell_guid": "953bd10d-9fc1-4475-8e3e-eaedcd37abc3",
                "extensions": {
                    "azuredatastudio": {
                        "views": []
                    }
                }
            }
        },
        {
            "cell_type": "code",
            "source": [
                " $isReadEnabled = \r\n",
                "Get-AzSqldatabase `\r\n",
                "  -ResourceGroupName $resourceGroupName `\r\n",
                "  -DatabaseName $databaseNameReadScale `\r\n",
                "  -ServerName $readScaleoutServerName \r\n",
                "\r\n",
                "Write-host($isReadEnabled.ReadScale)"
            ],
            "metadata": {
                "azdata_cell_guid": "63dc475a-1e23-43c2-a13e-fe0552e6391a",
                "extensions": {
                    "azuredatastudio": {
                        "views": []
                    }
                },
                "language": "powershell"
            },
            "outputs": [],
            "execution_count": null
        },
        {
            "cell_type": "markdown",
            "source": [
                "Use ReadSacleOut.sql show the built in Read Sclae-Out feature"
            ],
            "metadata": {
                "azdata_cell_guid": "d2b6a8dc-1517-41a3-820c-7afb427d3574",
                "extensions": {
                    "azuredatastudio": {
                        "views": []
                    }
                }
            },
            "attachments": {}
        },
        {
            "cell_type": "markdown",
            "source": [
                "Clean up by removing resource group name"
            ],
            "metadata": {
                "azdata_cell_guid": "ddadaad0-e8d6-44fb-9f27-6f56ea9a6020",
                "extensions": {
                    "azuredatastudio": {
                        "views": []
                    }
                }
            }
        },
        {
            "cell_type": "code",
            "source": [
                "Remove-AzResourceGroup -ResourceGroupName $resourceGroupName -Force"
            ],
            "metadata": {
                "azdata_cell_guid": "5e000b59-71de-486a-8191-f534b6e5cdd3",
                "extensions": {
                    "azuredatastudio": {
                        "views": []
                    }
                },
                "language": "powershell"
            },
            "outputs": [],
            "execution_count": null
        }
    ]
}