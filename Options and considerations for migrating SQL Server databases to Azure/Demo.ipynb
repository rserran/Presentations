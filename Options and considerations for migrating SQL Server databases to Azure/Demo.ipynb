{
    "metadata": {
        "kernelspec": {
            "name": "powershell",
            "display_name": "PowerShell",
            "language": "powershell"
        },
        "language_info": {
            "name": "powershell",
            "codemirror_mode": "shell",
            "mimetype": "text/x-sh",
            "file_extension": ".ps1"
        },
        "extensions": {
            "azuredatastudio": {
                "version": 1,
                "views": []
            }
        }
    },
    "nbformat_minor": 2,
    "nbformat": 4,
    "cells": [
        {
            "cell_type": "markdown",
            "source": [
                "# Demo.ipynb\n",
                "\n",
                "Written by Taiob Ali  \n",
                "SqlWorldWide.com\n",
                "\n",
                "This script will create:\n",
                "\n",
                "- A resource group\n",
                "- One logical Azure SQL server\n",
                "- Multiple empty Azure SQL Databases\n",
                "- One Storage Account\n",
                "- One Storage Container\n",
                "- Azure Migrate Service\n",
                "- Azure Database Migration Service\n",
                "\n",
                "Reference I took help from:\n",
                "\n",
                "- [Azure PowerShell samples for Azure SQL Database and Azure SQL Managed Instance](https://docs.microsoft.com/en-us/azure/azure-sql/database/powershell-script-content-guide?tabs=single-database)\n",
                "- [PowerShell One Liner: Get External/Public IP Address](https://gallery.technet.microsoft.com/scriptcenter/Get-ExternalPublic-IP-c1b601bb)\n",
                "- [Azure SQL Database and Azure Synapse IP firewall rules](https://docs.microsoft.com/en-us/azure/azure-sql/database/firewall-configure#manage-firewall-rules-using-azure-cli)\n",
                "- [Use PowerShell to create a managed instance](https://docs.microsoft.com/en-us/azure/azure-sql/managed-instance/scripts/create-configure-managed-instance-powershell)\n",
                "\n",
                "Pre-Requsite:\n",
                "\n",
                "- Install Data Migration Assistant\n",
                "- Install Visual Studio\n",
                "- Install Azure Data Studio\n",
                "    - Azure SQL Migration Extension installed and enabled\n",
                "- Azure storage explorer\n",
                "- sqlpackage installed\n",
                "- Reuired AZ Module installed\n",
                "- Create a backup of Source database with checksum to the above storage container\n",
                "- Create a Azure SQL virtual machine\n",
                "    - Make approprite inbound port rules"
            ],
            "metadata": {
                "azdata_cell_guid": "1823befc-a18c-47a9-bd29-765b5ca7108e",
                "extensions": {
                    "azuredatastudio": {
                        "views": []
                    }
                }
            },
            "attachments": {}
        },
        {
            "cell_type": "markdown",
            "source": [
                "PowerShell 7.0.6 LTS and PowerShell 7.1.3 or higher is the recommended version of PowerShell for use with the Az PowerShell module on all platforms.  \n",
                "Check your PowerShell version and update as required"
            ],
            "metadata": {
                "azdata_cell_guid": "1c266381-89b6-4585-8e3c-35ad39867f71",
                "extensions": {
                    "azuredatastudio": {
                        "views": []
                    }
                }
            },
            "attachments": {}
        },
        {
            "cell_type": "code",
            "source": [
                "$PSVersionTable.PSVersion"
            ],
            "metadata": {
                "azdata_cell_guid": "5800e475-18c1-44cc-b6a3-b26425eebd26",
                "extensions": {
                    "azuredatastudio": {
                        "views": []
                    }
                }
            },
            "outputs": [],
            "execution_count": null
        },
        {
            "cell_type": "markdown",
            "source": [
                "If you've disabled module autoloading, manually import the module with `Import-Module -Name Az`. Because of the way the module is structured, this can take a few seconds."
            ],
            "metadata": {
                "azdata_cell_guid": "9da8fc95-ba8b-4b55-bf49-0ea5db203c8e"
            },
            "attachments": {}
        },
        {
            "cell_type": "code",
            "source": [
                "Import-Module -Name Az"
            ],
            "metadata": {
                "azdata_cell_guid": "2980b2fe-e8c4-4170-93c1-fcce55502834"
            },
            "outputs": [],
            "execution_count": null
        },
        {
            "cell_type": "markdown",
            "source": [
                "Sign in to Azure"
            ],
            "metadata": {
                "azdata_cell_guid": "9e7474e8-6a71-4260-8172-fe2de8d08d41",
                "extensions": {
                    "azuredatastudio": {
                        "views": []
                    }
                }
            }
        },
        {
            "cell_type": "code",
            "source": [
                "Connect-AzAccount"
            ],
            "metadata": {
                "azdata_cell_guid": "58e1bd9a-3667-4ce8-b166-4839c00c2c34",
                "extensions": {
                    "azuredatastudio": {
                        "views": []
                    }
                }
            },
            "outputs": [],
            "execution_count": null
        },
        {
            "cell_type": "markdown",
            "source": [
                "If you need to see the list of your subscription\n",
                "\n",
                "```\n",
                "$SubscriptionList=Get-AzSubscription$SubscriptionList\n",
                "```\n",
                "\n",
                "Use below code if you have multiple subscription and you want to use a particular one"
            ],
            "metadata": {
                "azdata_cell_guid": "7acdd1cc-7ce4-4e87-a23d-f93e1d7b8dac",
                "extensions": {
                    "azuredatastudio": {
                        "views": []
                    }
                }
            },
            "attachments": {}
        },
        {
            "cell_type": "code",
            "source": [
                "Set-AzContext -SubscriptionId '18d92f52-ac34-4379-ab8b-5a5106f1c54e'"
            ],
            "metadata": {
                "azdata_cell_guid": "f65e1558-a067-421d-8ccc-2541537987d7",
                "extensions": {
                    "azuredatastudio": {
                        "views": []
                    }
                }
            },
            "outputs": [],
            "execution_count": null
        },
        {
            "cell_type": "markdown",
            "source": [
                "Declare Variables"
            ],
            "metadata": {
                "azdata_cell_guid": "5830f159-43dd-474e-8e4d-d7cfab8ba744",
                "extensions": {
                    "azuredatastudio": {
                        "views": []
                    }
                }
            }
        },
        {
            "cell_type": "code",
            "source": [
                "$resourceGroupName = \"cassugresourcegroup\"\r\n",
                "$location = \"East US\" \r\n",
                "$sqlServerName = \"cassugsqlserver\"\r\n",
                "$databaseDma = \"databaseDma\"\r\n",
                "$databaseMigrationService = \"databaseMigrationService\"\r\n",
                "$databaseVS = \"databaseVisualStudio\"\r\n",
                "\r\n",
                "$azureMigrateName = \"cassugAzureMigrate\"\r\n",
                "$vNetName = \"migrationServiceVnet\"\r\n",
                "$databaseMigrationService = \"cassugDatabaseMigrationService\"\r\n",
                "\r\n",
                "$storageAccountName = \"cassugstorageaccount\"\r\n",
                "$storageContainer = \"cassugbacpac\"\r\n",
                "$StorageKeyType = \"StorageAccessKey\"\r\n",
                "$databasebacpac_1 = \"cassugDatabasebacpac1\"\r\n",
                "$databasebacpac_2 = \"cassugDatabasebacpac2\"\r\n",
                "\r\n",
                "$ipinfo = Invoke-RestMethod http://ipinfo.io/json \r\n",
                "$startip = $ipinfo.ip\r\n",
                "$endip = $ipinfo.ip \r\n",
                "$adminlogin = \"taiob\"\r\n",
                "$password = Get-Content \"C:\\password.txt\""
            ],
            "metadata": {
                "azdata_cell_guid": "dd1dca99-a34c-4a16-ae19-095d6aa9e6c6",
                "tags": [
                    "parameters"
                ],
                "extensions": {
                    "azuredatastudio": {
                        "views": []
                    }
                }
            },
            "outputs": [],
            "execution_count": null
        },
        {
            "cell_type": "markdown",
            "source": [
                "Check if Resource group exists. If exist delete the resource group.\n",
                "\n",
                "Create a new Resource group"
            ],
            "metadata": {
                "azdata_cell_guid": "ddcef94b-4f17-40a5-914e-f37fcd7c081e",
                "extensions": {
                    "azuredatastudio": {
                        "views": []
                    }
                }
            }
        },
        {
            "cell_type": "code",
            "source": [
                "$resGrpChk = Get-AzResourceGroup `\r\n",
                "    -Name $resourceGroupName `\r\n",
                "    -ErrorVariable notPresent `\r\n",
                "    -ErrorAction SilentlyContinue\r\n",
                "\r\n",
                "if ($resGrpChk) {  \r\n",
                "    #Delete resource group\r\n",
                "    Remove-AzResourceGroup `\r\n",
                "        -Name $resourceGroupName \r\n",
                "    Write-Host 'Resource group deleted' `\r\n",
                "        -fore white `\r\n",
                "        -back green\r\n",
                "}\r\n",
                "else {\r\n",
                "    New-AzResourceGroup `\r\n",
                "    -Name $resourceGroupName `\r\n",
                "    -Location $location   \r\n",
                "}"
            ],
            "metadata": {
                "azdata_cell_guid": "20b2fadd-2561-4cbf-9f3c-d6ba48e2c2ae",
                "extensions": {
                    "azuredatastudio": {
                        "views": []
                    }
                }
            },
            "outputs": [],
            "execution_count": null
        },
        {
            "cell_type": "markdown",
            "source": [
                "Create a Azure SQL Server at Resource Group rgeuazbootcamp (East US)"
            ],
            "metadata": {
                "azdata_cell_guid": "b31c4f9d-839c-4fd0-8205-12079a662819",
                "extensions": {
                    "azuredatastudio": {
                        "views": []
                    }
                }
            },
            "attachments": {}
        },
        {
            "cell_type": "code",
            "source": [
                "New-AzSqlServer `\r\n",
                "  -ResourceGroupName $resourceGroupName `\r\n",
                "  -ServerName $sqlServerName `\r\n",
                "  -Location $location `\r\n",
                "  -SqlAdministratorCredentials $(New-Object -TypeName System.Management.Automation.PSCredential `\r\n",
                "  -ArgumentList $adminlogin, $(ConvertTo-SecureString -String $password -AsPlainText -Force)) "
            ],
            "metadata": {
                "azdata_cell_guid": "1a6d1586-c6c1-4e5f-8081-73511d8b7aa6",
                "extensions": {
                    "azuredatastudio": {
                        "views": []
                    }
                }
            },
            "outputs": [],
            "execution_count": null
        },
        {
            "cell_type": "markdown",
            "source": [
                "Configure Firewall rule for the above server"
            ],
            "metadata": {
                "azdata_cell_guid": "1e04510f-0f3a-4fa4-97c1-478fb93860aa",
                "extensions": {
                    "azuredatastudio": {
                        "views": []
                    }
                }
            }
        },
        {
            "cell_type": "code",
            "source": [
                "New-AzSqlServerFirewallRule `\r\n",
                "  -ResourceGroupName $resourceGroupName `\r\n",
                "  -ServerName $sqlServerName `\r\n",
                "  -FirewallRuleName \"TaiobDemoMachine\" `\r\n",
                "  -StartIpAddress $startip `\r\n",
                "  -EndIpAddress $endip\r\n",
                "\r\n",
                "# This is done to allow access to Azure Services\r\n",
                "New-AzSqlServerFirewallRule `\r\n",
                "  -ResourceGroupName $resourceGroupName `\r\n",
                "  -ServerName $sqlServerName `\r\n",
                "  -FirewallRuleName \"AllowAzureService\" `\r\n",
                "  -StartIpAddress 0.0.0.0 `\r\n",
                "  -EndIpAddress 0.0.0.0"
            ],
            "metadata": {
                "azdata_cell_guid": "3e8fbc20-40b0-4383-856d-987a8e1af38f",
                "extensions": {
                    "azuredatastudio": {
                        "views": []
                    }
                }
            },
            "outputs": [],
            "execution_count": null
        },
        {
            "cell_type": "markdown",
            "source": [
                "Creating an Azure SQL Database to use with Data Migration Assistant\n",
                "\n",
                "Puchase Model: vCpu  \n",
                "Service Tier : General Purpose"
            ],
            "metadata": {
                "azdata_cell_guid": "70668868-21b5-4fcc-aa96-a478e970b96a",
                "extensions": {
                    "azuredatastudio": {
                        "views": []
                    }
                }
            },
            "attachments": {}
        },
        {
            "cell_type": "code",
            "source": [
                "New-Azsqldatabase  `\r\n",
                "  -ResourceGroupName $resourceGroupName `\r\n",
                "  -ServerName $sqlServerName `\r\n",
                "  -DatabaseName $databasedma `\r\n",
                "  -RequestedServiceObjectiveName \"GP_Gen5_2\" `\r\n",
                "  -MaxSizeBytes 5368709120"
            ],
            "metadata": {
                "azdata_cell_guid": "f4d50c2c-84e0-40fb-8fe2-3be789d57084",
                "extensions": {
                    "azuredatastudio": {
                        "views": []
                    }
                }
            },
            "outputs": [],
            "execution_count": null
        },
        {
            "cell_type": "markdown",
            "source": [
                "Creating an Azure SQL Database to use with Azure Database Migration Service\n",
                "\n",
                "Puchase Model: vCpu  \n",
                "Service Tier : General Purpose"
            ],
            "metadata": {
                "azdata_cell_guid": "f943d8ba-71b9-42ed-b23a-7699d36113a3"
            },
            "attachments": {}
        },
        {
            "cell_type": "code",
            "source": [
                "New-Azsqldatabase  `\r\n",
                "  -ResourceGroupName $resourceGroupName `\r\n",
                "  -ServerName $sqlServerName `\r\n",
                "  -DatabaseName $databaseMigrationService `\r\n",
                "  -RequestedServiceObjectiveName \"GP_Gen5_2\" `\r\n",
                "  -MaxSizeBytes 5368709120"
            ],
            "metadata": {
                "azdata_cell_guid": "8dab9b5b-9cea-461a-b1c7-4458652215dc"
            },
            "outputs": [],
            "execution_count": null
        },
        {
            "cell_type": "markdown",
            "source": [
                "Creating an Azure SQL Database to use with Visual Studio Project\n",
                "\n",
                "Puchase Model: vCpu  \n",
                "Service Tier : General Purpose"
            ],
            "metadata": {
                "azdata_cell_guid": "ee574623-cb06-4450-ad26-6add1f2888fd"
            },
            "attachments": {}
        },
        {
            "cell_type": "code",
            "source": [
                "New-Azsqldatabase  `\r\n",
                "  -ResourceGroupName $resourceGroupName `\r\n",
                "  -ServerName $sqlServerName `\r\n",
                "  -DatabaseName $databaseVS `\r\n",
                "  -RequestedServiceObjectiveName \"GP_Gen5_2\" `\r\n",
                "  -MaxSizeBytes 5368709120"
            ],
            "metadata": {
                "azdata_cell_guid": "77a7fe8b-291a-4606-8902-bc4fbfac5def"
            },
            "outputs": [],
            "execution_count": null
        },
        {
            "cell_type": "markdown",
            "source": [
                "Create storage account"
            ],
            "metadata": {
                "azdata_cell_guid": "97581784-c2b3-4969-a7b2-eb0c421a6231"
            },
            "attachments": {}
        },
        {
            "cell_type": "code",
            "source": [
                "$storageaccount = New-AzStorageAccount `\r\n",
                "-ResourceGroupName $resourceGroupName `\r\n",
                "-AccountName $storageAccountName `\r\n",
                "-Location $location `\r\n",
                "-SkuName Standard_GRS"
            ],
            "metadata": {
                "azdata_cell_guid": "c10949a3-c413-432a-9e05-57a143bd2096"
            },
            "outputs": [],
            "execution_count": null
        },
        {
            "cell_type": "markdown",
            "source": [
                "Create a Azure Storage Container"
            ],
            "metadata": {
                "azdata_cell_guid": "55e62ad5-50fb-433d-900b-23f459184b93"
            },
            "attachments": {}
        },
        {
            "cell_type": "code",
            "source": [
                "New-AzStorageContainer -Name $storageContainer -Context $storageaccount.Context -Permission Container"
            ],
            "metadata": {
                "azdata_cell_guid": "59dabec3-70b7-4685-a811-595903688235"
            },
            "outputs": [],
            "execution_count": null
        },
        {
            "cell_type": "markdown",
            "source": [
                "Create Azure Migrate Project\n",
                "\n",
                "Note: For location I am not using the variable. This service is not available in East US"
            ],
            "metadata": {
                "azdata_cell_guid": "efd0fd5c-8d80-48f7-85ac-80e944147f33"
            },
            "attachments": {}
        },
        {
            "cell_type": "code",
            "source": [
                "New-AzMigrateProject  `\r\n",
                "-Location \"Central US\" `\r\n",
                "-Name $azureMigrateName  `\r\n",
                "-ResourceGroupName $resourceGroupName"
            ],
            "metadata": {
                "azdata_cell_guid": "cb197b8a-31fd-4aac-bee2-e5346f455d9d"
            },
            "outputs": [],
            "execution_count": null
        },
        {
            "cell_type": "markdown",
            "source": [
                "Create an Azure Database Migration Service"
            ],
            "metadata": {
                "azdata_cell_guid": "2106dfb5-8660-47cf-af40-6771e69aea3e"
            },
            "attachments": {}
        },
        {
            "cell_type": "code",
            "source": [
                "$vNetAddressPrefix = \"10.0.0.0/16\"\r\n",
                "$defaultSubnetAddressPrefix = \"10.0.0.0/24\"\r\n",
                "$miSubnetName = \"migrationServiceSubnet-$(Get-Random)\"\r\n",
                "$miSubnetAddressPrefix = \"10.0.0.0/24\"\r\n",
                "\r\n",
                "$networkSecurityGroupMiManagementService = New-AzNetworkSecurityGroup `\r\n",
                "  -Name 'myNetworkSecurityGroupAzureDataMigrationService' `\r\n",
                "  -ResourceGroupName $resourceGroupName `\r\n",
                "  -location $location\r\n",
                "\r\n",
                "$routeTableMiManagementService = New-AzRouteTable `\r\n",
                "  -Name 'myRouteTableAzureDataMigrationService' `\r\n",
                "  -ResourceGroupName $resourceGroupName `\r\n",
                "  -location $location\r\n",
                "\r\n",
                "$virtualNetwork = New-AzVirtualNetwork `\r\n",
                "  -ResourceGroupName $resourceGroupName `\r\n",
                "  -Location $location -Name $vNetName `\r\n",
                "  -AddressPrefix $vNetAddressPrefix\r\n",
                "\r\n",
                "Add-AzVirtualNetworkSubnetConfig `\r\n",
                "  -Name $miSubnetName `\r\n",
                "  -VirtualNetwork $virtualNetwork `\r\n",
                "  -AddressPrefix $miSubnetAddressPrefix `\r\n",
                "  -NetworkSecurityGroup $networkSecurityGroupMiManagementService `\r\n",
                "  -RouteTable $routeTableMiManagementService |\r\n",
                "  Set-AzVirtualNetwork\r\n",
                "\r\n",
                "$virtualNetwork = Get-AzVirtualNetwork -Name $vNetName -ResourceGroupName $resourceGroupName\r\n",
                "$subnet= $virtualNetwork.Subnets[0]\r\n",
                "\r\n",
                "New-AzDataMigrationService `\r\n",
                "  -ResourceGroupName $resourceGroupName `\r\n",
                "  -Name $databaseMigrationService `\r\n",
                "  -Location $location `\r\n",
                "  -Sku Standard_2vCores `\r\n",
                "  -VirtualSubnetId $subnet.Id"
            ],
            "metadata": {
                "azdata_cell_guid": "21bea6bf-1d89-4af7-9e3d-d3862df36b8e"
            },
            "outputs": [],
            "execution_count": null
        },
        {
            "cell_type": "markdown",
            "source": [
                "Taking a full backup with of AdventureWorks database with checksum"
            ],
            "metadata": {
                "azdata_cell_guid": "1ae013b8-06f4-42b5-b755-958725c18828"
            },
            "attachments": {}
        },
        {
            "cell_type": "code",
            "source": [
                "Import-Module -Name dbatools\r\n",
                "Backup-DbaDatabase -SqlInstance \"DESKTOP-50O69FS\\SQL2019\" -Checksum -Type Full -AzureBaseUrl \"https://cassugstorageaccount.blob.core.windows.net/cassugbacpac\" -Database \"AdventureWorks\" -SqlCredential \"https://cassugstorageaccount.blob.core.windows.net/cassugbacpac\""
            ],
            "metadata": {
                "azdata_cell_guid": "2a421d80-d246-41f8-83a6-03df5024de7f",
                "tags": []
            },
            "outputs": [],
            "execution_count": null
        },
        {
            "cell_type": "markdown",
            "source": [
                "# Demo Starts here"
            ],
            "metadata": {
                "azdata_cell_guid": "2f9d84a7-ac5b-46bc-8fe8-7a202503bfcf",
                "extensions": {
                    "azuredatastudio": {
                        "views": []
                    }
                }
            }
        },
        {
            "cell_type": "markdown",
            "source": [
                "## Show Assessment and Migration:\n",
                "\n",
                "- SQL Server Management Studio\n",
                "    - Deploy a Database By Using a DAC\n",
                "- Azure Data Migration Assistant\n",
                "    - Assessment\n",
                "        - Export to Azure Migrate\n",
                "    - Migration\n",
                "- Azure Database Migration Service\n",
                "    - Import Schema from On-premises database\n",
                "    - Improt data from On-premises database\n",
                "- SqlPackage generate bacpac file\n",
                "    - bacpac file to Azure storage \n",
                "    - bacpac file to Local storage\n",
                "    - Restore from Local storage\n",
                "    - Restore from Azure storage\n",
                "- Visual Studio Project (Schema only)\n",
                "- Azure Data Studio Extension \"Azure SQL Migration\"\n",
                "    - Migrate on-premises database to a Azure SQL Virtual Machine"
            ],
            "metadata": {
                "azdata_cell_guid": "225e7de5-a20c-4650-8256-9cd998567212"
            },
            "attachments": {}
        },
        {
            "cell_type": "markdown",
            "source": [
                "Changing to folder where .sqlpackage binary is  \n",
                "Exporting database to a .bacpac file to local storage"
            ],
            "metadata": {
                "azdata_cell_guid": "8b6bf1f9-532c-4ac8-a5c3-7608ac6ffd14"
            },
            "attachments": {}
        },
        {
            "cell_type": "code",
            "source": [
                "# Delete file if exists\r\n",
                "$FileName = \"C:\\temp\\aw_bacpac.bacpac\"\r\n",
                "\r\n",
                "if (Test-Path $FileName) {\r\n",
                "  Remove-Item $FileName\r\n",
                "  write-host \"$FileName has been deleted\"\r\n",
                "}\r\n",
                "\r\n",
                "else {\r\n",
                "  Write-host \"$FileName doesn't exist\"\r\n",
                "}"
            ],
            "metadata": {
                "azdata_cell_guid": "3c8445be-9d3d-4ca5-9269-5b17e9a9401d"
            },
            "outputs": [],
            "execution_count": null
        },
        {
            "cell_type": "code",
            "source": [
                "Set-Location -Path \"C:\\Program Files (x86)\\Microsoft SQL Server\\140\\DAC\\bin\\\"\r\n",
                "\r\n",
                ".\\SqlPackage.exe /Action:Export /SourceServerName:\"DESKTOP-50O69FS\\SQL2019\" /SourceDatabaseName:AdventureWorks `\r\n",
                " /TargetFile:\"C:\\temp\\aw_bacpac.bacpac\" "
            ],
            "metadata": {
                "azdata_cell_guid": "ac95f6fc-aa81-4b49-8d3d-ca4fcb5fcef2"
            },
            "outputs": [],
            "execution_count": null
        },
        {
            "cell_type": "markdown",
            "source": [
                "- Copying the bacpac file to storage container using [Azure Storage Explorer](https://azure.microsoft.com/en-us/features/storage-explorer/)\n",
                "- You can do the same with [AzCopy](https://docs.microsoft.com/en-us/azure/storage/common/storage-use-azcopy-v10)\n",
                "- Restoring Database using bacpac file from storage container"
            ],
            "metadata": {
                "azdata_cell_guid": "85321a06-eb78-40d4-9d3e-4996480daf9e"
            },
            "attachments": {}
        },
        {
            "cell_type": "code",
            "source": [
                "$StorageUri = \"https://cassugstorageaccount.blob.core.windows.net/cassugbacpac/aw_bacpac.bacpac\"\r\n",
                "$StorageKey = (Get-AzStorageAccountKey -ResourceGroupName $ResourceGroupName -AccountName $storageAccountName)[0].Value\r\n",
                "$securePassword = ConvertTo-SecureString -String $password -AsPlainText -Force\r\n",
                "\r\n",
                "$importRequest = New-AzSqlDatabaseImport `\r\n",
                "  -ResourceGroupName $ResourceGroupName `\r\n",
                "  -ServerName $sqlServerName  `\r\n",
                "  -DatabaseName $databasebacpac_1 `\r\n",
                "  -StorageKeytype $StorageKeyType `\r\n",
                "  -StorageKey $StorageKey `\r\n",
                "  -StorageUri $StorageUri `\r\n",
                "  -AdministratorLogin $adminlogin `\r\n",
                "  -AdministratorLoginPassword $securePassword `\r\n",
                "  -Edition Standard `\r\n",
                "  -ServiceObjectiveName \"S4\" `\r\n",
                "  -DatabaseMaxSizeBytes 5368709120"
            ],
            "metadata": {
                "azdata_cell_guid": "d4c552ba-86f5-4f51-802c-7e670d24f66c",
                "tags": []
            },
            "outputs": [],
            "execution_count": null
        },
        {
            "cell_type": "code",
            "source": [
                "Get-AzSqlDatabaseImportExportStatus -OperationStatusLink $importRequest.OperationStatusLink"
            ],
            "metadata": {
                "azdata_cell_guid": "c5028824-a56c-410f-920e-882ac6d19a08"
            },
            "outputs": [],
            "execution_count": null
        },
        {
            "cell_type": "markdown",
            "source": [
                "Restoring Database using bacpac file from local storage\n",
                "\n",
                "Change the Azure SQL Server Name"
            ],
            "metadata": {
                "azdata_cell_guid": "470e45f8-6345-4238-815e-78992215982b"
            },
            "attachments": {}
        },
        {
            "cell_type": "code",
            "source": [
                "Set-Location -Path \"C:\\Program Files (x86)\\Microsoft SQL Server\\140\\DAC\\bin\\\"\r\n",
                "\r\n",
                ".\\sqlpackage.exe /a:Import /sf:C:\\temp\\aw_bacpac.bacpac /tsn:cassugsqlserver.database.windows.net `\r\n",
                "/tdn:$databasebacpac_2 `\r\n",
                "/tu:taiob@cassugsqlserver /tp:$password"
            ],
            "metadata": {
                "azdata_cell_guid": "c69076a0-aab6-4dff-9b52-c564d2a97375"
            },
            "outputs": [],
            "execution_count": null
        },
        {
            "cell_type": "markdown",
            "source": [
                "Cleaning up all resources by deleting the resource group"
            ],
            "metadata": {
                "azdata_cell_guid": "c0a85237-d61b-47f2-b7ab-b14ecc7e7452"
            },
            "attachments": {}
        },
        {
            "cell_type": "code",
            "source": [
                "Remove-AzResourceGroup -ResourceGroupName $resourceGroupName -Force"
            ],
            "metadata": {
                "azdata_cell_guid": "5e000b59-71de-486a-8191-f534b6e5cdd3",
                "extensions": {
                    "azuredatastudio": {
                        "views": []
                    }
                }
            },
            "outputs": [],
            "execution_count": null
        }
    ]
}