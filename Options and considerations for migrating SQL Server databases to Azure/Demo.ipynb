{
    "metadata": {
        "kernelspec": {
            "name": "powershell",
            "display_name": "PowerShell",
            "language": "powershell"
        },
        "language_info": {
            "name": "powershell",
            "codemirror_mode": "shell",
            "mimetype": "text/x-sh",
            "file_extension": ".ps1"
        },
        "extensions": {
            "azuredatastudio": {
                "version": 1,
                "views": []
            }
        },
        "polyglot_notebook": {
            "kernelInfo": {
                "defaultKernelName": "csharp",
                "items": [
                    {
                        "aliases": [],
                        "name": "csharp"
                    }
                ]
            }
        }
    },
    "nbformat_minor": 2,
    "nbformat": 4,
    "cells": [
        {
            "cell_type": "markdown",
            "source": [
                "# Demo.ipynb\n",
                "\n",
                "Written by Taiob Ali  \n",
                "SqlWorldWide.com\n",
                "\n",
                "This script will create:\n",
                "\n",
                "- A resource group\n",
                "- One logical Azure SQL server\n",
                "- Multiple empty Azure SQL Databases\n",
                "- One Storage Account\n",
                "- One Storage Container\n",
                "- Azure Migrate Service\n",
                "- Azure Database Migration Service\n",
                "\n",
                "Reference I took help from:\n",
                "\n",
                "- [Azure PowerShell samples for Azure SQL Database and Azure SQL Managed Instance](https:\\docs.microsoft.com\\en-us\\azure\\azure-sql\\database\\powershell-script-content-guide?tabs=single-database)\n",
                "- [PowerShell One Liner: Get External/Public IP Address](https:\\gallery.technet.microsoft.com\\scriptcenter\\Get-ExternalPublic-IP-c1b601bb)\n",
                "- [Azure SQL Database and Azure Synapse IP firewall rules](https:\\docs.microsoft.com\\en-us\\azure\\azure-sql\\database\\firewall-configure#manage-firewall-rules-using-azure-cli)\n",
                "- [Use PowerShell to create a managed instance](https:\\docs.microsoft.com\\en-us\\azure\\azure-sql\\managed-instance\\scripts\\create-configure-managed-instance-powershell)\n",
                "\n",
                "Pre-Requsite:\n",
                "\n",
                "- Install Visual Studio\n",
                "- Install Azure Data Studio\n",
                "    - Azure SQL Migration Extension installed and enabled\n",
                "    - SQL Server Dacpac Extension installed and enabled\n",
                "- Create 'Azure Database Migration Service'  with Self-hosted Integration Runtime\n",
                "- Azure storage explorer\n",
                "- sqlpackage installed\n",
                "- Reuired AZ Module installed\n",
                "- Restore AdventureWorks database on a local SQL 2022 using backup from [here](.\\.%20https:%5Clearn.microsoft.com%5Cen-us%5Csql%5Csamples%5Cadventureworks-install-configure)\n",
                "- Create a backup of Source database with checksum to the above storage container\n",
                "- Create a Azure SQL virtual machine\n",
                "    - Make approprite inbound port rules\n",
                "- Install Data Migration Assistant (Deprecated)"
            ],
            "metadata": {
                "azdata_cell_guid": "1823befc-a18c-47a9-bd29-765b5ca7108e",
                "extensions": {
                    "azuredatastudio": {
                        "views": []
                    }
                }
            },
            "attachments": {}
        },
        {
            "cell_type": "markdown",
            "source": [
                "PowerShell 7.0.6 LTS and PowerShell 7.1.3 or higher is the recommended version of PowerShell for use with the Az PowerShell module on all platforms.  \n",
                "Check your PowerShell version and update as required"
            ],
            "metadata": {
                "azdata_cell_guid": "1c266381-89b6-4585-8e3c-35ad39867f71",
                "extensions": {
                    "azuredatastudio": {
                        "views": []
                    }
                }
            },
            "attachments": {}
        },
        {
            "cell_type": "code",
            "source": [
                "$PSVersionTable.PSVersion"
            ],
            "metadata": {
                "dotnet_interactive": {
                    "language": "pwsh"
                },
                "polyglot_notebook": {
                    "kernelName": "pwsh"
                },
                "vscode": {
                    "languageId": "polyglot-notebook"
                },
                "azdata_cell_guid": "6aeb1239-869b-407f-af97-3ed6fcea1c05",
                "language": "powershell"
            },
            "outputs": [],
            "execution_count": null
        },
        {
            "cell_type": "markdown",
            "source": [
                "If you've disabled module autoloading, manually import the module with `Import-Module -Name Az`. Because of the way the module is structured, this can take a few seconds."
            ],
            "metadata": {
                "azdata_cell_guid": "9da8fc95-ba8b-4b55-bf49-0ea5db203c8e"
            },
            "attachments": {}
        },
        {
            "cell_type": "code",
            "source": [
                "Import-Module -Name Az"
            ],
            "metadata": {
                "dotnet_interactive": {
                    "language": "pwsh"
                },
                "polyglot_notebook": {
                    "kernelName": "pwsh"
                },
                "vscode": {
                    "languageId": "polyglot-notebook"
                },
                "azdata_cell_guid": "f15a3513-d260-4c49-a696-d5a706ff6833",
                "language": "powershell"
            },
            "outputs": [],
            "execution_count": null
        },
        {
            "cell_type": "markdown",
            "source": [
                "Sign in to Azure"
            ],
            "metadata": {
                "azdata_cell_guid": "9e7474e8-6a71-4260-8172-fe2de8d08d41",
                "extensions": {
                    "azuredatastudio": {
                        "views": []
                    }
                }
            }
        },
        {
            "cell_type": "markdown",
            "source": [
                "If you need to see the list of your subscription\n",
                "\n",
                "```\n",
                "$SubscriptionList=Get-AzSubscription$SubscriptionList\n",
                "```"
            ],
            "metadata": {
                "azdata_cell_guid": "7acdd1cc-7ce4-4e87-a23d-f93e1d7b8dac",
                "extensions": {
                    "azuredatastudio": {
                        "views": []
                    }
                }
            },
            "attachments": {}
        },
        {
            "cell_type": "code",
            "source": [
                "Update-AzConfig -EnableLoginByWam $false\n",
                "$subscriptionId = \"6f8db000-8416-43f0-a2db-cbfb7c945982\"\n",
                "$tenantId = \"d5b50601-6698-4f8f-beb6-1799fee4dc80\"\n",
                "Connect-AzAccount -DeviceCode -TenantId $tenantId -SubscriptionId $subscriptionId "
            ],
            "metadata": {
                "dotnet_interactive": {
                    "language": "pwsh"
                },
                "polyglot_notebook": {
                    "kernelName": "pwsh"
                },
                "vscode": {
                    "languageId": "polyglot-notebook"
                },
                "azdata_cell_guid": "b298fae0-8fbe-478a-8637-f5b5e0d52000",
                "language": "powershell",
                "tags": []
            },
            "outputs": [],
            "execution_count": null
        },
        {
            "cell_type": "markdown",
            "source": [
                "Declare Variables"
            ],
            "metadata": {
                "azdata_cell_guid": "5830f159-43dd-474e-8e4d-d7cfab8ba744",
                "extensions": {
                    "azuredatastudio": {
                        "views": []
                    }
                }
            }
        },
        {
            "cell_type": "code",
            "source": [
                "$resourceGroupName = \"taliresourcegroup\"\n",
                "$location = \"East US2\" \n",
                "$sqlServerName = \"talisqlserver\"\n",
                "$databaseDma = \"databaseDma\"\n",
                "$databaseVS = \"databaseVisualStudio\"\n",
                "\n",
                "$azureMigrateName = \"taliAzureMigrate\"\n",
                "$vNetName = \"migrationServiceVnet\"\n",
                "$databaseMigrationService = \"talidms\"\n",
                "\n",
                "$storageAccountName = \"talistorageaccount\"\n",
                "$storageContainer = \"talibacpac\"\n",
                "$StorageKeyType = \"StorageAccessKey\"\n",
                "$databasebacpac_1 = \"taliDatabasebacpac1\"\n",
                "$databasebacpac_2 = \"taliDatabasebacpac2\"\n",
                "\n",
                "$ipinfo = Invoke-RestMethod http://ipinfo.io/json \n",
                "$startip = $ipinfo.ip\n",
                "$endip = $ipinfo.ip \n",
                "$adminlogin = \"taiob\"\n",
                "$password = Get-Content \"C:\\password.txt\""
            ],
            "metadata": {
                "dotnet_interactive": {
                    "language": "pwsh"
                },
                "polyglot_notebook": {
                    "kernelName": "pwsh"
                },
                "vscode": {
                    "languageId": "polyglot-notebook"
                },
                "azdata_cell_guid": "a49eadeb-d0b7-46a1-b344-40390e95fdec",
                "language": "powershell"
            },
            "outputs": [],
            "execution_count": null
        },
        {
            "cell_type": "markdown",
            "source": [
                "Check if Resource group exists. If exist delete the resource group.\n",
                "\n",
                "Create a new Resource group"
            ],
            "metadata": {
                "azdata_cell_guid": "ddcef94b-4f17-40a5-914e-f37fcd7c081e",
                "extensions": {
                    "azuredatastudio": {
                        "views": []
                    }
                }
            }
        },
        {
            "cell_type": "code",
            "source": [
                "$resGrpChk = Get-AzResourceGroup `\n",
                "    -Name $resourceGroupName `\n",
                "    -ErrorVariable notPresent `\n",
                "    -ErrorAction SilentlyContinue\n",
                "\n",
                "if ($resGrpChk) {  \n",
                "    #Delete resource group\n",
                "    Remove-AzResourceGroup `\n",
                "        -Name $resourceGroupName `\n",
                "        -Force\n",
                "    Write-Host 'Resource group deleted' `\n",
                "        -fore white `\n",
                "        -back green\n",
                "}\n",
                "\n",
                "New-AzResourceGroup `\n",
                "-Name $resourceGroupName `\n",
                "-Location $location   \n",
                "Write-Host 'Resource group created' `\n",
                "    -fore white `\n",
                "    -back green\n",
                ""
            ],
            "metadata": {
                "dotnet_interactive": {
                    "language": "pwsh"
                },
                "polyglot_notebook": {
                    "kernelName": "pwsh"
                },
                "vscode": {
                    "languageId": "polyglot-notebook"
                },
                "azdata_cell_guid": "d95550a8-8c13-46ca-85a8-28f4aeb679a3",
                "language": "powershell"
            },
            "outputs": [],
            "execution_count": null
        },
        {
            "cell_type": "markdown",
            "source": [
                "Create a Azure SQL Server at Resource Group rgeuazbootcamp (East US)"
            ],
            "metadata": {
                "azdata_cell_guid": "b31c4f9d-839c-4fd0-8205-12079a662819",
                "extensions": {
                    "azuredatastudio": {
                        "views": []
                    }
                }
            },
            "attachments": {}
        },
        {
            "cell_type": "code",
            "source": [
                "New-AzSqlServer `\n",
                "  -ResourceGroupName $resourceGroupName `\n",
                "  -ServerName $sqlServerName `\n",
                "  -Location $location `\n",
                "  -SqlAdministratorCredentials $(New-Object -TypeName System.Management.Automation.PSCredential `\n",
                "  -ArgumentList $adminlogin, $(ConvertTo-SecureString -String $password -AsPlainText -Force)) "
            ],
            "metadata": {
                "dotnet_interactive": {
                    "language": "pwsh"
                },
                "polyglot_notebook": {
                    "kernelName": "pwsh"
                },
                "vscode": {
                    "languageId": "polyglot-notebook"
                },
                "azdata_cell_guid": "8fdba7cb-5c84-4b7e-af1d-fe481007fbe6",
                "language": "powershell"
            },
            "outputs": [],
            "execution_count": null
        },
        {
            "cell_type": "markdown",
            "source": [
                "Configure Firewall rule for the above server"
            ],
            "metadata": {
                "azdata_cell_guid": "1e04510f-0f3a-4fa4-97c1-478fb93860aa",
                "extensions": {
                    "azuredatastudio": {
                        "views": []
                    }
                }
            }
        },
        {
            "cell_type": "code",
            "source": [
                "New-AzSqlServerFirewallRule `\n",
                "  -ResourceGroupName $resourceGroupName `\n",
                "  -ServerName $sqlServerName `\n",
                "  -FirewallRuleName \"taiobDemoMachine\" `\n",
                "  -StartIpAddress $startip `\n",
                "  -EndIpAddress $endip\n",
                "\n",
                "# This is done to allow access to Azure Services\n",
                "New-AzSqlServerFirewallRule `\n",
                "  -ResourceGroupName $resourceGroupName `\n",
                "  -ServerName $sqlServerName `\n",
                "  -FirewallRuleName \"AllowAzureService\" `\n",
                "  -StartIpAddress 0.0.0.0 `\n",
                "  -EndIpAddress 0.0.0.0"
            ],
            "metadata": {
                "dotnet_interactive": {
                    "language": "pwsh"
                },
                "polyglot_notebook": {
                    "kernelName": "pwsh"
                },
                "vscode": {
                    "languageId": "polyglot-notebook"
                },
                "azdata_cell_guid": "9a41633d-51ba-4c1b-b8cf-ea52f070f575",
                "language": "powershell"
            },
            "outputs": [],
            "execution_count": null
        },
        {
            "cell_type": "markdown",
            "source": [
                "Creating an Azure SQL Database to use with Data Migration Assistant\n",
                "\n",
                "Puchase Model: vCpu  \n",
                "Service Tier : General Purpose"
            ],
            "metadata": {
                "azdata_cell_guid": "70668868-21b5-4fcc-aa96-a478e970b96a",
                "extensions": {
                    "azuredatastudio": {
                        "views": []
                    }
                }
            },
            "attachments": {}
        },
        {
            "cell_type": "code",
            "source": [
                "New-Azsqldatabase  `\n",
                "  -ResourceGroupName $resourceGroupName `\n",
                "  -ServerName $sqlServerName `\n",
                "  -DatabaseName $databasedma `\n",
                "  -RequestedServiceObjectiveName \"GP_Gen5_2\" `\n",
                "  -MaxSizeBytes 5368709120"
            ],
            "metadata": {
                "dotnet_interactive": {
                    "language": "pwsh"
                },
                "polyglot_notebook": {
                    "kernelName": "pwsh"
                },
                "vscode": {
                    "languageId": "polyglot-notebook"
                },
                "azdata_cell_guid": "cc01b1bb-24f2-449b-b299-437f77b38dc9",
                "language": "powershell"
            },
            "outputs": [],
            "execution_count": null
        },
        {
            "cell_type": "markdown",
            "source": [
                "Creating an Azure SQL Database to use with Azure Database Migration Service\n",
                "\n",
                "Puchase Model: vCpu  \n",
                "Service Tier : General Purpose"
            ],
            "metadata": {
                "azdata_cell_guid": "f943d8ba-71b9-42ed-b23a-7699d36113a3"
            },
            "attachments": {}
        },
        {
            "cell_type": "code",
            "source": [
                "New-Azsqldatabase  `\n",
                "  -ResourceGroupName $resourceGroupName `\n",
                "  -ServerName $sqlServerName `\n",
                "  -DatabaseName $databaseMigrationService `\n",
                "  -RequestedServiceObjectiveName \"GP_Gen5_2\" `\n",
                "  -MaxSizeBytes 5368709120"
            ],
            "metadata": {
                "dotnet_interactive": {
                    "language": "pwsh"
                },
                "polyglot_notebook": {
                    "kernelName": "pwsh"
                },
                "vscode": {
                    "languageId": "polyglot-notebook"
                },
                "azdata_cell_guid": "47ffed18-4fb2-4f1f-9c78-1dd3864f00ce",
                "language": "powershell"
            },
            "outputs": [],
            "execution_count": null
        },
        {
            "cell_type": "markdown",
            "source": [
                "Creating an Azure SQL Database to use with Visual Studio Project\n",
                "\n",
                "Puchase Model: vCpu  \n",
                "Service Tier : General Purpose"
            ],
            "metadata": {
                "azdata_cell_guid": "ee574623-cb06-4450-ad26-6add1f2888fd"
            },
            "attachments": {}
        },
        {
            "cell_type": "code",
            "source": [
                "New-Azsqldatabase  `\n",
                "  -ResourceGroupName $resourceGroupName `\n",
                "  -ServerName $sqlServerName `\n",
                "  -DatabaseName $databaseVS `\n",
                "  -RequestedServiceObjectiveName \"GP_Gen5_2\" `\n",
                "  -MaxSizeBytes 5368709120"
            ],
            "metadata": {
                "dotnet_interactive": {
                    "language": "pwsh"
                },
                "polyglot_notebook": {
                    "kernelName": "pwsh"
                },
                "vscode": {
                    "languageId": "polyglot-notebook"
                },
                "azdata_cell_guid": "1cff247a-1dab-4f04-b548-bbef3da2a580",
                "language": "powershell"
            },
            "outputs": [],
            "execution_count": null
        },
        {
            "cell_type": "markdown",
            "source": [
                "Create storage account"
            ],
            "metadata": {
                "azdata_cell_guid": "97581784-c2b3-4969-a7b2-eb0c421a6231"
            },
            "attachments": {}
        },
        {
            "cell_type": "code",
            "source": [
                "$storageaccount = New-AzStorageAccount `\n",
                "-ResourceGroupName $resourceGroupName `\n",
                "-AccountName $storageAccountName `\n",
                "-Location $location `\n",
                "-SkuName Standard_GRS `\n",
                "-AllowBlobPublicAccess $true "
            ],
            "metadata": {
                "dotnet_interactive": {
                    "language": "pwsh"
                },
                "polyglot_notebook": {
                    "kernelName": "pwsh"
                },
                "vscode": {
                    "languageId": "polyglot-notebook"
                },
                "azdata_cell_guid": "0e38bf7f-0d1d-43cf-b37c-4e093afd0cdc",
                "language": "powershell"
            },
            "outputs": [],
            "execution_count": null
        },
        {
            "cell_type": "markdown",
            "source": [
                "Create a Azure Storage Container"
            ],
            "metadata": {
                "azdata_cell_guid": "55e62ad5-50fb-433d-900b-23f459184b93"
            },
            "attachments": {}
        },
        {
            "cell_type": "code",
            "source": [
                "New-AzStorageContainer -Name $storageContainer -Context $storageaccount.Context -Permission Container"
            ],
            "metadata": {
                "dotnet_interactive": {
                    "language": "pwsh"
                },
                "polyglot_notebook": {
                    "kernelName": "pwsh"
                },
                "vscode": {
                    "languageId": "polyglot-notebook"
                },
                "azdata_cell_guid": "6dc4225e-989c-4785-bbdc-3d301e377d04",
                "language": "powershell"
            },
            "outputs": [],
            "execution_count": null
        },
        {
            "cell_type": "markdown",
            "source": [
                "Create Azure Migrate Project\n",
                "\n",
                "Note: For location I am not using the variable. This service is not available in East US"
            ],
            "metadata": {
                "azdata_cell_guid": "efd0fd5c-8d80-48f7-85ac-80e944147f33"
            },
            "attachments": {}
        },
        {
            "cell_type": "code",
            "source": [
                "New-AzMigrateProject  `\n",
                "-Location \"Central US\" `\n",
                "-Name $azureMigrateName  `\n",
                "-ResourceGroupName $resourceGroupName"
            ],
            "metadata": {
                "dotnet_interactive": {
                    "language": "pwsh"
                },
                "polyglot_notebook": {
                    "kernelName": "pwsh"
                },
                "vscode": {
                    "languageId": "polyglot-notebook"
                },
                "azdata_cell_guid": "8327cd62-3c2a-4139-bc7f-4634dfb3e254",
                "language": "powershell"
            },
            "outputs": [],
            "execution_count": null
        },
        {
            "cell_type": "markdown",
            "source": [
                "Create an Azure Database Migration Service  \n",
                "This will create a classic one which will be deprecated. I am working on to update this section to create the new <span style=\"color: var(--vscode-foreground);\">Azure Database Migration Service.</span>"
            ],
            "metadata": {
                "azdata_cell_guid": "2106dfb5-8660-47cf-af40-6771e69aea3e"
            },
            "attachments": {}
        },
        {
            "cell_type": "markdown",
            "source": [
                "[New-AzDataMigrationSqlService](https:\\learn.microsoft.com\\en-us\\powershell\\module\\az.datamigration\\new-azdatamigrationsqlservice?view=azps-11.1.0)\n",
                "\n",
                "[Migrate databases at scale using automation (Preview)](https:\\learn.microsoft.com\\en-us\\azure\\dms\\migration-dms-powershell-cli)"
            ],
            "metadata": {
                "azdata_cell_guid": "39bd0fc0-a8e2-4de1-a9ef-e8a11b89ee47",
                "language": "powershell"
            },
            "attachments": {}
        },
        {
            "cell_type": "code",
            "source": [
                " New-AzDataMigrationSqlService `\r\n",
                " -ResourceGroupName  $resourceGroupName `\r\n",
                " -SqlMigrationServiceName $databaseMigrationService `\r\n",
                " -Location $location"
            ],
            "metadata": {
                "dotnet_interactive": {
                    "language": "pwsh"
                },
                "polyglot_notebook": {
                    "kernelName": "pwsh"
                },
                "vscode": {
                    "languageId": "polyglot-notebook"
                },
                "azdata_cell_guid": "b8690f62-f196-4a4e-a24d-699aaaf9f891",
                "language": "powershell"
            },
            "outputs": [],
            "execution_count": null
        },
        {
            "cell_type": "markdown",
            "source": [
                "# Demo Starts here"
            ],
            "metadata": {
                "azdata_cell_guid": "2f9d84a7-ac5b-46bc-8fe8-7a202503bfcf",
                "extensions": {
                    "azuredatastudio": {
                        "views": []
                    }
                }
            }
        },
        {
            "cell_type": "markdown",
            "source": [
                "## Show Assessment and Migration:\n",
                "\n",
                "- SQL Server Management Studio\n",
                "    \n",
                "    - Deploy a Database By Using a DAC\n",
                "- Azure Database Migration Service\n",
                "    \n",
                "    - Migrate on-premises database to Azure to Azure SQL Database (offline only)\n",
                "    - Import Schema from On-premises database\n",
                "        - Use \"SQL Server Dacpac\" extension from Azure Data Studio\n",
                "    - <span style=\"font-size: 14px;\">Export data to above schema only database</span>\n",
                "    - <span style=\"color: var(--vscode-foreground);\">Improt data from On-premises database</span>\n",
                "        - <span style=\"color: var(--vscode-foreground);\">Migrate on-premises database to Azure SQL Virtual Machine (offline)</span>\n",
                "        - <span style=\"color: var(--vscode-foreground);\">Migrate on-premises database&nbsp;to Azure SQL Virtual Machine&nbsp;(online)</span>\n",
                "- Azure Data Studio Extension \"Azure SQL Migration\"\n",
                "    \n",
                "    - Migrate on-premises database to a Azure SQL Database (offline only)\n",
                "        - Import Schema from On-premises database\n",
                "        - Use \"SQL Server Dacpac\" extension from Azure Data Studio\n",
                "    - Migrate on-premises database to Azure SQL Virtual Machine (offline)\n",
                "    - Migrate on-premises database to Azure SQL Virtual Machine (online)\n",
                "- SqlPackage generate bacpac file\n",
                "    \n",
                "    - bacpac file to Azure storage \n",
                "    - bacpac file to Local storage\n",
                "    - Restore from Local storage\n",
                "    - Restore from Azure storage\n",
                "- Visual Studio Project (Schema only)\n",
                "    \n",
                "    - While publishing under 'Advanced Publish Settings' enable 'Allow incompatible platform'\n",
                "    - For smaller databases you can do data migration using tools--\\>SQL Server--\\>New Data Comparision.\n",
                "- Data Migration Assistant (Deprecated)\n",
                "    \n",
                "    - Assessment\n",
                "        - Export to Azure Migrate\n",
                "    - Migration\n",
                "\n",
                "### Use below code while showing online migration\n",
                "```\n",
                "USE master;\n",
                "GO\n",
                "\n",
                "/*\n",
                "Set database to full recovery model\n",
                "*/\n",
                "ALTER DATABASE AdventureWorks2022 SET RECOVERY FULL;\n",
                "GO\n",
                "\n",
                "/*\n",
                "Will create the table after taking full back and before running transactoin log backup.\n",
                "*/\n",
                "USE [AdventureWorks2022];\n",
                "GO\n",
                "DROP TABLE IF EXISTS [dbo].[migrationTest];\n",
                "GO\n",
                "\n",
                "/*\n",
                "Take a full backup to blob storage account\n",
                "*/\n",
                "BACKUP DATABASE [AdventureWorks2022] \n",
                "TO  URL = N'https://talistorageaccount.blob.core.windows.net/talibacpac/adventureworks2022_backup.bak' WITH NOFORMAT, NOINIT,  NAME = N'AdventureWorks2022-Full Database Backup', NOSKIP, NOREWIND, NOUNLOAD,  STATS = 10;\n",
                "GO\n",
                "\n",
                "/*\n",
                "Start a online migration from ADS\n",
                "*/\n",
                "\n",
                "/*\n",
                "Create a table to confirm the transaction logs are restored\n",
                "*/\n",
                "USE [AdventureWorks2022];\n",
                "GO\n",
                "SET ANSI_NULLS ON;\n",
                "GO\n",
                "SET QUOTED_IDENTIFIER ON;\n",
                "GO\n",
                "CREATE TABLE [dbo].[migrationTest](\n",
                "\t[test] [smallint] NULL\n",
                ") ON [PRIMARY];\n",
                "GO\n",
                "\n",
                "/*\n",
                "Take a log backup to blob storage account\n",
                "*/\n",
                "\n",
                "BACKUP LOG [AdventureWorks2022]\n",
                "TO  URL = N'https://talistorageaccount.blob.core.windows.net/talibacpac/adventureworks2022_tlog_backup.trn' \n",
                "WITH NOFORMAT, \n",
                "NAME = N'AdventureWorks-transaction log Backup', NOSKIP, NOREWIND, NOUNLOAD,  STATS = 10;\n",
                "GO\n",
                "\n",
                "/*\n",
                "Cutover the the migration once last log in restore\n",
                "Check if dbo.migrationTest table exist\n",
                "If required set the database to simple recovery model\n",
                "ALTER DATABASE AdventureWorks2022 SET RECOVERY SIMPLE;\n",
                "GO\n",
                "*/\n",
                "```"
            ],
            "metadata": {
                "azdata_cell_guid": "225e7de5-a20c-4650-8256-9cd998567212"
            },
            "attachments": {}
        },
        {
            "cell_type": "markdown",
            "source": [
                "Changing to folder where .sqlpackage binary is  \n",
                "Exporting database to a .bacpac file to local storage"
            ],
            "metadata": {
                "azdata_cell_guid": "8b6bf1f9-532c-4ac8-a5c3-7608ac6ffd14"
            },
            "attachments": {}
        },
        {
            "cell_type": "code",
            "source": [
                "# Delete file if exists\n",
                "$FileName = \"C:\\temp\\aw_bacpac.bacpac\"\n",
                "\n",
                "if (Test-Path $FileName) {\n",
                "  Remove-Item $FileName\n",
                "  write-host \"$FileName has been deleted\"\n",
                "}\n",
                "\n",
                "else {\n",
                "  Write-host \"$FileName doesn't exist\"\n",
                "}"
            ],
            "metadata": {
                "dotnet_interactive": {
                    "language": "pwsh"
                },
                "polyglot_notebook": {
                    "kernelName": "pwsh"
                },
                "vscode": {
                    "languageId": "polyglot-notebook"
                },
                "azdata_cell_guid": "140988ca-ac0e-4433-89de-ae971506095c",
                "language": "powershell"
            },
            "outputs": [],
            "execution_count": null
        },
        {
            "cell_type": "code",
            "source": [
                "SqlPackage.exe /Action:Export /SourceServerName:\"taiob2\" `\n",
                " /SourceTrustServerCertificate:True `\n",
                " /SourceDatabaseName:AdventureWorks2022 `\n",
                " /TargetFile:\"C:\\temp\\aw_bacpac.bacpac\" "
            ],
            "metadata": {
                "dotnet_interactive": {
                    "language": "pwsh"
                },
                "polyglot_notebook": {
                    "kernelName": "pwsh"
                },
                "vscode": {
                    "languageId": "polyglot-notebook"
                },
                "azdata_cell_guid": "23d71295-d571-4253-a85e-a3498b76ad7f",
                "language": "powershell"
            },
            "outputs": [],
            "execution_count": null
        },
        {
            "cell_type": "markdown",
            "source": [
                "- Copying the bacpac file to storage container using [Azure Storage Explorer](https://azure.microsoft.com/en-us/features/storage-explorer/)\n",
                "- You can do the same with [AzCopy](https://docs.microsoft.com/en-us/azure/storage/common/storage-use-azcopy-v10)\n",
                "- Restoring Database using bacpac file from storage container"
            ],
            "metadata": {
                "azdata_cell_guid": "85321a06-eb78-40d4-9d3e-4996480daf9e"
            },
            "attachments": {}
        },
        {
            "cell_type": "code",
            "source": [
                "$StorageUri = \"https://talistorageaccount.blob.core.windows.net/talibacpac/aw_bacpac.bacpac\"\n",
                "$StorageKey = (Get-AzStorageAccountKey -ResourceGroupName $ResourceGroupName -AccountName $storageAccountName)[0].Value\n",
                "$securePassword = ConvertTo-SecureString -String $password -AsPlainText -Force\n",
                "\n",
                "$importRequest = New-AzSqlDatabaseImport `\n",
                "  -ResourceGroupName $ResourceGroupName `\n",
                "  -ServerName $sqlServerName  `\n",
                "  -DatabaseName $databasebacpac_1 `\n",
                "  -StorageKeytype $StorageKeyType `\n",
                "  -StorageKey $StorageKey `\n",
                "  -StorageUri $StorageUri `\n",
                "  -AdministratorLogin $adminlogin `\n",
                "  -AdministratorLoginPassword $securePassword `\n",
                "  -Edition Standard `\n",
                "  -ServiceObjectiveName \"S4\" `\n",
                "  -DatabaseMaxSizeBytes 5368709120"
            ],
            "metadata": {
                "dotnet_interactive": {
                    "language": "pwsh"
                },
                "polyglot_notebook": {
                    "kernelName": "pwsh"
                },
                "vscode": {
                    "languageId": "polyglot-notebook"
                },
                "azdata_cell_guid": "d2993be7-ca83-4b82-b0c2-043268de3183",
                "language": "powershell"
            },
            "outputs": [],
            "execution_count": null
        },
        {
            "cell_type": "code",
            "source": [
                "Get-AzSqlDatabaseImportExportStatus -OperationStatusLink $importRequest.OperationStatusLink"
            ],
            "metadata": {
                "dotnet_interactive": {
                    "language": "pwsh"
                },
                "polyglot_notebook": {
                    "kernelName": "pwsh"
                },
                "vscode": {
                    "languageId": "polyglot-notebook"
                },
                "azdata_cell_guid": "e3431c50-15b8-4da2-817a-a8d29788d787",
                "language": "powershell"
            },
            "outputs": [],
            "execution_count": null
        },
        {
            "cell_type": "markdown",
            "source": [
                "Restoring Database using bacpac file from local storage\n",
                "\n",
                "Change the Azure SQL Server Name"
            ],
            "metadata": {
                "azdata_cell_guid": "470e45f8-6345-4238-815e-78992215982b"
            },
            "attachments": {}
        },
        {
            "cell_type": "code",
            "source": [
                "sqlpackage.exe /a:Import /sf:C:\\temp\\aw_bacpac.bacpac /tsn:talisqlserver.database.windows.net `\n",
                "/tdn:$databasebacpac_2 `\n",
                "/tu:taiob@talisqlserver /tp:$password"
            ],
            "metadata": {
                "dotnet_interactive": {
                    "language": "pwsh"
                },
                "polyglot_notebook": {
                    "kernelName": "pwsh"
                },
                "vscode": {
                    "languageId": "polyglot-notebook"
                },
                "azdata_cell_guid": "1128d528-1839-4a1a-99cf-5be212abefb8",
                "language": "powershell"
            },
            "outputs": [],
            "execution_count": null
        },
        {
            "cell_type": "markdown",
            "source": [
                "Cleaning up all resources by deleting the resource group"
            ],
            "metadata": {
                "azdata_cell_guid": "c0a85237-d61b-47f2-b7ab-b14ecc7e7452"
            },
            "attachments": {}
        },
        {
            "cell_type": "code",
            "source": [
                "Remove-AzResourceGroup -ResourceGroupName $resourceGroupName -Force"
            ],
            "metadata": {
                "dotnet_interactive": {
                    "language": "pwsh"
                },
                "polyglot_notebook": {
                    "kernelName": "pwsh"
                },
                "vscode": {
                    "languageId": "polyglot-notebook"
                },
                "azdata_cell_guid": "05841fbf-0d89-492a-afaa-a544bda46c8f",
                "language": "powershell"
            },
            "outputs": [],
            "execution_count": null
        }
    ]
}