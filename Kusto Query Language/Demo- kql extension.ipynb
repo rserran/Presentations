{
    "metadata": {
        "kernelspec": {
            "name": "SQL",
            "display_name": "SQL",
            "language": "sql"
        },
        "language_info": {
            "name": "kusto",
            "version": ""
        },
        "extensions": {
            "azuredatastudio": {
                "version": 1,
                "views": []
            }
        }
    },
    "nbformat_minor": 2,
    "nbformat": 4,
    "cells": [
        {
            "cell_type": "markdown",
            "source": [
                "# Demo KQL Extension\n",
                "\n",
                "## \n",
                "\n",
                "Written by Taiob  Ali\n",
                "\n",
                "SqlWorldWide.com"
            ],
            "metadata": {
                "azdata_cell_guid": "b0ab2ec4-093f-4208-9164-41eb7739fb03",
                "extensions": {
                    "azuredatastudio": {
                        "views": []
                    }
                }
            }
        },
        {
            "cell_type": "markdown",
            "source": [
                "# Connecting to Azure Data Explorer Cluster"
            ],
            "metadata": {
                "azdata_cell_guid": "d2a34c86-e59d-42a5-aa7a-4aeb87a964e2",
                "extensions": {
                    "azuredatastudio": {
                        "views": []
                    }
                }
            }
        },
        {
            "cell_type": "markdown",
            "source": [
                "- Change Kernel to '**Kusto**' \n",
                "- Select Connetion '**help.kusto.windows.net**'\n",
                "- Select Database '**Samples**'"
            ],
            "metadata": {
                "azdata_cell_guid": "dfc4bc43-ebfb-4f54-bfad-ddef04ef101a",
                "extensions": {
                    "azuredatastudio": {
                        "views": []
                    }
                }
            }
        },
        {
            "cell_type": "markdown",
            "source": [
                "## Query data"
            ],
            "metadata": {
                "azdata_cell_guid": "3cad986f-b87e-46e1-b070-c229098c7524",
                "extensions": {
                    "azuredatastudio": {
                        "views": []
                    }
                }
            }
        },
        {
            "cell_type": "code",
            "source": [
                "StormEvents\r\n",
                "| where isnotempty(EndLocation) \r\n",
                "| summarize event_count=count() by EndLocation\r\n",
                "| order by event_count"
            ],
            "metadata": {
                "azdata_cell_guid": "d0f8ff58-b9f5-4764-a688-46f724e6bfb7",
                "extensions": {
                    "azuredatastudio": {
                        "views": []
                    }
                }
            },
            "outputs": [],
            "execution_count": null
        },
        {
            "cell_type": "code",
            "source": [
                "StormEvents\r\n",
                "| summarize event_count=count(), mid = avg(BeginLat) by State\r\n",
                "| sort by mid\r\n",
                "| where event_count > 1800\r\n",
                "| project State, event_count"
            ],
            "metadata": {
                "azdata_cell_guid": "00b1af68-ab8a-42f9-9081-658ceff05817",
                "extensions": {
                    "azuredatastudio": {
                        "views": []
                    }
                }
            },
            "outputs": [],
            "execution_count": null
        },
        {
            "cell_type": "markdown",
            "source": [
                "# Connecting to Log Analytics Workspace\n",
                "\n",
                "## Ref: [Query data in Azure Monitor using Azure Data Explorer (Preview)](https://docs.microsoft.com/en-us/azure/data-explorer/query-monitor-data)"
            ],
            "metadata": {
                "azdata_cell_guid": "1064d549-b36d-4df0-b3b2-945b91d37ce0",
                "extensions": {
                    "azuredatastudio": {
                        "views": []
                    }
                }
            }
        },
        {
            "cell_type": "markdown",
            "source": [
                "## Query data\n",
                "\n",
                "Connection String:  '<span style=\"color: rgb(206, 145, 120); font-family: Consolas, &quot;Courier New&quot;, monospace; white-space: pre;\">https://ade.loganalytics.io' + Resource Id of your log analytics workspace</span>"
            ],
            "metadata": {
                "azdata_cell_guid": "1197fd12-9cac-4cc9-8078-02388fefa655",
                "extensions": {
                    "azuredatastudio": {
                        "views": []
                    }
                }
            }
        },
        {
            "cell_type": "code",
            "source": [
                "cluster('https://ade.loganalytics.io/subscriptions/18d92f52-ac34-4379-ab8b-5a5106f1c54e/resourcegroups/sqlalertdemo1/providers/microsoft.operationalinsights/workspaces/sqlalertdemo2').database('Sqlalertdemo2').AzureDiagnostics | take 10"
            ],
            "metadata": {
                "azdata_cell_guid": "c780a7f9-f30b-43b8-94ec-e1dade763ee6",
                "extensions": {
                    "azuredatastudio": {
                        "views": []
                    }
                }
            },
            "outputs": [],
            "execution_count": null
        },
        {
            "cell_type": "code",
            "source": [
                "cluster('https://ade.loganalytics.io/subscriptions/18d92f52-ac34-4379-ab8b-5a5106f1c54e/resourcegroups/sqlalertdemo1/providers/microsoft.operationalinsights/workspaces/sqlalertdemo2').database('Sqlalertdemo2').AzureDiagnostics \r\n",
                "| where LogicalServerName_s == \"sqlalertdemoserver\"\r\n",
                "| where TimeGenerated >= ago(5d)\r\n",
                "| summarize count() by Category"
            ],
            "metadata": {
                "azdata_cell_guid": "eb39b0af-256b-4ad3-b8c8-a4dd72f16a5d",
                "extensions": {
                    "azuredatastudio": {
                        "views": []
                    }
                }
            },
            "outputs": [],
            "execution_count": null
        }
    ]
}