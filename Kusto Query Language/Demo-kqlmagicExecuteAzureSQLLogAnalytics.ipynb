{
    "metadata": {
        "kernelspec": {
            "name": "python3",
            "display_name": "Python 3 (ipykernel)",
            "language": "python"
        },
        "language_info": {
            "name": "python",
            "version": "3.8.10",
            "mimetype": "text/x-python",
            "codemirror_mode": {
                "name": "ipython",
                "version": 3
            },
            "pygments_lexer": "ipython3",
            "nbconvert_exporter": "python",
            "file_extension": ".py"
        },
        "extensions": {
            "azuredatastudio": {
                "version": 1,
                "views": []
            }
        }
    },
    "nbformat_minor": 2,
    "nbformat": 4,
    "cells": [
        {
            "cell_type": "markdown",
            "source": [
                "# Using Kqlmagic to analyze Azure SQL logs and metrics\n",
                "\n",
                "Written by:  Julie Koesmarno\n",
                "\n",
                "Original Notebook: [Using Kqlmagic to analyze Azure SQL logs and metrics](https://github.com/MsSQLGirl/jubilant-data-wizards/blob/main/Simple%20Demo/Parameterization/SQLDBLog/AzureSQLLogsAndMetricsWithLogAnalytics.ipynb)\n",
                "\n",
                "Modifed by: Taiob  Ali  \n",
                "\n",
                "  \n",
                "\n",
                "There are two main tables in Azure Log Analytics (Azure Monitor Logs) workspace that capture Azure SQL events:\n",
                "\n",
                "1. AzureDiagnostics\n",
                "2. AzureMetric"
            ],
            "metadata": {
                "azdata_cell_guid": "2e215b87-477c-47c1-88fd-15701f9d849c",
                "extensions": {
                    "azuredatastudio": {
                        "views": []
                    }
                }
            }
        },
        {
            "cell_type": "markdown",
            "source": [
                "## 1. Connect to Log Analytics workspace\r\n",
                "\r\n",
                "Workspace is similar to what a database is to SQL. You connect to Log Analytics workspace to start querying data. \r\n",
                "\r\n",
                "### 1.1 Load Kqlmagic\r\n",
                "Need to load Kqlmagic first before we can start writing queries."
            ],
            "metadata": {
                "azdata_cell_guid": "62a95fa9-3573-46fc-ba99-f8ea5ba0ea05",
                "extensions": {
                    "azuredatastudio": {
                        "views": []
                    }
                }
            }
        },
        {
            "cell_type": "code",
            "source": [
                "!pip install Kqlmagic --no-cache-dir --upgrade"
            ],
            "metadata": {
                "azdata_cell_guid": "0e450b28-f974-4776-b257-94b6fcd3c77a",
                "extensions": {
                    "azuredatastudio": {
                        "views": []
                    }
                }
            },
            "outputs": [],
            "execution_count": null
        },
        {
            "cell_type": "code",
            "source": [
                "%reload_ext Kqlmagic"
            ],
            "metadata": {
                "azdata_cell_guid": "63832e62-7f15-4a78-ad31-43a6d90f0817",
                "language": "markdown",
                "extensions": {
                    "azuredatastudio": {
                        "views": []
                    }
                }
            },
            "outputs": [],
            "execution_count": null
        },
        {
            "cell_type": "markdown",
            "source": [
                "### 1.2 Connect to the desired Log Analytics workspace"
            ],
            "metadata": {
                "azdata_cell_guid": "1ccf6cc8-49df-4c8c-8cf4-08b36776ec78",
                "extensions": {
                    "azuredatastudio": {
                        "views": []
                    }
                }
            }
        },
        {
            "cell_type": "code",
            "source": [
                "# Initialize workspace ID to connect to, to analyzie Azure SQL log data\r\n",
                "\r\n",
                "workspaceID = '064d87f9-3f2c-47c4-99b3-bf84099d2ad5'"
            ],
            "metadata": {
                "azdata_cell_guid": "9e1a945d-2fc0-41e3-ab04-7456a2e25ac5",
                "tags": [
                    "parameters"
                ],
                "extensions": {
                    "azuredatastudio": {
                        "views": []
                    }
                }
            },
            "outputs": [],
            "execution_count": null
        },
        {
            "cell_type": "code",
            "source": [
                "%kql loganalytics://code;workspace=workspaceID;alias=\"Sqlalertdemo2\" -try-azcli-login-by-profile"
            ],
            "metadata": {
                "azdata_cell_guid": "4fc45ae4-4169-457e-a761-8c9c09f083e0"
            },
            "outputs": [],
            "execution_count": null
        },
        {
            "cell_type": "markdown",
            "source": [
                "## 2. Analyze events by Diagnostic Settings\n",
                "\n",
                "Let's do a simple query first to analyze the number of events by Operation Name. \n",
                "\n",
                "> **Note**: Each row in AzureDiagnostic represents an event for specific Operation or category. Some SQL actions may result in generating multiple events of different types.\n",
                "\n",
                ""
            ],
            "metadata": {
                "azdata_cell_guid": "eb6417a2-3f1d-4d21-9c2d-1ccd9f65f935",
                "extensions": {
                    "azuredatastudio": {
                        "views": []
                    }
                }
            }
        },
        {
            "cell_type": "code",
            "source": [
                "%%kql \r\n",
                "AzureDiagnostics\r\n",
                "| summarize count() by OperationName"
            ],
            "metadata": {
                "azdata_cell_guid": "e0d388fb-3ba1-4579-81d4-e46b41063738",
                "extensions": {
                    "azuredatastudio": {
                        "views": []
                    }
                }
            },
            "outputs": [],
            "execution_count": null
        },
        {
            "cell_type": "markdown",
            "source": [
                "\r\n",
                "The above query's equivalent in SQL is:\r\n",
                "```\r\n",
                "SELECT COUNT(*) AS [count_]\r\n",
                "FROM AzureDiagnostics\r\n",
                "GROUP BY OperationName\r\n",
                "```\r\n",
                ""
            ],
            "metadata": {
                "azdata_cell_guid": "70c58547-b1b4-4724-b20b-a5bfc11d4dc4",
                "extensions": {
                    "azuredatastudio": {
                        "views": []
                    }
                }
            }
        },
        {
            "cell_type": "markdown",
            "source": [
                "Count my Azure SQL DB events by category / diagnostic settings."
            ],
            "metadata": {
                "azdata_cell_guid": "8303ed68-ca14-4063-8464-9492f9304121",
                "extensions": {
                    "azuredatastudio": {
                        "views": []
                    }
                }
            }
        },
        {
            "cell_type": "code",
            "source": [
                "%%kql \r\n",
                "AzureDiagnostics\r\n",
                "| where LogicalServerName_s == \"sqlalertdemoserver\"\r\n",
                "| where TimeGenerated >= ago(5d)\r\n",
                "| summarize count() by Category\r\n",
                "| render barchart with (title = \"Azure SQL DB Diagnostic Category\")"
            ],
            "metadata": {
                "azdata_cell_guid": "6eaa8a7b-0b34-4a5a-b49b-80f9286539b2",
                "extensions": {
                    "azuredatastudio": {
                        "views": []
                    }
                }
            },
            "outputs": [],
            "execution_count": null
        },
        {
            "cell_type": "markdown",
            "source": [
                "## 3. Performance troubleshooting Query (from Azure Portal)\n",
                "\n",
                "Potentially a query or deadlock on the system that could lead to poor performance. The following is a query suggested by Azure Portal."
            ],
            "metadata": {
                "azdata_cell_guid": "3e2e80b4-88b4-494e-931e-15a4139389d7",
                "extensions": {
                    "azuredatastudio": {
                        "views": []
                    }
                }
            }
        },
        {
            "cell_type": "code",
            "source": [
                "%%kql \r\n",
                "AzureMetrics\r\n",
                "| where ResourceProvider == \"MICROSOFT.SQL\"\r\n",
                "| where TimeGenerated >=ago(1d)\r\n",
                "| where MetricName in ('deadlock')\r\n",
                "| parse _ResourceId with * \"/microsoft.sql/servers/\" Resource // subtract Resource name for _ResourceId\r\n",
                "| summarize Deadlock_max_60Mins = max(Maximum) by Resource, MetricName"
            ],
            "metadata": {
                "azdata_cell_guid": "d7bc7a1e-c348-448b-af47-b310a0fe55e7",
                "extensions": {
                    "azuredatastudio": {
                        "views": []
                    }
                }
            },
            "outputs": [],
            "execution_count": null
        },
        {
            "cell_type": "markdown",
            "source": [
                "# AzureMetrics\r\n",
                "\r\n",
                "This is a sample query to dig into AzureMetrics"
            ],
            "metadata": {
                "azdata_cell_guid": "188a4592-423d-44b6-ad47-902101257761",
                "extensions": {
                    "azuredatastudio": {
                        "views": []
                    }
                }
            }
        },
        {
            "cell_type": "code",
            "source": [
                "%%kql \r\n",
                "AzureMetrics\r\n",
                "| project-away TenantId, ResourceId, SubscriptionId, _ResourceId, ResourceGroup // Don't show sensitive columns :) \r\n",
                "| project TimeGenerated, MetricName, Total, Count, UnitName\r\n",
                "| take 10\r\n",
                ""
            ],
            "metadata": {
                "azdata_cell_guid": "1ac3f92f-b292-4c74-8020-47de93aebb6f",
                "extensions": {
                    "azuredatastudio": {
                        "views": []
                    }
                }
            },
            "outputs": [],
            "execution_count": null
        },
        {
            "cell_type": "markdown",
            "source": [
                "# AzureDiagnostics\n",
                "\n",
                "This is a sample query to dig into AzureDiagnostics. This table tends to have more details than AzureMetrics."
            ],
            "metadata": {
                "azdata_cell_guid": "b7d842a1-4228-48c8-ab44-126adf65d1ed",
                "extensions": {
                    "azuredatastudio": {
                        "views": []
                    }
                }
            }
        },
        {
            "cell_type": "code",
            "source": [
                "%%kql \r\n",
                "AzureDiagnostics\r\n",
                "| project-away TenantId, ResourceId, SubscriptionId, ResourceGroup, _ResourceId // Don't show sensitive columns :) \r\n",
                "| take 10"
            ],
            "metadata": {
                "azdata_cell_guid": "310413ed-93a0-4f80-ad80-9f7cd3e862da",
                "extensions": {
                    "azuredatastudio": {
                        "views": []
                    }
                }
            },
            "outputs": [],
            "execution_count": null
        },
        {
            "cell_type": "markdown",
            "source": [
                "## Analyze (non-audit) Events"
            ],
            "metadata": {
                "azdata_cell_guid": "19ee8932-d9da-4d77-ad62-005f38918138",
                "extensions": {
                    "azuredatastudio": {
                        "views": []
                    }
                }
            }
        },
        {
            "cell_type": "code",
            "source": [
                "%%kql \r\n",
                "AzureDiagnostics\r\n",
                "| summarize event_count=count() by bin(TimeGenerated, 2d), OperationName\r\n",
                "| where OperationName <> \"AuditEvent\"\r\n",
                "| render timechart "
            ],
            "metadata": {
                "azdata_cell_guid": "b0794fb8-5a03-47c1-90ea-1639a07d665b",
                "tags": [],
                "extensions": {
                    "azuredatastudio": {
                        "views": []
                    }
                }
            },
            "outputs": [],
            "execution_count": null
        },
        {
            "cell_type": "markdown",
            "source": [
                "## Deadlock Analysis"
            ],
            "metadata": {
                "azdata_cell_guid": "a1661835-fcb5-4af9-a353-4e7a0c70cb56",
                "extensions": {
                    "azuredatastudio": {
                        "views": []
                    }
                }
            }
        },
        {
            "cell_type": "code",
            "source": [
                "%%kql \r\n",
                "AzureDiagnostics\r\n",
                "| where OperationName == \"DeadlockEvent\"\r\n",
                "| project TimeGenerated, Category, Resource, OperationName, Type, deadlock_xml_s\r\n",
                "| sort by TimeGenerated desc\r\n",
                "| take 50"
            ],
            "metadata": {
                "azdata_cell_guid": "60a7b4cb-076c-4222-a80f-a6e11cf51a4e",
                "extensions": {
                    "azuredatastudio": {
                        "views": []
                    }
                }
            },
            "outputs": [],
            "execution_count": null
        },
        {
            "cell_type": "markdown",
            "source": [
                "Find the deadlock query plan"
            ],
            "metadata": {
                "azdata_cell_guid": "af8b22fa-3396-4e95-b1d6-1a96fa400f03",
                "extensions": {
                    "azuredatastudio": {
                        "views": []
                    }
                }
            }
        },
        {
            "cell_type": "code",
            "source": [
                "%%kql \r\n",
                "AzureDiagnostics\r\n",
                "| where OperationName == \"DeadlockEvent\"\r\n",
                "| extend d = parse_xml(deadlock_xml_s)\r\n",
                "| project TimeGenerated, QuerhPlanHash = d.deadlock.[\"process-list\"].process[0].executionStack.frame[0][\"@queryplanhash\"], QueryHash = d.deadlock.[\"process-list\"].process[0].executionStack.frame[0][\"@queryhash\"]\r\n",
                "//| sort by TimeGenerated desc\r\n",
                "| take 50"
            ],
            "metadata": {
                "azdata_cell_guid": "9b024cd2-768f-4ad4-9031-19f22dee9ecd",
                "tags": [],
                "extensions": {
                    "azuredatastudio": {
                        "views": []
                    }
                }
            },
            "outputs": [],
            "execution_count": null
        },
        {
            "cell_type": "markdown",
            "source": [
                "## Query Store Runtime Statistics Events"
            ],
            "metadata": {
                "azdata_cell_guid": "c793f2df-65ec-455a-8ec1-bd152d842158",
                "extensions": {
                    "azuredatastudio": {
                        "views": []
                    }
                }
            }
        },
        {
            "cell_type": "code",
            "source": [
                "%%kql \r\n",
                "AzureDiagnostics\r\n",
                "| where OperationName == \"QueryStoreRuntimeStatisticsEvent\"\r\n",
                "| project TimeGenerated, query_hash_s, statement_sql_handle_s, query_plan_hash_s\r\n",
                "| take 50"
            ],
            "metadata": {
                "azdata_cell_guid": "f99877c9-38ab-4907-b939-f2d8207fbc71",
                "extensions": {
                    "azuredatastudio": {
                        "views": []
                    }
                }
            },
            "outputs": [],
            "execution_count": null
        },
        {
            "cell_type": "markdown",
            "source": [
                "## Analyze Errors"
            ],
            "metadata": {
                "azdata_cell_guid": "92c68e36-87a2-4355-8d4b-56d001462d1e",
                "extensions": {
                    "azuredatastudio": {
                        "views": []
                    }
                }
            }
        },
        {
            "cell_type": "code",
            "source": [
                "%%kql \r\n",
                "AzureDiagnostics\r\n",
                "| where OperationName == \"ErrorEvent\"\r\n",
                "| extend ErrorNumber =  tostring(error_number_d) \r\n",
                "| summarize event_count=count() by EventTime = bin(TimeGenerated, 2d), ErrorNumber\r\n",
                "| render timechart "
            ],
            "metadata": {
                "azdata_cell_guid": "229543f7-f24c-48c1-a9d5-0a3d0d708e25",
                "extensions": {
                    "azuredatastudio": {
                        "views": []
                    }
                }
            },
            "outputs": [],
            "execution_count": null
        },
        {
            "cell_type": "markdown",
            "source": [
                "## Find Deleted table"
            ],
            "metadata": {
                "azdata_cell_guid": "6d450c21-8628-459c-b8c1-c37c8aba8d6d",
                "extensions": {
                    "azuredatastudio": {
                        "views": []
                    }
                }
            }
        },
        {
            "cell_type": "code",
            "source": [
                "%%kql \r\n",
                "AzureDiagnostics\r\n",
                "| where action_name_s in ('BATCH COMPLETED')\r\n",
                "| project TimeGenerated, Category, action_name_s, statement_s\r\n",
                "| where statement_s contains \"DROP TABLE\"\r\n",
                "| sort by TimeGenerated desc \r\n",
                "| take 10\r\n",
                "\r\n",
                ""
            ],
            "metadata": {
                "azdata_cell_guid": "3b6d232d-a2f4-441e-81f2-33ef59fdb4c6",
                "tags": [],
                "extensions": {
                    "azuredatastudio": {
                        "views": []
                    }
                }
            },
            "outputs": [],
            "execution_count": null
        }
    ]
}