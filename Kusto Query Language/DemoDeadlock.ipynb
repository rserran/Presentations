{
    "metadata": {
        "kernelspec": {
            "name": "SQL",
            "display_name": "SQL",
            "language": "sql"
        },
        "language_info": {
            "name": "sql",
            "version": ""
        }
    },
    "nbformat_minor": 2,
    "nbformat": 4,
    "cells": [
        {
            "cell_type": "markdown",
            "source": [
                "## DemoDeadlock.ipynb\n",
                "\n",
                "Written by Taiob  Ali\n",
                "\n",
                "SqlWorldWide.com"
            ],
            "metadata": {
                "azdata_cell_guid": "5f1403c0-eb21-45d4-ad72-0cb92f3b4611"
            }
        },
        {
            "cell_type": "markdown",
            "source": [
                " Connect to sqlalertdemoserver.database.windows.net  \n",
                "\n",
                "Change database context to sqlalertdemodatabase"
            ],
            "metadata": {
                "azdata_cell_guid": "cd640814-e3b2-4134-b450-6f83f2d2369c"
            }
        },
        {
            "cell_type": "code",
            "source": [
                "DROP TABLE IF EXISTS dbo.dt_Employees;\r\n",
                "\r\n",
                "CREATE TABLE dbo.dt_Employees (\r\n",
                "    EmpId INT IDENTITY,\r\n",
                "    EmpName VARCHAR(16),\r\n",
                "    Phone VARCHAR(16)\r\n",
                ");\r\n",
                "\r\n",
                "INSERT INTO dbo.dt_Employees (EmpName, Phone)\r\n",
                "VALUES ('Martha', '800-555-1212'), ('Jimmy', '619-555-8080');\r\n",
                "\r\n",
                "DROP TABLE IF EXISTS dbo.dt_Suppliers;\r\n",
                "\r\n",
                "CREATE TABLE dbo.dt_Suppliers(\r\n",
                "    SupplierId INT IDENTITY,\r\n",
                "    SupplierName VARCHAR(64),\r\n",
                "    Fax VARCHAR(16)\r\n",
                ");\r\n",
                "\r\n",
                "INSERT INTO dbo.dt_Suppliers (SupplierName, Fax)\r\n",
                "VALUES ('Acme', '877-555-6060'), ('Rockwell', '800-257-1234');"
            ],
            "metadata": {
                "azdata_cell_guid": "b1ab51d3-f744-4062-8d13-48b50717f5ed"
            },
            "outputs": [],
            "execution_count": null
        },
        {
            "cell_type": "markdown",
            "source": [
                "Run this in current window"
            ],
            "metadata": {
                "azdata_cell_guid": "6ba915d1-a668-46b9-ae1c-e4d5f045fa76"
            }
        },
        {
            "cell_type": "code",
            "source": [
                "BEGIN TRAN;\n",
                "UPDATE dbo.dt_Employees\n",
                "SET EmpName = 'Mary'\n",
                "WHERE EmpId = 1;"
            ],
            "metadata": {
                "azdata_cell_guid": "d59d34b5-99bb-4108-b8ed-fab405ce6b72"
            },
            "outputs": [],
            "execution_count": null
        },
        {
            "cell_type": "markdown",
            "source": [
                "<span style=\"font-size: 14px;\">Open another window and run this</span>"
            ],
            "metadata": {
                "azdata_cell_guid": "d535ab3f-f0d0-4875-949f-ff5ed64987c4"
            }
        },
        {
            "cell_type": "code",
            "source": [
                "BEGIN TRAN;\r\n",
                "UPDATE dbo.dt_Suppliers\r\n",
                "SET Fax = N'555-1212'\r\n",
                "WHERE SupplierId = 1;\r\n",
                "\r\n",
                "UPDATE dbo.dt_Employees\r\n",
                "SET Phone = N'555-9999'\r\n",
                "WHERE EmpId = 1;"
            ],
            "metadata": {
                "azdata_cell_guid": "55d797d8-1596-4ff4-8644-24d8208abddf"
            },
            "outputs": [],
            "execution_count": null
        },
        {
            "cell_type": "markdown",
            "source": [
                "Continue here"
            ],
            "metadata": {
                "azdata_cell_guid": "82f81def-fb21-4f2d-90bb-1e33cac2fdc8"
            }
        },
        {
            "cell_type": "code",
            "source": [
                "UPDATE dbo.dt_Suppliers\r\n",
                "SET Fax = N'555-1212'\r\n",
                "WHERE SupplierId = 1;"
            ],
            "metadata": {
                "azdata_cell_guid": "10880f27-67d6-4d53-88b5-2b99f9301269"
            },
            "outputs": [],
            "execution_count": null
        },
        {
            "cell_type": "markdown",
            "source": [
                "<span style=\"font-size: 14px;\">You will get a deadlock message in one of the window</span>\n",
                "\n",
                "<span style=\"font-size: 14px;\">Commit session&nbsp;</span> \n",
                "\n",
                "<span style=\"font-size: 14px;\">Clean up</span>"
            ],
            "metadata": {
                "azdata_cell_guid": "033ae1d2-0eda-492f-9e7b-8533595a8019"
            }
        },
        {
            "cell_type": "code",
            "source": [
                "COMMIT TRAN;"
            ],
            "metadata": {
                "azdata_cell_guid": "71331585-6078-4ee3-a9d0-bb32bfda0578"
            },
            "outputs": [],
            "execution_count": null
        },
        {
            "cell_type": "code",
            "source": [
                "DROP TABLE IF EXISTS dbo.dt_Suppliers;\r\n",
                "DROP TABLE IF EXISTS dbo.dt_Employees;"
            ],
            "metadata": {
                "azdata_cell_guid": "959699e7-321a-441c-b33c-4b5d227b9419"
            },
            "outputs": [],
            "execution_count": null
        },
        {
            "cell_type": "markdown",
            "source": [
                " After about 5~7 minuetes of running this deadlock should fire alert  that was configured by DemoKustoQueryLanguage.ipynb file"
            ],
            "metadata": {
                "azdata_cell_guid": "d7ac6fbb-54f6-4fee-90c8-a32ef84f1fea"
            }
        },
        {
            "cell_type": "markdown",
            "source": [
                "After dropping the two tables from above demo  \n",
                "Use the query below to find the drop event"
            ],
            "metadata": {
                "azdata_cell_guid": "b54b8e36-89fe-4e8a-97f2-bc9e41bebaaa"
            }
        },
        {
            "cell_type": "markdown",
            "source": [
                " This is Kusto Query  \n",
                " Ref: [https://techcommunity.microsoft.com/t5/azure-database-support-blog/azure-sql-db-and-log-analytics-better-together-part-3-query/ba-p/1034222](https://techcommunity.microsoft.com/t5/azure-database-support-blog/azure-sql-db-and-log-analytics-better-together-part-3-query/ba-p/1034222)  \n",
                " Who DROPPED my table?\n",
                "\n",
                "```\n",
                "let ServerName = \"sqlalertdemoserver\";\n",
                "let DBName = \"sqlalertdemodatabase\";\n",
                "AzureDiagnostics\n",
                "| where TimeGenerated >= ago(1d)\n",
                "| where LogicalServerName_s =~ ServerName\n",
                "| where database_name_s =~ DBName\n",
                "| where Category =~ \"SQLSecurityAuditEvents\"\n",
                "| where action_name_s in (\"BATCH COMPLETED\", \"RPC COMPLETED\")\n",
                "| where statement_s contains \"DROP\" or statement_s contains \"TRUNCATE\" \n",
                "| project TimeGenerated, event_time_t, LogicalServerName_s, database_name_s, succeeded_s, session_id_d, action_name_s,\n",
                "            client_ip_s, session_server_principal_name_s , database_principal_name_s, statement_s, additional_information_s, application_name_s\n",
                "| top 1000 by TimeGenerated desc\n",
                "```"
            ],
            "metadata": {
                "azdata_cell_guid": "2b52af25-63ec-4d3f-8010-10ebf2a17c4d"
            }
        }
    ]
}