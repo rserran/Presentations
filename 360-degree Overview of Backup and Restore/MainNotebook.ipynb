{
    "metadata": {
        "kernelspec": {
            "name": "SQL",
            "display_name": "SQL",
            "language": "sql"
        },
        "language_info": {
            "name": "sql",
            "version": ""
        }
    },
    "nbformat_minor": 2,
    "nbformat": 4,
    "cells": [
        {
            "cell_type": "markdown",
            "source": [
                "# 360-degree Overview of Backup and Restore\n",
                "\n",
                "### Cloud Data Driven\n",
                "\n",
                "Thursday, August 31, 2023 at 12:00 PM\n",
                "\n",
                "<span style=\"color: var(--vscode-foreground);\">THANKS TO ALL ORGANIZERS, VOLUNTERRS AND YOU ATTENDEES</span>\n",
                "\n",
                "<span style=\"color: var(--vscode-foreground);\">Taiob Ali</span>\n",
                "\n",
                "[taiob@sqlworlwide.com](mailto:taiob@sqlworlwide.com)\n",
                "\n",
                "[https://twitter.com/SqlWorldWide](https:\\twitter.com\\SqlWorldWide)\n",
                "\n",
                "[https://sqlworldwide.com/](https:\\sqlworldwide.com\\)\n",
                "\n",
                "[https://www.linkedin.com/in/sqlworldwide/](https:\\www.linkedin.com\\in\\sqlworldwide\\)\n",
                "\n",
                "### Abstract:\n",
                "\n",
                "<span style=\"color: var(--vscode-foreground);\">If you are the database steward, your most critical task is to guarantee that all committed transactions are always recoverable during a disaster within acceptable limits for data loss and downtimes.</span>\n",
                "\n",
                "<span style=\"color: var(--vscode-foreground);\">Achieving this can be simple by taking a full backup or complex, which might include filegroup backups based on the size and criticality of your application data.</span>\n",
                "\n",
                "<span style=\"color: var(--vscode-foreground);\">Whatever your situation is, being well-prepared and practicing with your tools, scripts, and strategy will ensure you can respond quickly and efficiently when a disaster happens.</span>\n",
                "\n",
                "<span style=\"color: var(--vscode-foreground);\">In this session, I will teach you all the basic types of backups and how to create backups and restores using SSMS and TSQL. Then we will move to advanced techniques, discussing file and filegroup backups, partial database restore, and T-SQL snapshot backups introduced with SQL Server 2022.</span>\n",
                "\n",
                "<span style=\"color: var(--vscode-foreground);\">At the end of the session, you'll be able to create a solid Backup and Restore strategy around the agreed service level agreement with your business counterpart.</span>\n",
                "\n",
                "### Learning Objective:\n",
                "\n",
                "You will get a clear idea about different kinds of basic backups, their dependency on each other, and how to use those backup types. Attendees will also get introduced to an advanced backup-restore strategy. For example, file and filegroup backup, partial database restores, and snapshot backup were introduced in SQL 2022. With this information, you can create a solid backup and restore strategy based on service level agreement."
            ],
            "metadata": {
                "azdata_cell_guid": "808ebe54-8681-40d2-9356-8d0de94adc58"
            },
            "attachments": {}
        },
        {
            "cell_type": "markdown",
            "source": [
                "## Why Backup?\n",
                "\n",
                "- Data loss caused by a variety of failures\n",
                "- Copying to Non-Production environment\n",
                "- Setting up Log shipping, Always On Availability Group\n",
                "- Archiving\n",
                "- Regulatory requirement to preserve data\n",
                "- HA/DR solution - Do you agree?"
            ],
            "metadata": {
                "azdata_cell_guid": "f704bfde-42f3-44b9-8fbd-a66da5a7a8ce"
            },
            "attachments": {}
        },
        {
            "cell_type": "markdown",
            "source": [
                "## Who can back up the database?\n",
                "\n",
                "- sysadmin fixed server role \n",
                "- db\\_owner fixed database roles\n",
                "- db\\_backupoperator fixed database roles"
            ],
            "metadata": {
                "azdata_cell_guid": "e418178b-9b2f-4711-82d3-6167c6c60c8c"
            },
            "attachments": {}
        },
        {
            "cell_type": "markdown",
            "source": [
                "## Backup and restore strategies\n",
                "\n",
                "- Business requirements\n",
                "- Maximum data availability\n",
                "- Minimum data loss\n",
                "- Cost of maintaining and storing backups\n",
                "\n",
                "## How do you meet above requirements?\n",
                "\n",
                "- Backup type and frequency\n",
                "    - Size of database\n",
                "    - Rate of change\n",
                "    - Speed of the hardware\n",
                "- Intergrity of backup files\n",
                "- Physical security of backup media\n",
                "- Restore strategy\n",
                "    - How to retrieve backup media (time consideration)\n",
                "    - Practice and Test restore considering all possible scenairo\n",
                "- Possible constraints\n",
                "    - Hardware\n",
                "    - Personnel\n",
                "    - Backup media location\n",
                "    - Physical security"
            ],
            "metadata": {
                "azdata_cell_guid": "a1240552-a9b3-489b-b77b-9fd2c6d62bfe"
            },
            "attachments": {}
        },
        {
            "cell_type": "markdown",
            "source": [
                "## Recovery Model\n",
                "\n",
                "- <span style=\"color: var(--vscode-foreground);\">Simple</span>\n",
                "    \n",
                "    - <span style=\"color: var(--vscode-foreground);\">Automatically reclaims log space, elminate tansaction log management (</span>**mostly**<span style=\"color: var(--vscode-foreground);\">)</span>\n",
                "    - Exposure to data loss since last Full/Differential backup\n",
                "    - Cannot use features\n",
                "        - Log shipping\n",
                "        - Always On or Database mirroring\n",
                "        - Media recovery without data loss\n",
                "        - Point-in-time restores\n",
                "\n",
                "- Full\n",
                "    - <span style=\"color: var(--vscode-foreground);\">Requires log backups</span>\n",
                "    - <span style=\"color: var(--vscode-foreground);\">Can recover to an arbitrary point in time</span>\n",
                "    - <span style=\"background-color: rgba(127, 127, 127, 0.1); color: var(--vscode-foreground);\">Exposure to data loss only if the tail of the log is dmamaged</span>\n",
                "\n",
                "<span style=\"color: var(--vscode-foreground);\"><ul><li><p><span style=\"color: var(--vscode-foreground);\">Bulk logged</span></p></li><ul><li><span style=\"color: var(--vscode-foreground);\">Requires log backups</span></li><li><span style=\"color: var(--vscode-foreground);\">Can switch between Full and Bulk logged</span><br></li><li><span style=\"color: var(--vscode-foreground);\">Permits high-performance bulk copy operations</span><br></li><li><span style=\"color: var(--vscode-foreground);\">Can recover to the end of any backup</span><br></li><li><span style=\"color: var(--vscode-foreground);\">Compromise recovery options:</span><br></li></ul><li><ul><ul><li><span style=\"color: var(--vscode-foreground);\">Cannot Point-in-time restore for the period of Bull logged recovery model</span></li><li>Cannot bacup tail of transacton log</li></ul></ul></li></ul></span>"
            ],
            "metadata": {
                "azdata_cell_guid": "d525de44-8b0f-49e5-b097-3a12c27fe120"
            },
            "attachments": {}
        },
        {
            "cell_type": "markdown",
            "source": [
                "## Backup Type\n",
                "\n",
                "- Database backups\n",
                "    - Full database backup\n",
                "    - Differential database backup\n",
                "- Transaction log backup\n",
                "- \\*\\*Tail-Log backup\n",
                "- File Backup\n",
                "    - Full file backup (typically called file backups)\n",
                "    - Differential file backup\n",
                "    - Partial backup (Only if you have read-only filegroups)\n",
                "    - Differential partial backup\n",
                "- \\*\\*Copy-Only backup\n",
                "    - Full and Transacton Log only"
            ],
            "metadata": {
                "azdata_cell_guid": "64840f37-0354-4707-9330-b75122b75cdb"
            },
            "attachments": {}
        },
        {
            "cell_type": "markdown",
            "source": [
                "## Estimate size of Backup\n",
                "\n",
                "### Full\n",
                "\n",
                "```\n",
                "--This code not considering the compression\n",
                "USE StackOverflow2010  \n",
                "GO  \n",
                "EXEC sp_spaceused @oneresultset = 1,@updateusage = N'TRUE'; \n",
                "GO \n",
                "\n",
                "```\n",
                "\n",
                "### Differential\n",
                "\n",
                "[New script: How much of the database has changed since the last full backup? by Paul Randal](https:\\www.sqlskills.com\\blogs\\paul\\new-script-how-much-of-the-database-has-changed-since-the-last-full-backup\\)"
            ],
            "metadata": {
                "azdata_cell_guid": "9dd4c974-f870-4543-b3a8-adfbf7b39d3f",
                "language": ""
            },
            "attachments": {}
        },
        {
            "cell_type": "markdown",
            "source": [
                "## Possible Media Errors During Backup and Restore\n",
                "\n",
                "[Possible Media Errors During Backup and Restore (SQL Server)](https:\\learn.microsoft.com\\en-us\\sql\\relational-databases\\backup-restore\\possible-media-errors-during-backup-and-restore-sql-server?view=sql-server-ver16)"
            ],
            "metadata": {
                "azdata_cell_guid": "550356c3-daeb-4007-a257-174e8d781ba3"
            },
            "attachments": {}
        }
    ]
}