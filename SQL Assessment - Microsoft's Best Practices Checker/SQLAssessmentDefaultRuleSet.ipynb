{
    "metadata": {
        "kernelspec": {
            "name": "SQL",
            "display_name": "SQL",
            "language": "sql"
        },
        "language_info": {
            "name": "sql",
            "version": ""
        },
        "extensions": {
            "azuredatastudio": {
                "version": 1,
                "views": []
            }
        }
    },
    "nbformat_minor": 2,
    "nbformat": 4,
    "cells": [
        {
            "cell_type": "markdown",
            "source": [
                "## Looking at Default Ruleset Metrics\n",
                "\n",
                "### SQLAssessmentDefaultRuleSet.ipynb\n",
                "\n",
                "Written  by: Taiob Ali Last Modified: Sept 7 2022 \n",
                "\n",
                "I loaded defualt rule set to a database table from [here](https://github.com/microsoft/sql-server-samples/tree/master/samples/manage/sql-assessment-api). Let's look at some metrics about the default ruleset."
            ],
            "metadata": {
                "azdata_cell_guid": "6ee59295-c94b-4238-9377-30cdeb0236bd",
                "extensions": {
                    "azuredatastudio": {
                        "views": []
                    }
                }
            },
            "attachments": {}
        },
        {
            "cell_type": "code",
            "source": [
                "SELECT \r\n",
                "  COUNT(*) AS [howManyRules]\r\n",
                "FROM [SqlAssessmentDemo].[dbo].[ruleset];"
            ],
            "metadata": {
                "azdata_cell_guid": "1f6bc437-ac30-4603-89e1-3e8290f5ecdf",
                "extensions": {
                    "azuredatastudio": {
                        "views": []
                    }
                },
                "language": "sql"
            },
            "outputs": [],
            "execution_count": null
        },
        {
            "cell_type": "code",
            "source": [
                "SELECT TOP 5\r\n",
                "  *\r\n",
                "FROM [SqlAssessmentDemo].[dbo].[ruleset];"
            ],
            "metadata": {
                "azdata_cell_guid": "7410955b-14a9-47bd-b9d8-deaec1dcd64a",
                "extensions": {
                    "azuredatastudio": {
                        "views": []
                    }
                },
                "language": "sql"
            },
            "outputs": [],
            "execution_count": null
        },
        {
            "cell_type": "code",
            "source": [
                "SELECT \r\n",
                "  DISTINCT target_type\r\n",
                "FROM [SqlAssessmentDemo].[dbo].[ruleset];"
            ],
            "metadata": {
                "azdata_cell_guid": "fe6ca436-2184-4674-a8c7-35cc4ed45749",
                "extensions": {
                    "azuredatastudio": {
                        "views": []
                    }
                },
                "language": "sql"
            },
            "outputs": [],
            "execution_count": null
        },
        {
            "cell_type": "code",
            "source": [
                "SELECT \r\n",
                "  level, \r\n",
                "  COUNT (*) AS [howManyPerLevel]\r\n",
                "FROM [SqlAssessmentDemo].[dbo].[ruleset]\r\n",
                "GROUP BY [level];"
            ],
            "metadata": {
                "azdata_cell_guid": "954ff9c0-511a-4cc1-bcdf-65bdb689e268",
                "extensions": {
                    "azuredatastudio": {
                        "views": []
                    }
                },
                "language": "sql"
            },
            "outputs": [],
            "execution_count": null
        },
        {
            "cell_type": "code",
            "source": [
                "SELECT \r\n",
                "  target_platform, \r\n",
                "  COUNT (*) AS [howManyPerPlatform] \r\n",
                "FROM [SqlAssessmentDemo].[dbo].[ruleset]\r\n",
                "GROUP BY target_platform;"
            ],
            "metadata": {
                "azdata_cell_guid": "ed9289ac-a6c3-48b6-ac0d-5489559065a4",
                "extensions": {
                    "azuredatastudio": {
                        "views": []
                    }
                },
                "language": "sql"
            },
            "outputs": [],
            "execution_count": null
        },
        {
            "cell_type": "code",
            "source": [
                "SELECT \r\n",
                "  target_engineEdition, \r\n",
                "  COUNT (*) AS [howManyPerEngEdition] \r\n",
                "FROM [SqlAssessmentDemo].[dbo].[ruleset]\r\n",
                "GROUP BY target_engineEdition;"
            ],
            "metadata": {
                "azdata_cell_guid": "764f511a-b241-4440-8302-92ee1ce8dcd8",
                "extensions": {
                    "azuredatastudio": {
                        "views": []
                    }
                },
                "language": "sql"
            },
            "outputs": [],
            "execution_count": null
        },
        {
            "cell_type": "code",
            "source": [
                "SELECT \r\n",
                "  SUBSTRING (target_version, CHARINDEX('1',target_version, 1) , 2) AS [SQLVersion], \r\n",
                "  COUNT(*) AS [howManyPerVerison]\r\n",
                "FROM [SqlAssessmentDemo].[dbo].[ruleset]\r\n",
                "WHERE target_version IS NOT NULL\r\n",
                "GROUP BY SUBSTRING (target_version, CHARINDEX('1',target_version, 1) , 2);"
            ],
            "metadata": {
                "azdata_cell_guid": "a2d494e9-7e02-4958-9409-e90f7c5b80be",
                "extensions": {
                    "azuredatastudio": {
                        "views": []
                    }
                },
                "language": "sql"
            },
            "outputs": [],
            "execution_count": null
        },
        {
            "cell_type": "markdown",
            "source": [
                "## My Favorites"
            ],
            "metadata": {
                "azdata_cell_guid": "2f2eb2b0-1631-48fa-b9a8-a18f340253c6",
                "extensions": {
                    "azuredatastudio": {
                        "views": []
                    }
                }
            }
        },
        {
            "cell_type": "code",
            "source": [
                "SELECT\r\n",
                "  *\r\n",
                "FROM [SqlAssessmentDemo].[dbo].[ruleSet]\r\n",
                "WHERE id IN \r\n",
                "    (\r\n",
                "      'DeprecatedFeatures', \r\n",
                "      'LatestCU', \r\n",
                "      'TempDBFilesNotSameSize',\r\n",
                "      'DuplicateIndexes',\r\n",
                "      'UnusedIndex',\r\n",
                "      'WeakPassword',\r\n",
                "      'MaxMemory',\r\n",
                "      'PowerPlanSchemeNotRecommended',\r\n",
                "      'LoginEqPassword',\r\n",
                "      'PercentAutogrows'\r\n",
                "    );"
            ],
            "metadata": {
                "azdata_cell_guid": "334bf813-397d-4273-aca1-20cb04c1400b",
                "tags": [],
                "extensions": {
                    "azuredatastudio": {
                        "views": []
                    }
                },
                "language": "sql"
            },
            "outputs": [],
            "execution_count": null
        }
    ]
}