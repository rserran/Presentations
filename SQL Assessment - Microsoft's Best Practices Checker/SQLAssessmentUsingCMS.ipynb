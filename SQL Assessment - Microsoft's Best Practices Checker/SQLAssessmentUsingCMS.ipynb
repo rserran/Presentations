{
    "metadata": {
        "kernelspec": {
            "name": "powershell",
            "display_name": "PowerShell",
            "language": "powershell"
        },
        "language_info": {
            "name": "powershell",
            "codemirror_mode": "shell",
            "mimetype": "text/x-sh",
            "file_extension": ".ps1"
        },
        "extensions": {
            "azuredatastudio": {
                "version": 1,
                "views": []
            }
        }
    },
    "nbformat_minor": 2,
    "nbformat": 4,
    "cells": [
        {
            "cell_type": "markdown",
            "source": [
                "## Running Assessment for all SQL Servers\n",
                "\n",
                "### SQLAssessmentUsingCMS.ipynb\n",
                "\n",
                "Written  by:\n",
                "\n",
                "Taiob Ali\n",
                "\n",
                "Last Modified: September 7 2022\n",
                "\n",
                "- Using Central Management Server\n",
                "- Using [DBATOOLS funciton](https://www.powershellgallery.com/packages/dbatools/0.9.196/Content/functions%5CGet-DbaRegisteredServer.ps1)\n",
                "- Saving result to database table\n",
                "- You can expand this to \n",
                "    - Move results to a archive table\n",
                "    - Purge result based on retention period"
            ],
            "metadata": {
                "azdata_cell_guid": "180310a8-8ea6-47e7-8e34-7b6e1c060457",
                "extensions": {
                    "azuredatastudio": {
                        "views": []
                    }
                }
            },
            "attachments": {}
        },
        {
            "cell_type": "code",
            "source": [
                "# Use Group switch if you only want to run on certain groups\r\n",
                "# See the function for other switches\r\n",
                "$DBServers = Get-DbaRegisteredServer -SqlInstance CMSServer -Group DEV\r\n",
                "\r\n",
                "Foreach ($Server in $DBServers) {\r\n",
                "\tWrite-host -nonewline \".\"\r\n",
                "\t#-- Make Sure Server is available before connecting\r\n",
                "\t$SQLManagementInstance = \"ServerName where you want the result to be saved\"\r\n",
                "  \r\n",
                "\t# Running server scope rules\r\n",
                "\tGet-SqlInstance -ServerInstance $($Server.ServerName) | \r\n",
                "\tInvoke-SqlAssessment -FlattenOutput |\r\n",
                "\tWrite-SqlTableData -ServerInstance $SQLManagementInstance -DatabaseName SQLAssessmentDemo -SchemaName Assessment -TableName Results -Force\r\n",
                "\r\n",
                "\t# Running database scope rules\r\n",
                "\tGet-SqlDatabase -ServerInstance $($Server.ServerName) | \r\n",
                "\tInvoke-SqlAssessment -FlattenOutput |\r\n",
                "\tWrite-SqlTableData -ServerInstance $SQLManagementInstance -DatabaseName SQLAssessmentDemo -SchemaName Assessment -TableName Results -Force\r\n",
                "}"
            ],
            "metadata": {
                "azdata_cell_guid": "18440651-b7fe-4a41-95d6-b4257c29058d",
                "extensions": {
                    "azuredatastudio": {
                        "views": []
                    }
                },
                "language": "powershell"
            },
            "outputs": [],
            "execution_count": null
        }
    ]
}