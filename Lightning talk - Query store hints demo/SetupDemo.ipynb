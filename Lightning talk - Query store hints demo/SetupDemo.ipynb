{
    "metadata": {
        "kernelspec": {
            "name": "powershell",
            "display_name": "PowerShell",
            "language": "powershell"
        },
        "language_info": {
            "name": "powershell",
            "codemirror_mode": "shell",
            "mimetype": "text/x-sh",
            "file_extension": ".ps1"
        },
        "extensions": {
            "azuredatastudio": {
                "version": 1,
                "views": []
            }
        }
    },
    "nbformat_minor": 2,
    "nbformat": 4,
    "cells": [
        {
            "cell_type": "markdown",
            "source": [
                "**SetupDemo.ipynb**\n",
                "\n",
                "Written by Taiob Ali  \n",
                "SqlWorldWide.com\n",
                "\n",
                "This script will create:\n",
                "\n",
                "- A resource group\n",
                "- 1 logical SQL server\n",
                "- 1 sample databases using BACPAC located at [GitHub](https://github.com/microsoft/sql-server-samples/blob/master/samples/features/query-store/PropertyMLS.bacpac)"
            ],
            "metadata": {
                "azdata_cell_guid": "1823befc-a18c-47a9-bd29-765b5ca7108e",
                "extensions": {
                    "azuredatastudio": {
                        "views": []
                    }
                }
            },
            "attachments": {}
        },
        {
            "cell_type": "markdown",
            "source": [
                "Install the Azure PowerShell module if you have not already"
            ],
            "metadata": {
                "azdata_cell_guid": "241df43a-d194-4adb-b0eb-39b41f6fa539",
                "extensions": {
                    "azuredatastudio": {
                        "views": []
                    }
                }
            }
        },
        {
            "cell_type": "code",
            "source": [
                "Install-Module -Name Az"
            ],
            "metadata": {
                "azdata_cell_guid": "e8e3e90c-608c-468b-a970-35572618750c",
                "extensions": {
                    "azuredatastudio": {
                        "views": []
                    }
                },
                "language": "powershell"
            },
            "outputs": [],
            "execution_count": null
        },
        {
            "cell_type": "markdown",
            "source": [
                "If you've disabled module autoloading, manually import the module with `Import-Module -Name Az`. Because of the way the module is structured, this can take a few seconds."
            ],
            "metadata": {
                "azdata_cell_guid": "9da8fc95-ba8b-4b55-bf49-0ea5db203c8e"
            },
            "attachments": {}
        },
        {
            "cell_type": "code",
            "source": [
                "Import-Module -Name Az"
            ],
            "metadata": {
                "azdata_cell_guid": "2980b2fe-e8c4-4170-93c1-fcce55502834",
                "language": "powershell"
            },
            "outputs": [],
            "execution_count": null
        },
        {
            "cell_type": "markdown",
            "source": [
                "Sign in to Azure"
            ],
            "metadata": {
                "azdata_cell_guid": "9e7474e8-6a71-4260-8172-fe2de8d08d41",
                "extensions": {
                    "azuredatastudio": {
                        "views": []
                    }
                }
            }
        },
        {
            "cell_type": "code",
            "source": [
                "Connect-AzAccount"
            ],
            "metadata": {
                "azdata_cell_guid": "58e1bd9a-3667-4ce8-b166-4839c00c2c34",
                "extensions": {
                    "azuredatastudio": {
                        "views": []
                    }
                },
                "language": "powershell"
            },
            "outputs": [],
            "execution_count": null
        },
        {
            "cell_type": "markdown",
            "source": [
                "If you need to see the list of your subscription\n",
                "\n",
                "<span style=\"color: #6a9955;\">$SubscriptionList=Get-AzSubscription</span><span style=\"color: rgb(106, 153, 85);\">$SubscriptionList</span>\n",
                "\n",
                "Use below code if you have multiple subscription and you want to use a particular one"
            ],
            "metadata": {
                "azdata_cell_guid": "7acdd1cc-7ce4-4e87-a23d-f93e1d7b8dac",
                "extensions": {
                    "azuredatastudio": {
                        "views": []
                    }
                }
            },
            "attachments": {}
        },
        {
            "cell_type": "code",
            "source": [
                "Set-AzContext -SubscriptionId '18d92f52-ac34-4379-ab8b-5a5106f1c54e'"
            ],
            "metadata": {
                "azdata_cell_guid": "f65e1558-a067-421d-8ccc-2541537987d7",
                "extensions": {
                    "azuredatastudio": {
                        "views": []
                    }
                },
                "language": "powershell"
            },
            "outputs": [],
            "execution_count": null
        },
        {
            "cell_type": "markdown",
            "source": [
                "Declare Variables"
            ],
            "metadata": {
                "azdata_cell_guid": "5830f159-43dd-474e-8e4d-d7cfab8ba744",
                "extensions": {
                    "azuredatastudio": {
                        "views": []
                    }
                }
            }
        },
        {
            "cell_type": "code",
            "source": [
                "$resourceGroupName = \"dataweekenderdemo\"\r\n",
                "$primaryLocation = \"East US 2\" \r\n",
                "$serverName = \"qshints\"\r\n",
                "$databaseName = \"PropertyMLS\"\r\n",
                "$ipinfo = Invoke-RestMethod http://ipinfo.io/json \r\n",
                "$startip = $ipinfo.ip\r\n",
                "$endip = $ipinfo.ip \r\n",
                "$adminlogin = \"taiob\"\r\n",
                "$password = Get-Content \"C:\\password.txt\""
            ],
            "metadata": {
                "azdata_cell_guid": "dd1dca99-a34c-4a16-ae19-095d6aa9e6c6",
                "tags": [
                    "parameters"
                ],
                "extensions": {
                    "azuredatastudio": {
                        "views": []
                    }
                },
                "language": "powershell"
            },
            "outputs": [],
            "execution_count": null
        },
        {
            "cell_type": "markdown",
            "source": [
                "Check if Resource group exists. If exist delete the resource group.\n",
                "\n",
                "Create a new Resource group"
            ],
            "metadata": {
                "azdata_cell_guid": "ddcef94b-4f17-40a5-914e-f37fcd7c081e",
                "extensions": {
                    "azuredatastudio": {
                        "views": []
                    }
                }
            }
        },
        {
            "cell_type": "code",
            "source": [
                "$resGrpChk = Get-AzResourceGroup `\r\n",
                "    -Name $resourceGroupName `\r\n",
                "    -ev notPresent `\r\n",
                "    -ea 0\r\n",
                "\r\n",
                "if ($resGrpChk) {  \r\n",
                "    #Delete resource group\r\n",
                "    Remove-AzResourceGroup `\r\n",
                "        -Name $resourceGroupName -Confirm   \r\n",
                "    Write-Host 'Resource group deleted' `\r\n",
                "        -fore white `\r\n",
                "        -back green\r\n",
                "}\r\n",
                "\r\n",
                "New-AzResourceGroup `\r\n",
                "    -Name $resourceGroupName `\r\n",
                "    -Location \"East US 2\"    \r\n",
                "Write-Host 'Resource group created' `\r\n",
                "    -fore white `\r\n",
                "    -back green"
            ],
            "metadata": {
                "azdata_cell_guid": "20b2fadd-2561-4cbf-9f3c-d6ba48e2c2ae",
                "extensions": {
                    "azuredatastudio": {
                        "views": []
                    }
                },
                "language": "powershell"
            },
            "outputs": [],
            "execution_count": null
        },
        {
            "cell_type": "markdown",
            "source": [
                "Create a Azure SQL Server at East US 2"
            ],
            "metadata": {
                "azdata_cell_guid": "b31c4f9d-839c-4fd0-8205-12079a662819",
                "extensions": {
                    "azuredatastudio": {
                        "views": []
                    }
                }
            },
            "attachments": {}
        },
        {
            "cell_type": "code",
            "source": [
                "New-AzSqlServer `\r\n",
                "  -ResourceGroupName $resourceGroupName `\r\n",
                "  -ServerName $serverName `\r\n",
                "  -Location $primaryLocation `\r\n",
                "  -SqlAdministratorCredentials $(New-Object -TypeName System.Management.Automation.PSCredential `\r\n",
                "  -ArgumentList $adminlogin, $(ConvertTo-SecureString -String $password -AsPlainText -Force)) "
            ],
            "metadata": {
                "azdata_cell_guid": "1a6d1586-c6c1-4e5f-8081-73511d8b7aa6",
                "extensions": {
                    "azuredatastudio": {
                        "views": []
                    }
                },
                "language": "powershell"
            },
            "outputs": [],
            "execution_count": null
        },
        {
            "cell_type": "markdown",
            "source": [
                "Configure Firewall rule for the above server"
            ],
            "metadata": {
                "azdata_cell_guid": "1e04510f-0f3a-4fa4-97c1-478fb93860aa",
                "extensions": {
                    "azuredatastudio": {
                        "views": []
                    }
                }
            }
        },
        {
            "cell_type": "code",
            "source": [
                "New-AzSqlServerFirewallRule `\r\n",
                "  -ResourceGroupName $resourceGroupName `\r\n",
                "  -ServerName $serverName `\r\n",
                "  -FirewallRuleName \"TaiobDemoMachine\" `\r\n",
                "  -StartIpAddress $startip `\r\n",
                "  -EndIpAddress $endip\r\n",
                "\r\n",
                "# This is done to allow access to Azure Services\r\n",
                "New-AzSqlServerFirewallRule `\r\n",
                "  -ResourceGroupName $resourceGroupName `\r\n",
                "  -ServerName $serverName `\r\n",
                "  -FirewallRuleName \"AllowAzureService\" `\r\n",
                "  -StartIpAddress 0.0.0.0 `\r\n",
                "  -EndIpAddress 0.0.0.0"
            ],
            "metadata": {
                "azdata_cell_guid": "3e8fbc20-40b0-4383-856d-987a8e1af38f",
                "extensions": {
                    "azuredatastudio": {
                        "views": []
                    }
                },
                "language": "powershell"
            },
            "outputs": [],
            "execution_count": null
        },
        {
            "cell_type": "markdown",
            "source": [
                "Creating an Azure SQL Database with using BACPAC located at [GitHub](https://github.com/microsoft/sql-server-samples/blob/master/samples/features/query-store/PropertyMLS.bacpac)\n",
                "\n",
                "Puchase Model: vCore  \n",
                "Service Tier : GeneralPurpose\n",
                "\n",
                "Note:\n",
                "\n",
                "1. Downloading bacpac file using powershell is corrupting the file, I could not figure out the reason. So I downloaded manually to my local drive. \n",
                "2. More about : [Import a BACPAC file to a database in Azure SQL Database or Azure SQL Managed Instance](https://docs.microsoft.com/en-us/azure/azure-sql/database/database-import?tabs=azure-powershell)"
            ],
            "metadata": {
                "azdata_cell_guid": "70668868-21b5-4fcc-aa96-a478e970b96a",
                "extensions": {
                    "azuredatastudio": {
                        "views": []
                    }
                }
            },
            "attachments": {}
        },
        {
            "cell_type": "code",
            "source": [
                "$bacpacfile = \"C:\\Users\\taiob\\Downloads\\PropertyMLS.bacpac\"\r\n",
                "Set-Location \"C:\\Program Files (x86)\\Microsoft SQL Server\\140\\DAC\\bin\\\"\r\n",
                ".\\sqlpackage.exe /a:Import /sf:$bacpacfile /tsn:\"$serverName.database.windows.net\" /tdn:$databaseName  /tu:$adminlogin /tp:$password  /p:DatabaseServiceObjective=\"GP_Gen5_4\""
            ],
            "metadata": {
                "azdata_cell_guid": "5230d861-684c-40a4-9e7b-5f307702dfa6",
                "language": "powershell"
            },
            "outputs": [],
            "execution_count": null
        },
        {
            "cell_type": "markdown",
            "source": [
                "Clean up by removing resource group name"
            ],
            "metadata": {
                "azdata_cell_guid": "ddadaad0-e8d6-44fb-9f27-6f56ea9a6020",
                "extensions": {
                    "azuredatastudio": {
                        "views": []
                    }
                }
            }
        },
        {
            "cell_type": "code",
            "source": [
                "Remove-AzResourceGroup -ResourceGroupName $resourceGroupName -Force"
            ],
            "metadata": {
                "azdata_cell_guid": "5e000b59-71de-486a-8191-f534b6e5cdd3",
                "extensions": {
                    "azuredatastudio": {
                        "views": []
                    }
                },
                "language": "powershell"
            },
            "outputs": [],
            "execution_count": null
        }
    ]
}