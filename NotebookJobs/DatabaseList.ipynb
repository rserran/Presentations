{
    "metadata": {
        "kernelspec": {
            "name": "SQL",
            "display_name": "SQL",
            "language": "sql"
        },
        "language_info": {
            "name": "sql",
            "version": ""
        }
    },
    "nbformat_minor": 2,
    "nbformat": 4,
    "cells": [
        {
            "cell_type": "markdown",
            "source": [
                "## Collect Database List"
            ],
            "metadata": {
                "azdata_cell_guid": "d53aa715-2eb3-423b-a6db-8cfa56b2826b"
            }
        },
        {
            "cell_type": "code",
            "source": [
                "SELECT \r\n",
                "  * \r\n",
                "FROM SYS.DATABASES"
            ],
            "metadata": {
                "azdata_cell_guid": "4570cc2c-a29c-4bca-a66e-8dee66972323",
                "tags": []
            },
            "outputs": [],
            "execution_count": null
        }
    ]
}