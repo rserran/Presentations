{
    "metadata": {
        "kernelspec": {
            "name": "SQL",
            "display_name": "SQL",
            "language": "sql"
        },
        "language_info": {
            "name": "sql",
            "version": ""
        }
    },
    "nbformat_minor": 2,
    "nbformat": 4,
    "cells": [
        {
            "cell_type": "markdown",
            "source": [
                "## Collect System Configuration\n",
                "\n",
                "Copied from: [https://github.com/microsoft/tigertoolbox/blob/master/BPCheck/BPCheck.ipynb](https://github.com/microsoft/tigertoolbox/blob/master/BPCheck/BPCheck.ipynb)"
            ],
            "metadata": {
                "azdata_cell_guid": "ae1b039d-e772-479b-aef4-bf56789c3c3b"
            }
        },
        {
            "cell_type": "code",
            "source": [
                "SET NOCOUNT ON;\r\n",
                "SET ANSI_WARNINGS ON;\r\n",
                "SET QUOTED_IDENTIFIER ON;\r\n",
                "\r\n",
                "SELECT 'Information' AS [Category], 'All_System_Configurations' AS [Information],\r\n",
                "\tname AS [Name],\r\n",
                "\tconfiguration_id AS [Number],\r\n",
                "\tminimum AS [Minimum],\r\n",
                "\tmaximum AS [Maximum],\r\n",
                "\tis_dynamic AS [Dynamic],\r\n",
                "\tis_advanced AS [Advanced],\r\n",
                "\tvalue AS [ConfigValue],\r\n",
                "\tvalue_in_use AS [RunValue],\r\n",
                "\tdescription AS [Description]\r\n",
                "FROM sys.configurations (NOLOCK)\r\n",
                "ORDER BY name OPTION (RECOMPILE);"
            ],
            "metadata": {
                "azdata_cell_guid": "b6d7bae1-e47b-42d3-a086-062c4fbcc3a5"
            },
            "outputs": [],
            "execution_count": null
        }
    ]
}