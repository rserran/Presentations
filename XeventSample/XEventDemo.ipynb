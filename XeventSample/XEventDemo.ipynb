{
    "metadata": {
        "kernelspec": {
            "name": "SQL",
            "display_name": "SQL",
            "language": "sql"
        },
        "language_info": {
            "name": "sql",
            "version": ""
        }
    },
    "nbformat_minor": 2,
    "nbformat": 4,
    "cells": [
        {
            "cell_type": "markdown",
            "source": [
                "# How to collect the first 10 or every 4th event ?"
            ],
            "metadata": {
                "azdata_cell_guid": "20fcde43-e68e-4925-8a2e-25894ee0e75e"
            }
        },
        {
            "cell_type": "markdown",
            "source": [
                "Written by: **Taiob Ali**\n",
                "\n",
                "**https://SqlWorldWide.com**\n",
                "\n",
                "Reference:\n",
                "\n",
                "[Try a sample: Using the counter predicate for event sampling](https://blogs.msdn.microsoft.com/extended_events/2010/05/14/try-a-sample-using-the-counter-predicate-for-event-sampling/)\n",
                "\n",
                "[Reading event data 101: What’s up with the XML?](https://blogs.msdn.microsoft.com/extended_events/2010/03/08/reading-event-data-101-whats-up-with-the-xml/)\n",
                "\n",
                "\n",
                "This script will \n",
                "1. Create an Extended Event trace defination to capture first 10 events\n",
                "2. Run the trace\n",
                "3. Look at the collected data\n",
                "4. Stop the trace\n",
                "5. Clean up\n",
                "6. Sample defination about how to collect every 4th event\n",
                "7. Sample defination about collecting wait details when exceeds threshold\n",
                "8. Few helper code in regard to predicates\n",
                ""
            ],
            "metadata": {
                "azdata_cell_guid": "5e485e7e-4819-478a-abea-9c18a429735a"
            }
        },
        {
            "cell_type": "markdown",
            "source": [
                "Housekeeping--deleting old files if exist\n",
                "\n",
                "**Do not use xp\\_cmdshell unless you know the risk**"
            ],
            "metadata": {
                "azdata_cell_guid": "99e2fc96-94cc-402a-be87-a4f746bad49b"
            }
        },
        {
            "cell_type": "code",
            "source": [
                "DECLARE @deletefile varchar(20)='target_reading*.*';\r\n",
                "DECLARE @cmd NVARCHAR(MAX) =  \r\n",
                "'xp_cmdshell ''del \"C:\\temp\\' + @deletefile + '\"''';\r\n",
                "EXEC (@cmd)\r\n",
                "\r\n",
                "--Crate a session to collect the first 10 events only\r\n",
                "IF EXISTS(SELECT *\r\n",
                "FROM sys.server_event_sessions\r\n",
                "WHERE name='counter_test_10')\r\n",
                "    DROP EVENT session counter_test_10 ON SERVER;\r\n",
                "GO\r\n",
                "CREATE EVENT SESSION counter_test_10 ON SERVER\r\n",
                "ADD EVENT sqlserver.sql_statement_completed\r\n",
                "    (ACTION (sqlserver.sql_text)\r\n",
                "\t\tWHERE sqlserver.sql_text like '%This is the%'\r\n",
                "    AND package0.counter <= 10)\r\n",
                "ADD TARGET package0.asynchronous_file_target\r\n",
                "    (SET filename=N'C:\\Temp\\target_reading.xel')\r\n",
                "WITH (MAX_DISPATCH_LATENCY = 1 SECONDS)\r\n",
                "GO\r\n",
                "--Start the session\r\n",
                "ALTER EVENT SESSION counter_test_10 ON SERVER  \r\n",
                "STATE = start;  \r\n",
                "GO "
            ],
            "metadata": {
                "azdata_cell_guid": "2ecb8ab9-9af3-4071-94b3-350da3c6a160",
                "tags": []
            },
            "outputs": [
                {
                    "output_type": "display_data",
                    "data": {
                        "text/html": "(2 rows affected)"
                    },
                    "metadata": {}
                },
                {
                    "output_type": "display_data",
                    "data": {
                        "text/html": "Commands completed successfully."
                    },
                    "metadata": {}
                },
                {
                    "output_type": "display_data",
                    "data": {
                        "text/html": "Commands completed successfully."
                    },
                    "metadata": {}
                },
                {
                    "output_type": "display_data",
                    "data": {
                        "text/html": "Total execution time: 00:00:00.212"
                    },
                    "metadata": {}
                },
                {
                    "output_type": "execute_result",
                    "metadata": {},
                    "execution_count": 1,
                    "data": {
                        "application/vnd.dataresource+json": {
                            "schema": {
                                "fields": [
                                    {
                                        "name": "output"
                                    }
                                ]
                            },
                            "data": [
                                {
                                    "0": "Could Not Find C:\\temp\\target_reading*.*"
                                },
                                {
                                    "0": "NULL"
                                }
                            ]
                        },
                        "text/html": [
                            "<table>",
                            "<tr><th>output</th></tr>",
                            "<tr><td>Could Not Find C:\\temp\\target_reading*.*</td></tr>",
                            "<tr><td>NULL</td></tr>",
                            "</table>"
                        ]
                    }
                }
            ],
            "execution_count": 1
        },
        {
            "cell_type": "markdown",
            "source": [
                "\r\n",
                "This script will run 100 Select statement. You can run this in any database\r\n",
                ""
            ],
            "metadata": {
                "azdata_cell_guid": "2c9b5bbe-0e6e-416c-9fae-abde3bc7a37c"
            }
        },
        {
            "cell_type": "code",
            "source": [
                "--prevents the message about the number of rows affected from being displayed\r\n",
                "SET NOCOUNT ON; \r\n",
                "GO\r\n",
                "SELECT 'This is the 1 statement'\r\n",
                "GO\r\n",
                "SELECT 'This is the 2 statement'\r\n",
                "GO\r\n",
                "SELECT 'This is the 3 statement'\r\n",
                "GO\r\n",
                "SELECT 'This is the 4 statement'\r\n",
                "GO\r\n",
                "SELECT 'This is the 5 statement'\r\n",
                "GO\r\n",
                "SELECT 'This is the 6 statement'\r\n",
                "GO\r\n",
                "SELECT 'This is the 7 statement'\r\n",
                "GO\r\n",
                "SELECT 'This is the 8 statement'\r\n",
                "GO\r\n",
                "SELECT 'This is the 9 statement'\r\n",
                "GO\r\n",
                "SELECT 'This is the 10 statement'\r\n",
                "GO\r\n",
                "SELECT 'This is the 11 statement'\r\n",
                "GO\r\n",
                "SELECT 'This is the 12 statement'\r\n",
                "GO\r\n",
                "SELECT 'This is the 13 statement'\r\n",
                "GO\r\n",
                "SELECT 'This is the 14 statement'\r\n",
                "GO\r\n",
                "SELECT 'This is the 15 statement'\r\n",
                "GO\r\n",
                "SELECT 'This is the 16 statement'\r\n",
                "GO\r\n",
                "SELECT 'This is the 17 statement'\r\n",
                "GO\r\n",
                "SELECT 'This is the 18 statement'\r\n",
                "GO\r\n",
                "SELECT 'This is the 19 statement'\r\n",
                "GO\r\n",
                "SELECT 'This is the 20 statement'\r\n",
                "GO\r\n",
                "SELECT 'This is the 21 statement'\r\n",
                "GO\r\n",
                "SELECT 'This is the 22 statement'\r\n",
                "GO\r\n",
                "SELECT 'This is the 23 statement'\r\n",
                "GO\r\n",
                "SELECT 'This is the 24 statement'\r\n",
                "GO\r\n",
                "SELECT 'This is the 25 statement'\r\n",
                "GO\r\n",
                "SELECT 'This is the 26 statement'\r\n",
                "GO\r\n",
                "SELECT 'This is the 27 statement'\r\n",
                "GO\r\n",
                "SELECT 'This is the 28 statement'\r\n",
                "GO\r\n",
                "SELECT 'This is the 29 statement'\r\n",
                "GO\r\n",
                "SELECT 'This is the 30 statement'\r\n",
                "GO\r\n",
                "SELECT 'This is the 31 statement'\r\n",
                "GO\r\n",
                "SELECT 'This is the 32 statement'\r\n",
                "GO\r\n",
                "SELECT 'This is the 33 statement'\r\n",
                "GO\r\n",
                "SELECT 'This is the 34 statement'\r\n",
                "GO\r\n",
                "SELECT 'This is the 35 statement'\r\n",
                "GO\r\n",
                "SELECT 'This is the 36 statement'\r\n",
                "GO\r\n",
                "SELECT 'This is the 37 statement'\r\n",
                "GO\r\n",
                "SELECT 'This is the 38 statement'\r\n",
                "GO\r\n",
                "SELECT 'This is the 39 statement'\r\n",
                "GO\r\n",
                "SELECT 'This is the 40 statement'\r\n",
                "GO\r\n",
                "SELECT 'This is the 41 statement'\r\n",
                "GO\r\n",
                "SELECT 'This is the 42 statement'\r\n",
                "GO\r\n",
                "SELECT 'This is the 43 statement'\r\n",
                "GO\r\n",
                "SELECT 'This is the 44 statement'\r\n",
                "GO\r\n",
                "SELECT 'This is the 45 statement'\r\n",
                "GO\r\n",
                "SELECT 'This is the 46 statement'\r\n",
                "GO\r\n",
                "SELECT 'This is the 47 statement'\r\n",
                "GO\r\n",
                "SELECT 'This is the 48 statement'\r\n",
                "GO\r\n",
                "SELECT 'This is the 49 statement'\r\n",
                "GO\r\n",
                "SELECT 'This is the 50 statement'\r\n",
                "GO\r\n",
                "SELECT 'This is the 51 statement'\r\n",
                "GO\r\n",
                "SELECT 'This is the 52 statement'\r\n",
                "GO\r\n",
                "SELECT 'This is the 53 statement'\r\n",
                "GO\r\n",
                "SELECT 'This is the 54 statement'\r\n",
                "GO\r\n",
                "SELECT 'This is the 55 statement'\r\n",
                "GO\r\n",
                "SELECT 'This is the 56 statement'\r\n",
                "GO\r\n",
                "SELECT 'This is the 57 statement'\r\n",
                "GO\r\n",
                "SELECT 'This is the 58 statement'\r\n",
                "GO\r\n",
                "SELECT 'This is the 59 statement'\r\n",
                "GO\r\n",
                "SELECT 'This is the 60 statement'\r\n",
                "GO\r\n",
                "SELECT 'This is the 61 statement'\r\n",
                "GO\r\n",
                "SELECT 'This is the 62 statement'\r\n",
                "GO\r\n",
                "SELECT 'This is the 63 statement'\r\n",
                "GO\r\n",
                "SELECT 'This is the 64 statement'\r\n",
                "GO\r\n",
                "SELECT 'This is the 65 statement'\r\n",
                "GO\r\n",
                "SELECT 'This is the 66 statement'\r\n",
                "GO\r\n",
                "SELECT 'This is the 67 statement'\r\n",
                "GO\r\n",
                "SELECT 'This is the 68 statement'\r\n",
                "GO\r\n",
                "SELECT 'This is the 69 statement'\r\n",
                "GO\r\n",
                "SELECT 'This is the 70 statement'\r\n",
                "GO\r\n",
                "SELECT 'This is the 71 statement'\r\n",
                "GO\r\n",
                "SELECT 'This is the 72 statement'\r\n",
                "GO\r\n",
                "SELECT 'This is the 73 statement'\r\n",
                "GO\r\n",
                "SELECT 'This is the 74 statement'\r\n",
                "GO\r\n",
                "SELECT 'This is the 75 statement'\r\n",
                "GO\r\n",
                "SELECT 'This is the 76 statement'\r\n",
                "GO\r\n",
                "SELECT 'This is the 77 statement'\r\n",
                "GO\r\n",
                "SELECT 'This is the 78 statement'\r\n",
                "GO\r\n",
                "SELECT 'This is the 79 statement'\r\n",
                "GO\r\n",
                "SELECT 'This is the 80 statement'\r\n",
                "GO\r\n",
                "SELECT 'This is the 81 statement'\r\n",
                "GO\r\n",
                "SELECT 'This is the 82 statement'\r\n",
                "GO\r\n",
                "SELECT 'This is the 83 statement'\r\n",
                "GO\r\n",
                "SELECT 'This is the 84 statement'\r\n",
                "GO\r\n",
                "SELECT 'This is the 85 statement'\r\n",
                "GO\r\n",
                "SELECT 'This is the 86 statement'\r\n",
                "GO\r\n",
                "SELECT 'This is the 87 statement'\r\n",
                "GO\r\n",
                "SELECT 'This is the 88 statement'\r\n",
                "GO\r\n",
                "SELECT 'This is the 89 statement'\r\n",
                "GO\r\n",
                "SELECT 'This is the 90 statement'\r\n",
                "GO\r\n",
                "SELECT 'This is the 91 statement'\r\n",
                "GO\r\n",
                "SELECT 'This is the 92 statement'\r\n",
                "GO\r\n",
                "SELECT 'This is the 93 statement'\r\n",
                "GO\r\n",
                "SELECT 'This is the 94 statement'\r\n",
                "GO\r\n",
                "SELECT 'This is the 95 statement'\r\n",
                "GO\r\n",
                "SELECT 'This is the 96 statement'\r\n",
                "GO\r\n",
                "SELECT 'This is the 97 statement'\r\n",
                "GO\r\n",
                "SELECT 'This is the 98 statement'\r\n",
                "GO\r\n",
                "SELECT 'This is the 99 statement'\r\n",
                "GO\r\n",
                "SELECT 'This is the 100 statement'\r\n",
                "GO"
            ],
            "metadata": {
                "azdata_cell_guid": "bbff3c87-7d0f-464f-a8b9-07a125640f23"
            },
            "outputs": [],
            "execution_count": 2
        },
        {
            "cell_type": "markdown",
            "source": [
                "Looking at the data."
            ],
            "metadata": {
                "azdata_cell_guid": "6089e415-3601-498a-819e-708235907574"
            }
        },
        {
            "cell_type": "code",
            "source": [
                "SELECT CAST(event_data AS XML) xml_event_data, *\r\n",
                "FROM sys.fn_xe_file_target_read_file('C:\\Temp\\target_reading*.xel', 'C:\\Temp\\target_reading*.xem', NULL, NULL);"
            ],
            "metadata": {
                "azdata_cell_guid": "56a9e066-c149-4158-808b-74d51a5760b4"
            },
            "outputs": [],
            "execution_count": 3
        },
        {
            "cell_type": "markdown",
            "source": [
                "Check how many event collected? You can also use this logic to stop the trace."
            ],
            "metadata": {
                "azdata_cell_guid": "32cb2ef1-2d50-48ab-bc5b-420db9440153"
            }
        },
        {
            "cell_type": "code",
            "source": [
                "SELECT COUNT(0) AS [howmanyevent]\r\n",
                "FROM sys.fn_xe_file_target_read_file('C:\\Temp\\target_reading*.xel', 'C:\\Temp\\target_reading*.xem', NULL, NULL);"
            ],
            "metadata": {
                "azdata_cell_guid": "d60f363f-fa3e-4a63-9b4a-9cad9630d34b"
            },
            "outputs": [],
            "execution_count": 4
        },
        {
            "cell_type": "markdown",
            "source": [
                "Stop the session."
            ],
            "metadata": {
                "azdata_cell_guid": "6a722c42-05cb-493b-9ff5-94f669799fe5"
            }
        },
        {
            "cell_type": "code",
            "source": [
                "ALTER EVENT SESSION counter_test_10 ON SERVER\r\n",
                "STATE = stop;"
            ],
            "metadata": {
                "azdata_cell_guid": "853bbd83-a018-4175-8048-8ea5599176aa",
                "tags": []
            },
            "outputs": [],
            "execution_count": 5
        },
        {
            "cell_type": "markdown",
            "source": [
                "List of columns collected with the event which helps you writing the xpath query."
            ],
            "metadata": {
                "azdata_cell_guid": "d0f4a8ac-d42b-42e9-97b5-c3185a657266"
            }
        },
        {
            "cell_type": "code",
            "source": [
                "SELECT *\r\n",
                "FROM sys.dm_xe_object_columns\r\n",
                "WHERE column_type = 'data' AND object_name IN ('sql_statement_completed')\r\n",
                "ORDER BY column_id;"
            ],
            "metadata": {
                "azdata_cell_guid": "b4910f64-e8ee-4236-a03e-6ef9f8a7bbb3"
            },
            "outputs": [],
            "execution_count": 6
        },
        {
            "cell_type": "markdown",
            "source": [
                "Extract the result."
            ],
            "metadata": {
                "azdata_cell_guid": "0c3d63ab-d584-44b3-b231-d8603a819fbe"
            }
        },
        {
            "cell_type": "code",
            "source": [
                "SELECT\r\n",
                "  event_xml.value('(./@name)', 'varchar(1000)') as event_name,\r\n",
                "  event_xml.value('(./@timestamp)', 'varchar(1000)') as timestamp_UTC,\r\n",
                "  event_xml.value('(./data[@name=\"duration\"]/value)[1]', 'bigint') as duration,\r\n",
                "  event_xml.value('(./data[@name=\"cpu_time\"]/value)[1]', 'bigint') as cpu,\r\n",
                "  event_xml.value('(./data[@name=\"physical_reads\"]/value)[1]', 'bigint') as physical_reads,\r\n",
                "  event_xml.value('(./data[@name=\"logical_reads\"]/value)[1]', 'bigint') as logical_reads,\r\n",
                "  event_xml.value('(./data[@name=\"writes\"]/value)[1]', 'bigint') as writes,\r\n",
                "  event_xml.value('(./data[@name=\"row_count\"]/value)[1]', 'int') as row_count,\r\n",
                "  event_xml.value('(./action[@name=\"sql_text\"]/value)[1]', 'varchar(4000)') as sql_text\r\n",
                "FROM (SELECT CAST(event_data AS XML) xml_event_data\r\n",
                "  FROM sys.fn_xe_file_target_read_file('C:\\Temp\\target_reading*.xel', 'C:\\Temp\\target_reading*.xem', NULL, NULL)) AS event_table\r\n",
                "\t\t\tCROSS APPLY xml_event_data.nodes('//event') n (event_xml);"
            ],
            "metadata": {
                "azdata_cell_guid": "06ee0a0f-bba3-415d-9899-f67c63ae3b85",
                "tags": []
            },
            "outputs": [],
            "execution_count": 7
        },
        {
            "cell_type": "markdown",
            "source": [
                "### Cleanup\r\n",
                "\r\n",
                "Drop the session."
            ],
            "metadata": {
                "azdata_cell_guid": "b75e4b34-e8d0-4d10-b3ad-b3d66c584f37"
            }
        },
        {
            "cell_type": "code",
            "source": [
                "IF EXISTS(SELECT *\r\n",
                "FROM sys.server_event_sessions\r\n",
                "WHERE name='counter_test_10')\r\n",
                "  DROP EVENT session counter_test_10 ON SERVER;\r\n",
                "GO"
            ],
            "metadata": {
                "azdata_cell_guid": "d314882e-2b4f-455a-a78c-3709222fad36"
            },
            "outputs": [],
            "execution_count": 8
        },
        {
            "cell_type": "markdown",
            "source": [
                "## Create a session to collect every 4th event\r\n",
                "\r\n",
                "I am not going to use this definition to collect any information.\r\n",
                "\r\n",
                "You can take it and modify based on your need."
            ],
            "metadata": {
                "azdata_cell_guid": "5bec81a9-dcb4-4825-9abb-393bb690f01f"
            }
        },
        {
            "cell_type": "code",
            "source": [
                "IF EXISTS(SELECT *\r\n",
                "FROM sys.server_event_sessions\r\n",
                "WHERE name='counter_test_4th')\r\n",
                "  DROP EVENT session counter_test_4th ON SERVER;\r\n",
                "GO\r\n",
                "CREATE EVENT SESSION counter_test_4th ON SERVER\r\n",
                "ADD EVENT sqlserver.sql_statement_completed\r\n",
                "  (ACTION (sqlserver.sql_text)\r\n",
                "  WHERE sqlserver.sql_text like '%This is the%'\r\n",
                "\tAND package0.divides_by_uint64(package0.counter,4))\r\n",
                "\t--AND sqlserver.session_id = 54)\r\n",
                "ADD TARGET package0.asynchronous_file_target\r\n",
                "  (SET filename=N'C:\\Temp\\target_reading1.xel')\r\n",
                "WITH (MAX_DISPATCH_LATENCY = 1 SECONDS);\r\n",
                "GO"
            ],
            "metadata": {
                "azdata_cell_guid": "af04b62a-7ce7-4b0a-a3f8-a25d27705da8"
            },
            "outputs": [],
            "execution_count": 9
        },
        {
            "cell_type": "markdown",
            "source": [
                "## Create a stored procedure for demo purpose\r\n",
                "\r\n",
                "Download and restore AdventureWorks backup from [github](https://github.com/Microsoft/sql-server-samples/releases/tag/adventureworks) before you attempt the scripts below.\r\n",
                "\r\n",
                "I will use this SP with the next demo."
            ],
            "metadata": {
                "azdata_cell_guid": "36066c89-6166-4d7f-873c-fb8092c64ef7"
            }
        },
        {
            "cell_type": "code",
            "source": [
                "USE [AdventureWorks];\r\n",
                "GO\r\n",
                "--Create a stored procedure \r\n",
                "DROP PROCEDURE IF EXISTS Sales.SalesFromDate;\r\n",
                "GO\r\n",
                "CREATE PROCEDURE Sales.SalesFromDate\r\n",
                "  (@StartOrderdate datetime)\r\n",
                "AS\r\n",
                "SELECT *\r\n",
                "FROM Sales.SalesOrderHeader AS h\r\n",
                "  INNER JOIN Sales.SalesOrderDetail AS d ON h.SalesOrderID = d.SalesOrderID\r\n",
                "WHERE (h.OrderDate >= @StartOrderdate);\r\n",
                "GO"
            ],
            "metadata": {
                "azdata_cell_guid": "5b2b1c47-d6eb-4ab7-9070-7ec79b08a3d6"
            },
            "outputs": [],
            "execution_count": 10
        },
        {
            "cell_type": "markdown",
            "source": [
                "## Create a session to capture wait_type\r\n",
                "\r\n",
                "With this session you can capture a particular wait type when it occur over a threshold while executing a module (Store procudure). I only want to know if the threshold exceeded. So, only caputuring few (4 in this case) when threshold exceed.\r\n",
                ""
            ],
            "metadata": {
                "azdata_cell_guid": "66db22e6-657d-4848-b6b4-f0b0dd6af855"
            }
        },
        {
            "cell_type": "markdown",
            "source": [
                "Housekeeping--deleting old files if exist.\r\n",
                "\r\n",
                "Do not use xp_cmdshell unless you know the risk."
            ],
            "metadata": {
                "azdata_cell_guid": "6d9dc957-ba83-4616-b4a5-bff2c38ab385"
            }
        },
        {
            "cell_type": "code",
            "source": [
                "DECLARE @deletefile varchar(20)='LongRunningSP*.*';\r\n",
                "DECLARE @cmd NVARCHAR(MAX) =  \r\n",
                "'xp_cmdshell ''del \"C:\\temp\\' + @deletefile + '\"''';\r\n",
                "EXEC (@cmd)\r\n",
                "\r\n",
                "--Drop session if exists\r\n",
                "IF EXISTS(SELECT *\r\n",
                "FROM sys.server_event_sessions\r\n",
                "WHERE name='LongRunningSP')\r\n",
                "  DROP EVENT session LongRunningSP ON SERVER;\r\n",
                "GO\r\n",
                "\r\n",
                "--Create the session\r\n",
                "CREATE EVENT SESSION LongRunningSP ON SERVER \r\n",
                "ADD EVENT sqlos.wait_info(\r\n",
                "  ACTION(sqlserver.sql_text)\r\n",
                "  WHERE ([package0].[equal_uint64]([wait_type],(179))\r\n",
                "    AND [opcode]=(1)\r\n",
                "    AND [sqlserver].[like_i_sql_unicode_string]([sqlserver].[sql_text],N'%SalesFromDate%') \r\n",
                "    AND [package0].[less_than_uint64]([package0].[counter],(4005))\r\n",
                "    AND [package0].[greater_than_uint64]([package0].[counter],(4000))     \r\n",
                "    ))\r\n",
                "ADD TARGET package0.event_file(SET filename=N'c:\\temp\\LongRunningSP')\r\n",
                "WITH (MAX_DISPATCH_LATENCY = 1 SECONDS);\r\n",
                "GO\r\n",
                "\r\n",
                "--Start the session\r\n",
                "ALTER EVENT SESSION LongRunningSP ON SERVER  \r\n",
                "STATE = start;  \r\n",
                "GO"
            ],
            "metadata": {
                "azdata_cell_guid": "2a660094-df38-4617-968e-cddb8dc3c560"
            },
            "outputs": [],
            "execution_count": 11
        },
        {
            "cell_type": "markdown",
            "source": [
                "Calling the stored procedure."
            ],
            "metadata": {
                "azdata_cell_guid": "7b2c7225-40ab-48a2-8793-568dd88bbd48"
            }
        },
        {
            "cell_type": "code",
            "source": [
                "USE [AdventureWorks];\r\n",
                "GO\r\n",
                "ALTER DATABASE SCOPED CONFIGURATION CLEAR PROCEDURE_CACHE;\r\n",
                "GO\r\n",
                "EXEC sp_executesql N'exec Sales.SalesFromDate @P1',N'@P1 datetime2(0)','2011-3-28 00:00:00';\r\n",
                "GO"
            ],
            "metadata": {
                "azdata_cell_guid": "5c14592b-a372-44f9-87f9-a30dd9bcb1a0"
            },
            "outputs": [],
            "execution_count": 12
        },
        {
            "cell_type": "markdown",
            "source": [
                "Stop the session"
            ],
            "metadata": {
                "azdata_cell_guid": "387bd15c-169d-45bd-92db-778c903b4766"
            }
        },
        {
            "cell_type": "code",
            "source": [
                "ALTER EVENT SESSION LongRunningSP ON SERVER  \r\n",
                "STATE = stop;  \r\n",
                "GO"
            ],
            "metadata": {
                "azdata_cell_guid": "9574606f-861c-4ce1-bb3c-37171c425044"
            },
            "outputs": [],
            "execution_count": 13
        },
        {
            "cell_type": "markdown",
            "source": [
                "Looking at the result."
            ],
            "metadata": {
                "azdata_cell_guid": "34111403-baa0-499f-beb2-0b31c234602d"
            }
        },
        {
            "cell_type": "code",
            "source": [
                "SELECT CAST(event_data AS XML) xml_event_data, *\r\n",
                "FROM sys.fn_xe_file_target_read_file('C:\\Temp\\LongRunningSP*.xel', 'C:\\Temp\\LongRunningSP*.xem', NULL, NULL);\r\n",
                "GO"
            ],
            "metadata": {
                "azdata_cell_guid": "61be1996-6f46-4c21-b08b-05450d239e68"
            },
            "outputs": [],
            "execution_count": 14
        },
        {
            "cell_type": "markdown",
            "source": [
                "### Clean up\r\n",
                "\r\n",
                "Drop the session."
            ],
            "metadata": {
                "azdata_cell_guid": "1329070c-6a46-4b03-beb7-17b1c0bd3569"
            }
        },
        {
            "cell_type": "code",
            "source": [
                "IF EXISTS(SELECT *\r\n",
                "FROM sys.server_event_sessions\r\n",
                "WHERE name='LongRunningSP')\r\n",
                "  DROP EVENT session LongRunningSP ON SERVER;\r\n",
                "GO"
            ],
            "metadata": {
                "azdata_cell_guid": "21681708-a01b-4e49-a425-222c1aefff2e"
            },
            "outputs": [],
            "execution_count": null
        },
        {
            "cell_type": "markdown",
            "source": [
                "# Why Order Matters?\r\n",
                "\r\n",
                "### Using Example from: \r\n",
                "\r\n",
                "https://docs.microsoft.com/en-us/archive/blogs/extended_events/try-a-sample-using-the-counter-predicate-for-event-sampling#why-order-matters"
            ],
            "metadata": {
                "azdata_cell_guid": "434f00bd-a221-40ea-986f-3021d86d1b6d"
            }
        },
        {
            "cell_type": "markdown",
            "source": [
                "|Iteration\t| Statement                |Pred1 Counter\t | Pred2 Counter |\r\n",
                "| -:-| :---      |-:-   | -:- |\r\n",
                "| A          | Not statement_1           | 0                | 1 |\r\n",
                "| B\t        | statement_1\t           | 1\t             | 2 |\r\n",
                "| C\t        | Not statement_1\t       | 1\t             | 3 |\r\n",
                " |D\t        | statement_1\t           | 2\t               | 4 |\r\n",
                "\r\n",
                "\r\n",
                " ## What will be the result of following predicate order?\r\n",
                "\r\n",
                "1. Pred1: (WHERE statement_1 AND package0.counter = 2)\r\n",
                "1. Pred2: (WHERE package0.counter = 2 AND statement_1)"
            ],
            "metadata": {
                "azdata_cell_guid": "e5b2015f-b06c-4393-bb19-93ed99c4ca03"
            }
        },
        {
            "cell_type": "markdown",
            "source": [
                "## Some helpful Queries\r\n",
                "\r\n",
                "Copied From:\r\n",
                "\r\n",
                "[Today’s Subject: Predicates](https://blogs.msdn.microsoft.com/extended_events/2010/06/23/todays-subject-predicates/)"
            ],
            "metadata": {
                "azdata_cell_guid": "687f12a3-f182-4471-a9c0-0c6d80780984"
            }
        },
        {
            "cell_type": "code",
            "source": [
                "--Find all the predicate source\r\n",
                "SELECT name, description,\r\n",
                "  (SELECT name\r\n",
                "  FROM sys.dm_xe_packages\r\n",
                "  WHERE guid = o.package_guid) package\r\n",
                "FROM sys.dm_xe_objects o\r\n",
                "WHERE object_type = 'pred_source'\r\n",
                "ORDER BY name;\r\n",
                "\r\n",
                "--Find Predicate comparator\r\n",
                "SELECT name, description,\r\n",
                "  (SELECT name\r\n",
                "  FROM sys.dm_xe_packages\r\n",
                "  WHERE guid = o.package_guid) package\r\n",
                "FROM sys.dm_xe_objects o\r\n",
                "WHERE object_type = 'pred_compare'\r\n",
                "ORDER BY name;\r\n",
                "\r\n",
                "--Mapping of wait_types to integers\r\n",
                "SELECT *\r\n",
                "FROM sys.dm_xe_map_values\r\n",
                "WHERE name = 'wait_types';"
            ],
            "metadata": {
                "azdata_cell_guid": "01988c16-8f41-4cda-82a9-f7779e7d4090"
            },
            "outputs": [],
            "execution_count": null
        }
    ]
}