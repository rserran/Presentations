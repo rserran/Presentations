{
    "metadata": {
        "kernelspec": {
            "name": "SQL",
            "display_name": "SQL",
            "language": "sql"
        },
        "language_info": {
            "name": "sql",
            "version": ""
        }
    },
    "nbformat_minor": 2,
    "nbformat": 4,
    "cells": [
        {
            "cell_type": "markdown",
            "source": [
                "# WhyKusto.ipynb\n",
                "\n",
                "## <span style=\"font-size: 20px;\">Rhode Island Data Platform User Group</span>\n",
                "\n",
                "August 09, 2023\n",
                "\n",
                "Taiob Ali \n",
                "\n",
                "SqlWorldWide.com"
            ],
            "metadata": {
                "azdata_cell_guid": "370b526b-ec2c-4c4e-8dda-a9b34117cbe2"
            },
            "attachments": {}
        },
        {
            "cell_type": "markdown",
            "source": [
                "![alt text](WhyKustoImage1.jpg \"Slide1\")"
            ],
            "metadata": {
                "azdata_cell_guid": "e7f2f690-4d02-4f41-8a85-dd71df7e8dd3"
            },
            "attachments": {}
        },
        {
            "cell_type": "markdown",
            "source": [
                "![alt text](WhyKustoImage2.jpg \"Slide2\")"
            ],
            "metadata": {
                "azdata_cell_guid": "9745d7cc-924d-4cad-b96a-fdbb238d551f"
            },
            "attachments": {}
        },
        {
            "cell_type": "markdown",
            "source": [
                "2014: Grassroot incubation in the R&D of Microsoft in Israel. The aim was to address Azure Services needs for fast and scalable log and telemetry analytics\n",
                "\n",
                "2016: Kusto Engine became the backend big-data and analytics service for Application Insights Analytics\n",
                "\n",
                "2018: Microsoft announced Kusto as a Public Preview at the Microsoft Ignite 2018 conference\n",
                "\n",
                "2019: The product went General Availability at the Microsoft Ignite conference of February 2019"
            ],
            "metadata": {
                "azdata_cell_guid": "385959d0-7584-4500-ab67-37544901f9ad"
            },
            "attachments": {}
        },
        {
            "cell_type": "markdown",
            "source": [
                "![alt text](WhyKustoImage3.jpg \"Slide3\")"
            ],
            "metadata": {
                "azdata_cell_guid": "b4c3ac45-e894-4ada-80fb-aaf1c382af27"
            },
            "attachments": {}
        },
        {
            "cell_type": "markdown",
            "source": [
                "![alt text](WhyKustoImage4.jpg \"Slide4\")"
            ],
            "metadata": {
                "azdata_cell_guid": "e04edfe8-6584-4db2-bc8a-dac79882d064"
            },
            "attachments": {}
        },
        {
            "cell_type": "markdown",
            "source": [
                "- Read-only request (Cannot update or delete data).\n",
                "\n",
                "- Data-flow model with easy syntax.\n",
                "- Schema entities are organized in a hierarchy similar to SQL Databases, tables, and columns.\n",
                "- Centralized logging is a crucial part of any architecture monitoring strategy. Centralized logging can help you uncover hidden issues that might be difficult to track down. With Log Analytics, you can query and aggregate data across logs. This cross-source correlation enables you to identify issues or performance problems that need to be evident when you individually look at logs or metrics.\n",
                "- You can collate a wide range of data sources, security logs, Azure activity logs, server, network, and application logs. You can also push on-premises System Center Operations Manager data to Log Analytics in hybrid deployment scenarios. \n",
                "- Azure SQL Database can send diagnostic information directly into Log Analytics for detailed performance monitoring."
            ],
            "metadata": {
                "azdata_cell_guid": "188a2aa4-bf9b-4aca-af45-34d74d7a7bb7"
            },
            "attachments": {}
        }
    ]
}