{
    "metadata": {
        "kernelspec": {
            "name": "SQL",
            "display_name": "SQL",
            "language": "sql"
        },
        "language_info": {
            "name": "sql",
            "version": ""
        }
    },
    "nbformat_minor": 2,
    "nbformat": 4,
    "cells": [
        {
            "cell_type": "markdown",
            "source": [
                "# Analyzing Azure Monitor Log Data for Azure Resources\n",
                "\n",
                "## Triangle SQL Server User Group\n",
                "\n",
                "## \n",
                "\n",
                "October 17, 2023\n",
                "\n",
                "Taiob Ali \n",
                "\n",
                "SqlWorldWide.com"
            ],
            "metadata": {
                "azdata_cell_guid": "5dbdb1d1-a2bc-4b3f-978c-813b5f531c7f"
            },
            "attachments": {}
        },
        {
            "cell_type": "markdown",
            "source": [
                "![alt text](AboutMe2.jpg \"About me\")"
            ],
            "metadata": {
                "azdata_cell_guid": "51320f53-18d2-4a3f-8b98-fd019215bee1"
            },
            "attachments": {}
        },
        {
            "cell_type": "markdown",
            "source": [
                "# **<u>Abstract</u>**\n",
                "\n",
                "Kusto is a service for storing and running interactive analytics over Big Data. Kusto was designed from scratch to be a “big data” repository for Azure and easy to query using Kusto Query Language (KQL). We learn new ways to monitor and alert resources and services as we migrate to the cloud. Microsoft has consolidated many services under the umbrella of ‘Azure Monitor.’ Whether you are detecting and diagnosing issues across applications and dependencies,’ ‘correlating infrastructure issues with Azure Monitor for VMs,’ ‘or drilling into your SQL database monitoring data with Log Analytics, you will be using ‘Azure Monitor.’ Azure Monitor uses a version of the KQL used by Azure Data Explorer.\n",
                "\n",
                "In this 100% demo session, I will show an example with Azure SQL Database, which you can use for any Azure resource:\n",
                "\n",
                "1. How to enable event logging (auditing and diagnostic) for the Azure SQL database? \n",
                "2. How do you consume the data once you enable event logging? \n",
                "3. How do you find anomalies to alert on, establish a baseline, look at trends? \n",
                "4. How do you consume this using python and kql notebook from Azure Data Studio using kql magic, kql kernel, and the recently released Azure Monitor Logs extension?"
            ],
            "metadata": {
                "azdata_cell_guid": "d3df1845-bf52-4cb2-ad66-ae5862abdb0f"
            },
            "attachments": {}
        },
        {
            "cell_type": "markdown",
            "source": [
                "## Why Kusto?\n",
                "\n",
                "WhyKusto.ipynb"
            ],
            "metadata": {
                "azdata_cell_guid": "d2364831-66ef-4ab5-8bd9-3a6705591adc"
            },
            "attachments": {}
        },
        {
            "cell_type": "markdown",
            "source": [
                "## 1\\. How to enable event logging (auditing and diagnostic) for the Azure SQL database?\n",
                "\n",
                "Run following files before starting the demo\n",
                "\n",
                "- Setup1.ipynb\n",
                "- Create a workbook (name TRISQL\\_DemoWorkbook) using the code from: [https://github.com/microsoft/AzureMonitorCommunity/tree/master/Azure%20Services/SQL%20databases/Workbooks/galleryTemplate](https:\\github.com\\microsoft\\AzureMonitorCommunity\\tree\\master\\Azure%20Services\\SQL%20databases\\Workbooks\\galleryTemplate)\n",
                "- Setup2.sql\n",
                "- Setup3.sql"
            ],
            "metadata": {
                "azdata_cell_guid": "74b43ca3-cd5c-46f3-b7b1-b38b778a179a"
            },
            "attachments": {}
        },
        {
            "cell_type": "markdown",
            "source": [
                "## 2\\. How do you consume the data once you enable event logging?\n",
                "\n",
                "- Audit and diagonstics setup in Portal\n",
                "- Log Analytics Workspace in portal \n",
                "- Show Solution \"Azure SQL Analytics (trisqlws)\" in portal \n",
                "    - Resource group--\\>Log Analytics workspace--\\>Logacy solutions--\\>Azure SQL Analytics\n",
                "    - Change timeframe to four hours\n",
                "- Show workbook TRISQL\\_DemoWorkbook, created during setup\n",
                "- Open ConsumeDataWithKQL.kql in portal"
            ],
            "metadata": {
                "azdata_cell_guid": "3c39045e-85cf-4fd0-8e8b-67a638c6a850"
            },
            "attachments": {}
        },
        {
            "cell_type": "markdown",
            "source": [
                "## 3\\. How do you find anomalies to alert on, establish a baseline, look at trends?\n",
                "\n",
                "- Show details about the deadlock alert rules setup in portal\n",
                "- Test action group (Preview)\n",
                "- Open Baseline.kql in portal"
            ],
            "metadata": {
                "azdata_cell_guid": "370f2390-bb42-4fd4-a83d-7aebc6ca5b51"
            },
            "attachments": {}
        },
        {
            "cell_type": "markdown",
            "source": [
                "## 4\\. How do you consume this using python and kql notebook from Azure Data Studio using kql magic, kql kernel, and the recently released Azure Monitor Logs extension?\n",
                "\n",
                "- Demokqlmagic.ipynb\n",
                "- DemokqlExtension.ipynb\n",
                "- Using Connection Pane in ADS\n",
                "- DemoAzureMonitorLogExtension.ipynb"
            ],
            "metadata": {
                "azdata_cell_guid": "812a71c8-69f7-4789-b6df-0b5477a12091"
            },
            "attachments": {}
        },
        {
            "cell_type": "markdown",
            "source": [
                "# **<u>Reference</u>**\n",
                "\n",
                "- [Azure Monitor overview](https://learn.microsoft.com/en-us/azure/azure-monitor/overview)\n",
                "- [Get started with log queries in Azure Monitor](https://learn.microsoft.com/en-us/azure/azure-monitor/logs/get-started-queries)\n",
                "- [SQL to Kusto cheat sheet](vscode-file://vscode-app/c:/Users/taiob/AppData/Local/Programs/Azure%20Data%20Studio/resources/app/out/vs/code/electron-browser/workbench/SQL%20to%20Kusto%20cheat%20sheet)\n",
                "- [Monitoring and performance tuning in Azure SQL Database and Azure SQL Managed Instance](https://learn.microsoft.com/en-us/azure/azure-sql/database/monitor-tune-overview?view=azuresql)\n",
                "- [Kusto Query Language (KQL) overview](https://learn.microsoft.com/en-us/azure/data-explorer/kusto/query/)\n",
                "- [Use a Jupyter Notebook and kqlmagic extension to analyze data in Azure Data Explorer](https://learn.microsoft.com/en-us/azure/data-explorer/kqlmagic)\n",
                "- [Kusto (KQL) extension for Azure Data Studio (Preview)](https://learn.microsoft.com/en-us/sql/azure-data-studio/extensions/kusto-extension?view=sql-server-ver15)\n",
                "- [Azure Monitor Logs extension for Azure Data Studio (Preview)](https://learn.microsoft.com/en-us/sql/azure-data-studio/extensions/azure-monitor-logs-extension?view=sql-server-ver15)"
            ],
            "metadata": {
                "azdata_cell_guid": "03f2bc69-ee5a-46c4-8409-7c0730d6fe80"
            },
            "attachments": {}
        },
        {
            "cell_type": "markdown",
            "source": [
                "![alt text](Contact.jpg \"Contact\")"
            ],
            "metadata": {
                "azdata_cell_guid": "b58277a9-209d-4b18-a014-85315910d8c8"
            },
            "attachments": {}
        },
        {
            "cell_type": "markdown",
            "source": [
                "![alt text](ThankYou.jpg \"Thank You\")"
            ],
            "metadata": {
                "azdata_cell_guid": "e0590727-32a3-4ae3-bd70-f8c8d0cc3a8e"
            },
            "attachments": {}
        }
    ]
}