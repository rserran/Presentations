{
    "metadata": {
        "kernelspec": {
            "name": "python3",
            "display_name": "Python 3 (ipykernel)",
            "language": "python"
        },
        "language_info": {
            "name": "python",
            "version": "3.8.10",
            "mimetype": "text/x-python",
            "codemirror_mode": {
                "name": "ipython",
                "version": 3
            },
            "pygments_lexer": "ipython3",
            "nbconvert_exporter": "python",
            "file_extension": ".py"
        },
        "extensions": {
            "azuredatastudio": {
                "version": 1,
                "views": []
            }
        }
    },
    "nbformat_minor": 2,
    "nbformat": 4,
    "cells": [
        {
            "cell_type": "markdown",
            "source": [
                "# Using Kqlmagic to analyze Azure SQL logs and metrics\n",
                "\n",
                "## Triangle SQL Server User Group\n",
                "\n",
                "## \n",
                "\n",
                "October 17, 2023\n",
                "\n",
                "Written by:  Julie Koesmarno\n",
                "\n",
                "Original Notebook: [Using Kqlmagic to analyze Azure SQL logs and metrics](https:\\github.com\\MsSQLGirl\\jubilant-data-wizards\\blob\\main\\Simple%20Demo\\Parameterization\\SQLDBLog\\AzureSQLLogsAndMetricsWithLogAnalytics.ipynb)\n",
                "\n",
                "Modifed by: Taiob  Ali\n",
                "\n",
                "SqlWorldWide.com\n",
                "\n",
                "There are two main tables in Azure Monitor Logs workspace that capture Azure SQL events:\n",
                "\n",
                "1. AzureDiagnostics\n",
                "2. AzureMetric"
            ],
            "metadata": {
                "azdata_cell_guid": "2e215b87-477c-47c1-88fd-15701f9d849c",
                "extensions": {
                    "azuredatastudio": {
                        "views": []
                    }
                }
            },
            "attachments": {}
        },
        {
            "cell_type": "markdown",
            "source": [
                "# 1.  Load Kqlmagic\n",
                "\n",
                "Need to load Kqlmagic first before we can start connecting to cluster and query data."
            ],
            "metadata": {
                "language": "python",
                "azdata_cell_guid": "3cc929b7-223c-46d2-8950-8ee4e6d24f71"
            },
            "attachments": {}
        },
        {
            "cell_type": "code",
            "source": [
                "!pip install Kqlmagic --no-cache-dir --upgrade"
            ],
            "metadata": {
                "azdata_cell_guid": "0e450b28-f974-4776-b257-94b6fcd3c77a",
                "extensions": {
                    "azuredatastudio": {
                        "views": []
                    }
                },
                "language": "python"
            },
            "outputs": [],
            "execution_count": null
        },
        {
            "cell_type": "code",
            "source": [
                "%reload_ext Kqlmagic"
            ],
            "metadata": {
                "azdata_cell_guid": "63832e62-7f15-4a78-ad31-43a6d90f0817",
                "language": "markdown",
                "extensions": {
                    "azuredatastudio": {
                        "views": []
                    }
                }
            },
            "outputs": [],
            "execution_count": null
        },
        {
            "cell_type": "markdown",
            "source": [
                "## 1.1 Connecting to test cluster"
            ],
            "metadata": {
                "language": "python",
                "azdata_cell_guid": "f32988d8-a639-4573-9a15-c2c3aae21f67"
            },
            "attachments": {}
        },
        {
            "cell_type": "code",
            "source": [
                "%kql azureDataExplorer://code;cluster='help';database='Samples' //-try-azcli-login-by-profile"
            ],
            "metadata": {
                "language": "python",
                "azdata_cell_guid": "af9c09f6-6ee7-4e2d-acd8-e69a59f72104"
            },
            "outputs": [],
            "execution_count": null
        },
        {
            "cell_type": "markdown",
            "source": [
                "## 1.2 Querying the cluster"
            ],
            "metadata": {
                "language": "python",
                "azdata_cell_guid": "0b68bc66-5baa-4a41-92cc-804204c69582"
            },
            "attachments": {}
        },
        {
            "cell_type": "code",
            "source": [
                "%%kql\r\n",
                "StormEvents\r\n",
                "| where isnotempty(EndLocation) \r\n",
                "| summarize event_count=count() by EndLocation\r\n",
                "| order by event_count"
            ],
            "metadata": {
                "language": "python",
                "azdata_cell_guid": "ab845d00-cf34-4d26-bdd5-434cdca005e0"
            },
            "outputs": [],
            "execution_count": null
        },
        {
            "cell_type": "code",
            "source": [
                "%%kql\r\n",
                "StormEvents\r\n",
                "| summarize event_count=count(), mid = avg(BeginLat) by State\r\n",
                "| sort by mid\r\n",
                "| where event_count > 1800\r\n",
                "| project State, event_count"
            ],
            "metadata": {
                "language": "python",
                "azdata_cell_guid": "3387d6f9-0c7f-421a-a250-ef1efe61fc7b"
            },
            "outputs": [],
            "execution_count": null
        },
        {
            "cell_type": "markdown",
            "source": [
                "### <span style=\"font-size: 14px;\">Query and render columnchart</span>"
            ],
            "metadata": {
                "language": "python",
                "azdata_cell_guid": "be8b6191-c194-46f2-8de8-01d43737996b"
            },
            "attachments": {}
        },
        {
            "cell_type": "code",
            "source": [
                "%%kql\r\n",
                "StormEvents\r\n",
                "| summarize count() by State\r\n",
                "| sort by count_\r\n",
                "| limit 10\r\n",
                "| render columnchart title='Top 10 States by Storm Event count'"
            ],
            "metadata": {
                "language": "python",
                "azdata_cell_guid": "d52918d2-fe16-45e7-b9fd-6cd5c241b37e"
            },
            "outputs": [],
            "execution_count": null
        },
        {
            "cell_type": "markdown",
            "source": [
                "### <span style=\"font-size: 14px;\">Query and render timechart</span>"
            ],
            "metadata": {
                "language": "python",
                "azdata_cell_guid": "4dadf0d2-be90-49f8-9bd6-3d80646fb77b"
            },
            "attachments": {}
        },
        {
            "cell_type": "code",
            "source": [
                "%%kql \r\n",
                "StormEvents\r\n",
                "| summarize event_count=count() by bin(StartTime, 1d) \r\n",
                "| render timechart title= 'Daily Storm Events'"
            ],
            "metadata": {
                "language": "python",
                "azdata_cell_guid": "a5de45ac-8d02-4300-a1fe-4040c3810eac"
            },
            "outputs": [],
            "execution_count": null
        },
        {
            "cell_type": "markdown",
            "source": [
                "<span style=\"font-size: 14px;\">Convert query results to Pandas DataFrame</span>"
            ],
            "metadata": {
                "language": "python",
                "azdata_cell_guid": "e454e781-70c7-4617-b114-6f9caa498e40"
            },
            "attachments": {}
        },
        {
            "cell_type": "code",
            "source": [
                "%%kql\r\n",
                "StormEvents\r\n",
                "| summarize max(DamageProperty) by State\r\n",
                "| order by max_DamageProperty desc\r\n",
                "| take 10"
            ],
            "metadata": {
                "language": "python",
                "azdata_cell_guid": "73583610-d951-4dad-b156-6f42f812e88e"
            },
            "outputs": [],
            "execution_count": null
        },
        {
            "cell_type": "code",
            "source": [
                "df = _kql_raw_result_.to_dataframe()\r\n",
                "statefilter =df.loc[0].State\r\n",
                "statefilter"
            ],
            "metadata": {
                "language": "python",
                "azdata_cell_guid": "15095c2e-95f0-4a2e-8c69-b209213ab9a2"
            },
            "outputs": [],
            "execution_count": null
        },
        {
            "cell_type": "code",
            "source": [
                "%%kql\r\n",
                "let _state = statefilter;\r\n",
                "StormEvents \r\n",
                "| where State in (_state)\r\n",
                "| summarize statecount=count() by bin(StartTime,1d), State\r\n",
                "| render timechart title = \"Trend\""
            ],
            "metadata": {
                "language": "python",
                "azdata_cell_guid": "965eb97a-c136-4168-b0e6-d16f48e238b9"
            },
            "outputs": [],
            "execution_count": null
        },
        {
            "cell_type": "markdown",
            "source": [
                "## 2\\. Connect to Log Analytics workspace\n",
                "\n",
                "Workspace is similar to what a database is to SQL. You connect to Log Analytics workspace to start querying data."
            ],
            "metadata": {
                "azdata_cell_guid": "62a95fa9-3573-46fc-ba99-f8ea5ba0ea05",
                "extensions": {
                    "azuredatastudio": {
                        "views": []
                    }
                }
            },
            "attachments": {}
        },
        {
            "cell_type": "markdown",
            "source": [
                "Logging in with non work/school account currently is not working. I have open issue in GitHub.\n",
                "\n",
                "[Cannot login with personal account (non school or work account) #96](https://github.com/microsoft/jupyter-Kqlmagic/issues/96)\n",
                "\n",
                "  \n",
                "\n",
                "![](data:image/png;base64,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)"
            ],
            "metadata": {
                "language": "python",
                "azdata_cell_guid": "d8b1c2c5-9aea-4e6b-b885-d01b0b0e4c6f"
            },
            "attachments": {}
        },
        {
            "cell_type": "code",
            "source": [
                "# Initialize workspace ID to connect to, to analyze Azure SQL log data\r\n",
                "workspaceID = '879f44ef-714a-4035-b019-171e748838ad'"
            ],
            "metadata": {
                "azdata_cell_guid": "2822c616-84f0-49dc-82d0-5a8c8dc7521f",
                "language": "python",
                "tags": []
            },
            "outputs": [],
            "execution_count": null
        },
        {
            "cell_type": "code",
            "source": [
                "if (workspaceID == ''):\r\n",
                "    workspaceID = input(\"Enter Log Analytics Workspace ID (guid)\")\r\n",
                "    #print(workspaceID)\r\n",
                "    print(\"workspaceID is set\") "
            ],
            "metadata": {
                "language": "python",
                "azdata_cell_guid": "61d0173d-3a44-47d5-a5af-0ca9e0716d2f"
            },
            "outputs": [],
            "execution_count": null
        },
        {
            "cell_type": "markdown",
            "source": [
                "### 2.1 Connect to the desired Log Analytics workspace\n",
                "\n",
                "Change workspaceID and alias values."
            ],
            "metadata": {
                "azdata_cell_guid": "1ccf6cc8-49df-4c8c-8cf4-08b36776ec78",
                "extensions": {
                    "azuredatastudio": {
                        "views": []
                    }
                }
            },
            "attachments": {}
        },
        {
            "cell_type": "code",
            "source": [
                "%kql loganalytics://workspace='workspaceID';alias=\"trisqlws\" -try-azcli-login-by-profile"
            ],
            "metadata": {
                "azdata_cell_guid": "4fc45ae4-4169-457e-a761-8c9c09f083e0",
                "language": "python",
                "tags": []
            },
            "outputs": [],
            "execution_count": null
        },
        {
            "cell_type": "markdown",
            "source": [
                "## 3\\. Analyze events by Diagnostic Settings\n",
                "\n",
                "Let's do a simple query first to analyze the number of events by Operation Name.\n",
                "\n",
                "> **Note**: Each row in AzureDiagnostic represents an event for specific Operation or category. Some SQL actions may result in generating multiple events of different types."
            ],
            "metadata": {
                "azdata_cell_guid": "eb6417a2-3f1d-4d21-9c2d-1ccd9f65f935",
                "extensions": {
                    "azuredatastudio": {
                        "views": []
                    }
                }
            },
            "attachments": {}
        },
        {
            "cell_type": "code",
            "source": [
                "%%kql \r\n",
                "AzureDiagnostics\r\n",
                "| summarize count() by OperationName"
            ],
            "metadata": {
                "azdata_cell_guid": "e0d388fb-3ba1-4579-81d4-e46b41063738",
                "extensions": {
                    "azuredatastudio": {
                        "views": []
                    }
                },
                "language": "python"
            },
            "outputs": [],
            "execution_count": null
        },
        {
            "cell_type": "markdown",
            "source": [
                "\r\n",
                "The above query's equivalent in SQL is:\r\n",
                "```\r\n",
                "SELECT COUNT(*) AS [count_]\r\n",
                "FROM AzureDiagnostics\r\n",
                "GROUP BY OperationName\r\n",
                "```\r\n",
                ""
            ],
            "metadata": {
                "azdata_cell_guid": "70c58547-b1b4-4724-b20b-a5bfc11d4dc4",
                "extensions": {
                    "azuredatastudio": {
                        "views": []
                    }
                }
            }
        },
        {
            "cell_type": "markdown",
            "source": [
                "Count my Azure SQL DB events by category"
            ],
            "metadata": {
                "azdata_cell_guid": "8303ed68-ca14-4063-8464-9492f9304121",
                "extensions": {
                    "azuredatastudio": {
                        "views": []
                    }
                }
            },
            "attachments": {}
        },
        {
            "cell_type": "code",
            "source": [
                "%%kql \r\n",
                "AzureDiagnostics\r\n",
                "| where LogicalServerName_s == \"sqlpassdemoservertaiob\"\r\n",
                "| where TimeGenerated >= ago(1d)\r\n",
                "| summarize count() by Category\r\n",
                "| render barchart with (title = \"Azure SQL DB Diagnostic Category\")"
            ],
            "metadata": {
                "azdata_cell_guid": "6eaa8a7b-0b34-4a5a-b49b-80f9286539b2",
                "extensions": {
                    "azuredatastudio": {
                        "views": []
                    }
                },
                "language": "python"
            },
            "outputs": [],
            "execution_count": null
        },
        {
            "cell_type": "markdown",
            "source": [
                "## 4\\. Performance troubleshooting Query (from Azure Portal)\n",
                "\n",
                "Potentially a query or deadlock on the system that could lead to poor performance. The following is a query suggested by Azure Portal."
            ],
            "metadata": {
                "azdata_cell_guid": "3e2e80b4-88b4-494e-931e-15a4139389d7",
                "extensions": {
                    "azuredatastudio": {
                        "views": []
                    }
                }
            },
            "attachments": {}
        },
        {
            "cell_type": "code",
            "source": [
                "%%kql \r\n",
                "AzureMetrics\r\n",
                "| where ResourceProvider == \"MICROSOFT.SQL\"\r\n",
                "| where TimeGenerated >=ago(1d)\r\n",
                "| where MetricName in ('deadlock')\r\n",
                "| parse _ResourceId with * \"/microsoft.sql/servers/\" Resource // subtract Resource name for _ResourceId\r\n",
                "| summarize Deadlock_max_60Mins = max(Maximum) by Resource, MetricName"
            ],
            "metadata": {
                "azdata_cell_guid": "d7bc7a1e-c348-448b-af47-b310a0fe55e7",
                "extensions": {
                    "azuredatastudio": {
                        "views": []
                    }
                },
                "language": "python"
            },
            "outputs": [],
            "execution_count": null
        },
        {
            "cell_type": "markdown",
            "source": [
                "[Details about this deadlock](#detailsaboutdeadlock)"
            ],
            "metadata": {
                "azdata_cell_guid": "b3d4e997-097c-4c2f-9f84-5ad40e677d2e"
            },
            "attachments": {}
        },
        {
            "cell_type": "markdown",
            "source": [
                "### AzureMetrics\n",
                "\n",
                "This is a sample query to dig into AzureMetrics"
            ],
            "metadata": {
                "azdata_cell_guid": "188a4592-423d-44b6-ad47-902101257761",
                "extensions": {
                    "azuredatastudio": {
                        "views": []
                    }
                }
            },
            "attachments": {}
        },
        {
            "cell_type": "code",
            "source": [
                "%%kql \r\n",
                "AzureMetrics\r\n",
                "| project-away TenantId, ResourceId, SubscriptionId, _ResourceId, ResourceGroup // Don't show sensitive columns :) \r\n",
                "| project TimeGenerated, MetricName, Total, Count, UnitName\r\n",
                "| take 10\r\n",
                ""
            ],
            "metadata": {
                "azdata_cell_guid": "1ac3f92f-b292-4c74-8020-47de93aebb6f",
                "extensions": {
                    "azuredatastudio": {
                        "views": []
                    }
                },
                "language": "python"
            },
            "outputs": [],
            "execution_count": null
        },
        {
            "cell_type": "markdown",
            "source": [
                "### AzureDiagnostics\n",
                "\n",
                "This is a sample query to dig into AzureDiagnostics. This table tends to have more details than AzureMetrics."
            ],
            "metadata": {
                "azdata_cell_guid": "b7d842a1-4228-48c8-ab44-126adf65d1ed",
                "extensions": {
                    "azuredatastudio": {
                        "views": []
                    }
                }
            },
            "attachments": {}
        },
        {
            "cell_type": "code",
            "source": [
                "%%kql \r\n",
                "AzureDiagnostics\r\n",
                "| project-away TenantId, ResourceId, SubscriptionId, ResourceGroup, _ResourceId // Don't show sensitive columns :) \r\n",
                "| take 10"
            ],
            "metadata": {
                "azdata_cell_guid": "310413ed-93a0-4f80-ad80-9f7cd3e862da",
                "extensions": {
                    "azuredatastudio": {
                        "views": []
                    }
                },
                "language": "python"
            },
            "outputs": [],
            "execution_count": null
        },
        {
            "cell_type": "markdown",
            "source": [
                "### Analyze (non-audit) Events"
            ],
            "metadata": {
                "azdata_cell_guid": "19ee8932-d9da-4d77-ad62-005f38918138",
                "extensions": {
                    "azuredatastudio": {
                        "views": []
                    }
                }
            },
            "attachments": {}
        },
        {
            "cell_type": "code",
            "source": [
                "%%kql \r\n",
                "AzureDiagnostics\r\n",
                "| summarize event_count=count() by bin(TimeGenerated, 1d), OperationName\r\n",
                "| where OperationName <> \"AuditEvent\"\r\n",
                "| render timechart "
            ],
            "metadata": {
                "azdata_cell_guid": "b0794fb8-5a03-47c1-90ea-1639a07d665b",
                "tags": [],
                "extensions": {
                    "azuredatastudio": {
                        "views": []
                    }
                },
                "language": "python"
            },
            "outputs": [],
            "execution_count": null
        },
        {
            "cell_type": "markdown",
            "source": [
                "### Deadlock Analysis\n",
                "\n",
                "[]()"
            ],
            "metadata": {
                "azdata_cell_guid": "a1661835-fcb5-4af9-a353-4e7a0c70cb56",
                "extensions": {
                    "azuredatastudio": {
                        "views": []
                    }
                }
            },
            "attachments": {}
        },
        {
            "cell_type": "code",
            "source": [
                "%%kql \r\n",
                "AzureDiagnostics\r\n",
                "| where OperationName == \"DeadlockEvent\"\r\n",
                "| project TimeGenerated, Category, Resource, OperationName, Type, deadlock_xml_s\r\n",
                "| sort by TimeGenerated desc\r\n",
                "| take 50"
            ],
            "metadata": {
                "azdata_cell_guid": "60a7b4cb-076c-4222-a80f-a6e11cf51a4e",
                "extensions": {
                    "azuredatastudio": {
                        "views": []
                    }
                },
                "language": "python"
            },
            "outputs": [],
            "execution_count": null
        },
        {
            "cell_type": "markdown",
            "source": [
                "Find the deadlock query plan"
            ],
            "metadata": {
                "azdata_cell_guid": "af8b22fa-3396-4e95-b1d6-1a96fa400f03",
                "extensions": {
                    "azuredatastudio": {
                        "views": []
                    }
                }
            }
        },
        {
            "cell_type": "code",
            "source": [
                "%%kql \r\n",
                "AzureDiagnostics\r\n",
                "| where OperationName == \"DeadlockEvent\"\r\n",
                "| extend d = parse_xml(deadlock_xml_s)\r\n",
                "| project TimeGenerated, QuerhPlanHash = d.deadlock.[\"process-list\"].process[0].executionStack.frame[0][\"@queryplanhash\"], QueryHash = d.deadlock.[\"process-list\"].process[0].executionStack.frame[0][\"@queryhash\"]\r\n",
                "//| sort by TimeGenerated desc\r\n",
                "| take 50"
            ],
            "metadata": {
                "azdata_cell_guid": "9b024cd2-768f-4ad4-9031-19f22dee9ecd",
                "tags": [],
                "extensions": {
                    "azuredatastudio": {
                        "views": []
                    }
                },
                "language": "python"
            },
            "outputs": [],
            "execution_count": null
        },
        {
            "cell_type": "markdown",
            "source": [
                "### Query Store Runtime Statistics Events"
            ],
            "metadata": {
                "azdata_cell_guid": "c793f2df-65ec-455a-8ec1-bd152d842158",
                "extensions": {
                    "azuredatastudio": {
                        "views": []
                    }
                }
            },
            "attachments": {}
        },
        {
            "cell_type": "code",
            "source": [
                "%%kql \r\n",
                "AzureDiagnostics\r\n",
                "| where OperationName == \"QueryStoreRuntimeStatisticsEvent\"\r\n",
                "| project TimeGenerated, query_hash_s, statement_sql_handle_s, query_plan_hash_s\r\n",
                "| take 50"
            ],
            "metadata": {
                "azdata_cell_guid": "f99877c9-38ab-4907-b939-f2d8207fbc71",
                "extensions": {
                    "azuredatastudio": {
                        "views": []
                    }
                },
                "language": "python"
            },
            "outputs": [],
            "execution_count": null
        },
        {
            "cell_type": "markdown",
            "source": [
                "### Analyze Errors"
            ],
            "metadata": {
                "azdata_cell_guid": "92c68e36-87a2-4355-8d4b-56d001462d1e",
                "extensions": {
                    "azuredatastudio": {
                        "views": []
                    }
                }
            },
            "attachments": {}
        },
        {
            "cell_type": "code",
            "source": [
                "%%kql \r\n",
                "AzureDiagnostics\r\n",
                "| where OperationName == \"ErrorEvent\"\r\n",
                "| extend ErrorNumber =  tostring(error_number_d) \r\n",
                "| summarize event_count=count() by EventTime = bin(TimeGenerated, 15m), ErrorNumber\r\n",
                "| render timechart "
            ],
            "metadata": {
                "azdata_cell_guid": "229543f7-f24c-48c1-a9d5-0a3d0d708e25",
                "extensions": {
                    "azuredatastudio": {
                        "views": []
                    }
                },
                "language": "python"
            },
            "outputs": [],
            "execution_count": null
        },
        {
            "cell_type": "markdown",
            "source": [
                "### Find Deleted table"
            ],
            "metadata": {
                "azdata_cell_guid": "6d450c21-8628-459c-b8c1-c37c8aba8d6d",
                "extensions": {
                    "azuredatastudio": {
                        "views": []
                    }
                }
            },
            "attachments": {}
        },
        {
            "cell_type": "code",
            "source": [
                "%%kql \r\n",
                "AzureDiagnostics\r\n",
                "| where action_name_s in ('BATCH COMPLETED')\r\n",
                "| project TimeGenerated, Category, action_name_s, statement_s\r\n",
                "| where statement_s contains \"DROP TABLE\"\r\n",
                "| sort by TimeGenerated desc \r\n",
                "| take 10\r\n",
                "\r\n",
                ""
            ],
            "metadata": {
                "azdata_cell_guid": "3b6d232d-a2f4-441e-81f2-33ef59fdb4c6",
                "tags": [],
                "extensions": {
                    "azuredatastudio": {
                        "views": []
                    }
                },
                "language": "python"
            },
            "outputs": [],
            "execution_count": null
        }
    ]
}