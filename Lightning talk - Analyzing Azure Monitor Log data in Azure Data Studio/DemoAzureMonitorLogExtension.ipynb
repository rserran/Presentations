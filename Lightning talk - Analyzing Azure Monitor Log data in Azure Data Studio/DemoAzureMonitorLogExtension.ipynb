{
    "metadata": {
        "kernelspec": {
            "name": "SQL",
            "display_name": "SQL",
            "language": "sql"
        },
        "language_info": {
            "name": "loganalytics",
            "version": ""
        }
    },
    "nbformat_minor": 2,
    "nbformat": 4,
    "cells": [
        {
            "cell_type": "markdown",
            "source": [
                "# Using Azure Monitor Logs extension in Azure Data Studio Insiders\n",
                "\n",
                "Written by:  Julie Koesmarno\n",
                "\n",
                "Original Notebook: [Using Azure Monitor Logs extension in Azure Data Studio Insiders](https://github.com/MsSQLGirl/jubilant-data-wizards/blob/main/Simple%2520Demo/KQL%2520Notebooks/AzureMonitorLogsSample.ipynb)\n",
                "\n",
                "Modifed by: Taiob  Ali\n",
                "\n",
                "Once Azure Monitor Logs (Preview) extension installed in Azure Data Studio Insiders build, you can connect to your Azure Monitor Log workspace(s), browse the tables, write/execute KQL queries against workspaces and write/execute Notebooks connected to the Azure Monitor Log kernel.\n",
                "\n",
                "There are two main tables in Azure Log Analytics (Azure Monitor Logs) workspace that capture Azure SQL events:\n",
                "\n",
                "1. AzureDiagnostics\n",
                "2. AzureMetric"
            ],
            "metadata": {
                "azdata_cell_guid": "2e215b87-477c-47c1-88fd-15701f9d849c"
            },
            "attachments": {}
        },
        {
            "cell_type": "markdown",
            "source": [
                "## 1\\. Connect to Azure Monitor Logs (Log Analytics) workspace\n",
                "\n",
                "Workspace is similar to what a database is to SQL. You connect to Log Analytics workspace to start querying data.\n",
                "\n",
                "### 1.1 Install Azure Monitor Logs extension first\n",
                "\n",
                "Go to the Extension viewlet and type in Azure Monitor Logs. Install it and restart ADS."
            ],
            "metadata": {
                "azdata_cell_guid": "62a95fa9-3573-46fc-ba99-f8ea5ba0ea05"
            },
            "attachments": {}
        },
        {
            "cell_type": "markdown",
            "source": [
                "### 1.2 Connect to the desired Azure Monitor Logs workspace\n",
                "\n",
                "Change the Kernel to \"Log Analytics\". Set Attach to to a new or existing connection to the workspace. Note: you will need a workspace Id that you can obtain from Azure portal.\n",
                "\n",
                "> **Note**: the name of the kernel is subject to change."
            ],
            "metadata": {
                "azdata_cell_guid": "1ccf6cc8-49df-4c8c-8cf4-08b36776ec78"
            },
            "attachments": {}
        },
        {
            "cell_type": "markdown",
            "source": [
                "## 2. Analyze events by Diagnostic Settings\n",
                "\n",
                "Let's do a simple query first to analyze the number of events by Operation Name. \n",
                "\n",
                "> **Note**: Each row in AzureDiagnostic represents an event for specific Operation or category. Some SQL actions may result in generating multiple events of different types.\n",
                "\n",
                ""
            ],
            "metadata": {
                "azdata_cell_guid": "eb6417a2-3f1d-4d21-9c2d-1ccd9f65f935"
            }
        },
        {
            "cell_type": "code",
            "source": [
                "AzureDiagnostics\r\n",
                "| summarize count() by OperationName"
            ],
            "metadata": {
                "azdata_cell_guid": "e0d388fb-3ba1-4579-81d4-e46b41063738",
                "tags": []
            },
            "outputs": [],
            "execution_count": null
        },
        {
            "cell_type": "markdown",
            "source": [
                "The above query's equivalent in SQL is:\n",
                "\n",
                "```\n",
                "SELECT OperationName, COUNT(*) AS [count_]\n",
                "FROM AzureDiagnostics\n",
                "GROUP BY OperationName\n",
                "```"
            ],
            "metadata": {
                "azdata_cell_guid": "70c58547-b1b4-4724-b20b-a5bfc11d4dc4"
            },
            "attachments": {}
        },
        {
            "cell_type": "markdown",
            "source": [
                "Count my Azure SQL DB events by category / diagnostic settings."
            ],
            "metadata": {
                "azdata_cell_guid": "8303ed68-ca14-4063-8464-9492f9304121"
            }
        },
        {
            "cell_type": "code",
            "source": [
                "AzureDiagnostics\r\n",
                "| where LogicalServerName_s == \"sqlbitsdemoservertaiob\"\r\n",
                "// | where TimeGenerated >= ago(5d)\r\n",
                "| summarize count() by Category\r\n",
                ""
            ],
            "metadata": {
                "azdata_cell_guid": "6eaa8a7b-0b34-4a5a-b49b-80f9286539b2"
            },
            "outputs": [],
            "execution_count": null
        },
        {
            "cell_type": "markdown",
            "source": [
                "## 3. Performance troubleshooting Query (from Azure Portal)\n",
                "\n",
                "Potentially a query or deadlock on the system that could lead to poor performance. The following is a query suggested by Azure Portal."
            ],
            "metadata": {
                "azdata_cell_guid": "3e2e80b4-88b4-494e-931e-15a4139389d7"
            }
        },
        {
            "cell_type": "code",
            "source": [
                "AzureMetrics\r\n",
                "| where ResourceProvider == \"MICROSOFT.SQL\"\r\n",
                "| where TimeGenerated >=ago(1d)\r\n",
                "| where MetricName in ('deadlock')\r\n",
                "| parse _ResourceId with * \"/microsoft.sql/servers/\" Resource // subtract Resource name for _ResourceId\r\n",
                "| summarize Deadlock_max_60Mins = max(Maximum) by Resource, MetricName"
            ],
            "metadata": {
                "azdata_cell_guid": "d7bc7a1e-c348-448b-af47-b310a0fe55e7"
            },
            "outputs": [],
            "execution_count": null
        },
        {
            "cell_type": "markdown",
            "source": [
                "# AzureMetrics\r\n",
                "\r\n",
                "This is a sample query to dig into AzureMetrics"
            ],
            "metadata": {
                "azdata_cell_guid": "188a4592-423d-44b6-ad47-902101257761"
            }
        },
        {
            "cell_type": "code",
            "source": [
                "AzureMetrics\r\n",
                "| project-away TenantId, ResourceId, SubscriptionId, _ResourceId, ResourceGroup // hide sensitive info\r\n",
                "| project TimeGenerated, MetricName, Total, Count, UnitName\r\n",
                "| take 10"
            ],
            "metadata": {
                "azdata_cell_guid": "1ac3f92f-b292-4c74-8020-47de93aebb6f"
            },
            "outputs": [],
            "execution_count": null
        },
        {
            "cell_type": "markdown",
            "source": [
                "# AzureDiagnostics\n",
                "\n",
                "This is a sample query to dig into AzureDiagnostics. This table tends to have more details than AzureMetrics."
            ],
            "metadata": {
                "azdata_cell_guid": "b7d842a1-4228-48c8-ab44-126adf65d1ed"
            }
        },
        {
            "cell_type": "code",
            "source": [
                "AzureDiagnostics\r\n",
                "| project-away TenantId, ResourceId, SubscriptionId, ResourceGroup, _ResourceId // Hide sensitive columns :) \r\n",
                "| project TimeGenerated, Category, OperationName\r\n",
                "| take 10"
            ],
            "metadata": {
                "azdata_cell_guid": "f26730a6-bc2c-4341-b781-88268a93dfcb"
            },
            "outputs": [],
            "execution_count": null
        },
        {
            "cell_type": "markdown",
            "source": [
                "## Analyze (non-audit) Events"
            ],
            "metadata": {
                "azdata_cell_guid": "19ee8932-d9da-4d77-ad62-005f38918138"
            }
        },
        {
            "cell_type": "code",
            "source": [
                "AzureDiagnostics\r\n",
                "| summarize event_count = count() by bin(TimeGenerated, 2d), OperationName\r\n",
                "| where OperationName <> \"AuditEvent\"\r\n",
                "| evaluate pivot(OperationName, sum(event_count))\r\n",
                "| sort by TimeGenerated asc"
            ],
            "metadata": {
                "azdata_cell_guid": "69257930-b10f-4645-bb6a-df77045aad50",
                "tags": []
            },
            "outputs": [],
            "execution_count": null
        },
        {
            "cell_type": "code",
            "source": [
                "AzureDiagnostics\r\n",
                "| summarize event_count=count() by bin(TimeGenerated, 1d), OperationName\r\n",
                "// | where OperationName <> \"AuditEvent\""
            ],
            "metadata": {
                "azdata_cell_guid": "19b5684a-5f1f-4277-a565-241e6bae295a"
            },
            "outputs": [],
            "execution_count": null
        },
        {
            "cell_type": "code",
            "source": [
                "AzureDiagnostics\r\n",
                "| make-series event_count = count() on TimeGenerated from datetime(2021-07-20 22:00:00) to now() step 1m   \r\n",
                "| render timechart\r\n",
                ""
            ],
            "metadata": {
                "azdata_cell_guid": "33579fb6-a669-4360-aba8-a24a2b55ef6c"
            },
            "outputs": [],
            "execution_count": null
        },
        {
            "cell_type": "markdown",
            "source": [
                "## Deadlock Analysis"
            ],
            "metadata": {
                "azdata_cell_guid": "a1661835-fcb5-4af9-a353-4e7a0c70cb56"
            }
        },
        {
            "cell_type": "code",
            "source": [
                "AzureDiagnostics\r\n",
                "| where OperationName == \"DeadlockEvent\"\r\n",
                "| project TimeGenerated, Category, Resource, OperationName, Type, deadlock_xml_s\r\n",
                "| sort by TimeGenerated desc\r\n",
                "| take 50"
            ],
            "metadata": {
                "azdata_cell_guid": "60a7b4cb-076c-4222-a80f-a6e11cf51a4e"
            },
            "outputs": [],
            "execution_count": null
        },
        {
            "cell_type": "markdown",
            "source": [
                "Find the deadlock query plan"
            ],
            "metadata": {
                "azdata_cell_guid": "af8b22fa-3396-4e95-b1d6-1a96fa400f03"
            }
        },
        {
            "cell_type": "code",
            "source": [
                "AzureDiagnostics\r\n",
                "| where OperationName == \"DeadlockEvent\"\r\n",
                "| extend d = parse_xml(deadlock_xml_s)\r\n",
                "| project TimeGenerated, QueryPlanHash = d.deadlock.[\"process-list\"].process[0].executionStack.frame[0][\"@queryplanhash\"], QueryHash = d.deadlock.[\"process-list\"].process[0].executionStack.frame[0][\"@queryhash\"]\r\n",
                "| take 50"
            ],
            "metadata": {
                "azdata_cell_guid": "9b024cd2-768f-4ad4-9031-19f22dee9ecd",
                "tags": []
            },
            "outputs": [],
            "execution_count": null
        },
        {
            "cell_type": "markdown",
            "source": [
                "## Query Store Runtime Statistics Events"
            ],
            "metadata": {
                "azdata_cell_guid": "c793f2df-65ec-455a-8ec1-bd152d842158"
            }
        },
        {
            "cell_type": "code",
            "source": [
                "AzureDiagnostics\r\n",
                "| where OperationName == \"QueryStoreRuntimeStatisticsEvent\"\r\n",
                "| project TimeGenerated, query_hash_s, statement_sql_handle_s, query_plan_hash_s\r\n",
                "| take 10"
            ],
            "metadata": {
                "azdata_cell_guid": "f99877c9-38ab-4907-b939-f2d8207fbc71"
            },
            "outputs": [],
            "execution_count": null
        },
        {
            "cell_type": "markdown",
            "source": [
                "## Analyze Errors"
            ],
            "metadata": {
                "azdata_cell_guid": "92c68e36-87a2-4355-8d4b-56d001462d1e"
            }
        },
        {
            "cell_type": "code",
            "source": [
                "AzureDiagnostics\r\n",
                "| where OperationName == \"ErrorEvent\"\r\n",
                "| extend ErrorNumber =  tostring(error_number_d) \r\n",
                "| summarize event_count=count() by EventTime = bin(TimeGenerated, 5m),  ErrorNumber\r\n",
                "| evaluate pivot(ErrorNumber, sum(event_count))\r\n",
                "| sort by EventTime asc\r\n",
                ""
            ],
            "metadata": {
                "azdata_cell_guid": "229543f7-f24c-48c1-a9d5-0a3d0d708e25"
            },
            "outputs": [],
            "execution_count": null
        },
        {
            "cell_type": "markdown",
            "source": [
                "## Find Deleted table"
            ],
            "metadata": {
                "azdata_cell_guid": "6d450c21-8628-459c-b8c1-c37c8aba8d6d"
            }
        },
        {
            "cell_type": "code",
            "source": [
                "AzureDiagnostics\r\n",
                "| where action_name_s in ('BATCH COMPLETED')\r\n",
                "| project TimeGenerated, Category, action_name_s, statement_s\r\n",
                "| where statement_s contains \"DROP TABLE\"\r\n",
                "| sort by TimeGenerated desc \r\n",
                "| take 10\r\n",
                "\r\n",
                ""
            ],
            "metadata": {
                "azdata_cell_guid": "3b6d232d-a2f4-441e-81f2-33ef59fdb4c6",
                "tags": []
            },
            "outputs": [],
            "execution_count": null
        }
    ]
}