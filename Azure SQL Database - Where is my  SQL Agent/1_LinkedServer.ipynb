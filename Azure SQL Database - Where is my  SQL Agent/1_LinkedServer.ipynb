{
    "metadata": {
        "kernelspec": {
            "name": "SQL",
            "display_name": "SQL",
            "language": "sql"
        },
        "language_info": {
            "name": "sql",
            "version": ""
        },
        "extensions": {
            "azuredatastudio": {
                "version": 1,
                "views": []
            }
        }
    },
    "nbformat_minor": 2,
    "nbformat": 4,
    "cells": [
        {
            "cell_type": "markdown",
            "source": [
                "# 1\\_LinkedServer.ipynb\n",
                "\n",
                "Written by Taiob  Ali\n",
                "\n",
                "SqlWorldWide.com\n",
                "\n",
                "This script will  \n",
                "\n",
                "- Create linked server pointing to Azure SQL Database\n",
                "- Collect file size from Azure SQL Database and save result on-premise\n",
                "- Collect file size locally in Azure SQL database\n",
                "\n",
                "<mark>If you have large number of Azure SQL Database might not be practical</mark>"
            ],
            "metadata": {
                "azdata_cell_guid": "31fe4a5b-774d-4f08-a836-7eb4d777b0b1",
                "extensions": {
                    "azuredatastudio": {
                        "views": []
                    }
                }
            }
        },
        {
            "cell_type": "markdown",
            "source": [
                "Run this in your On-Premises SQL Server"
            ],
            "metadata": {
                "azdata_cell_guid": "75ecf287-b4c2-455f-a86f-1427a9418654",
                "extensions": {
                    "azuredatastudio": {
                        "views": []
                    }
                }
            }
        },
        {
            "cell_type": "code",
            "source": [
                "USE [master]\r\n",
                "GO\r\n",
                "--ALTER DATABASE [DbaDatabase] SET  SINGLE_USER WITH ROLLBACK IMMEDIATE\r\n",
                "DROP DATABASE IF EXISTS DbaDatabase;\r\n",
                "GO\r\n",
                "CREATE DATABASE DbaDatabase;\r\n",
                "GO\r\n",
                "\r\n",
                "USE [DbaDatabase]\r\n",
                "GO\r\n",
                "\r\n",
                "SET ANSI_NULLS ON;\r\n",
                "GO\r\n",
                "SET QUOTED_IDENTIFIER ON;\r\n",
                "GO\r\n",
                "\r\n",
                "DROP TABLE IF EXISTS dbo.databaseSize;\r\n",
                "GO\r\n",
                "CREATE TABLE [dbo].[databaseSize]\r\n",
                "(\r\n",
                "    [collectedAT] [datetime] NOT NULL,\r\n",
                "    [serverName] [nvarchar](128) NULL,\r\n",
                "    [databaseName] [nvarchar](128) NULL,\r\n",
                "    [fileName] [nvarchar](64) NULL,\r\n",
                "    [fileId] [int] NOT NULL,\r\n",
                "    [fileSizeMB] [int] NOT NULL,\r\n",
                "    [spaceUsedMB] [numeric](12, 2) NULL,\r\n",
                "    [freeSpaceMB] [numeric](12, 2) NULL,\r\n",
                "    [percentFree] [numeric](12, 2) NULL,\r\n",
                "    [physicalName] [nvarchar](260) NULL\r\n",
                ") ON [PRIMARY];\r\n",
                "GO\r\n",
                ""
            ],
            "metadata": {
                "azdata_cell_guid": "465a11db-6640-4d41-afc6-f3305223a475",
                "extensions": {
                    "azuredatastudio": {
                        "views": []
                    }
                }
            },
            "outputs": [],
            "execution_count": null
        },
        {
            "cell_type": "markdown",
            "source": [
                "Creating a linked server in my on-premises SQL Server and pointig to Azure SQL Database\n",
                "\n",
                "Read the password from JSON file  \n",
                "How did I create this file?  \n",
                "[https://dba.stackexchange.com/questions/263871/linked-server-from-on-premise-to-azure-sql-database/263881#263881](https://dba.stackexchange.com/questions/263871/linked-server-from-on-premise-to-azure-sql-database/263881#263881)\n",
                "\n",
                "Open connections tab and show the linked server"
            ],
            "metadata": {
                "azdata_cell_guid": "5a1ea4f6-1ae2-4870-97a3-85a6aa798d38",
                "extensions": {
                    "azuredatastudio": {
                        "views": []
                    }
                }
            }
        },
        {
            "cell_type": "code",
            "source": [
                "DECLARE @password VARCHAR(MAX)\n",
                "SELECT @password = json_value(BulkColumn, '$[0]')\n",
                "FROM OPENROWSET(BULK 'C:\\password.json', SINGLE_CLOB) AS x\n",
                "--Drop and create linked server\n",
                "IF EXISTS(SELECT *\n",
                "FROM sys.servers\n",
                "WHERE name = N'AzureDB_adventureworks')\n",
                "EXEC master.dbo.sp_dropserver @server=N'AzureDB_adventureworks', @droplogins='droplogins';\n",
                "EXEC master.dbo.sp_addlinkedserver\n",
                " @server = N'AzureDB_adventureworks', \n",
                " @srvproduct=N'',\n",
                " @provider=N'SQLNCLI',\n",
                " @datasrc=N'ugdemotargetserver.database.windows.net',\n",
                " @catalog=N'adventureworks';\n",
                "\n",
                "EXEC master.dbo.sp_addlinkedsrvlogin\n",
                " @rmtsrvname=N'AzureDB_adventureworks',\n",
                " @useself=N'False',\n",
                " @rmtuser=N'taiob',@rmtpassword=@password;\n",
                "GO"
            ],
            "metadata": {
                "azdata_cell_guid": "abb30a6b-a698-4798-b790-4e2717de834f",
                "extensions": {
                    "azuredatastudio": {
                        "views": []
                    }
                }
            },
            "outputs": [],
            "execution_count": null
        },
        {
            "cell_type": "markdown",
            "source": [
                "Collecting database file size from an Azure SQL Database and insert into local database"
            ],
            "metadata": {
                "azdata_cell_guid": "a5cd5188-6cec-4cc9-877f-663fdaf5cd6e",
                "extensions": {
                    "azuredatastudio": {
                        "views": []
                    }
                }
            }
        },
        {
            "cell_type": "code",
            "source": [
                "INSERT INTO dbaDatabase.dbo.databasesize\n",
                "SELECT *\n",
                "FROM OPENQUERY \n",
                "(AzureDB_adventureworks, \n",
                "\t'SELECT \n",
                "\t\tGETDATE() AS collectedAT,\n",
                "\t\t@@SERVERNAME AS serverName, \n",
                "\t\tDB_NAME() AS databaseName, \n",
                "\t\tLEFT(a.name, 64) AS fileName,\n",
                "\t\ta.file_id AS fileId,\n",
                "\t\ta.size AS fileSizeMB,\n",
                "\t\tCONVERT(DECIMAL(12, 2), ROUND(FILEPROPERTY(a.name,''SpaceUsed'')/ 128.000, 2)) AS spaceUsedMB,\n",
                "\t\tCONVERT(DECIMAL(12, 2), ROUND(( a.size - FILEPROPERTY(a.name,''SpaceUsed''))/ 128.000, 2)) AS freeSpaceMB,\n",
                "\t\tCONVERT(DECIMAL(12, 2), (CONVERT(DECIMAL(12, 2), ROUND((a.size - FILEPROPERTY(a.name,''SpaceUsed''))/128.000, 2))*100)/ CONVERT(DECIMAL(12, 2), ROUND(a.size / 128.000, 2))) as percentFree,\n",
                "\t\ta.physical_name AS physicalName \n",
                "FROM adventureworks.sys.database_files a'\n",
                ") ;\n",
                "GO"
            ],
            "metadata": {
                "azdata_cell_guid": "2821abb4-5377-4f47-ba52-f393d3ac988d",
                "extensions": {
                    "azuredatastudio": {
                        "views": []
                    }
                }
            },
            "outputs": [],
            "execution_count": null
        },
        {
            "cell_type": "markdown",
            "source": [
                "<span style=\"font-size: 14px;\">Look at the result</span>"
            ],
            "metadata": {
                "azdata_cell_guid": "0c68532b-8f8b-47c2-8623-293cfe7b43d2",
                "extensions": {
                    "azuredatastudio": {
                        "views": []
                    }
                }
            }
        },
        {
            "cell_type": "code",
            "source": [
                "SELECT\r\n",
                "  [collectedAT] AS [collectedAtUTC],\r\n",
                "  DATEADD(mi, DATEDIFF(mi, GETUTCDATE(), GETDATE()), collectedAT) AS [collectedAtLocalTime],\r\n",
                "  [serverName],\r\n",
                "  [databaseName],\r\n",
                "  [fileName],\r\n",
                "  [fileId],\r\n",
                "  [fileSizeMB],\r\n",
                "  [spaceUsedMB],\r\n",
                "  [freeSpaceMB],\r\n",
                "  [percentFree],\r\n",
                "  [physicalName]\r\n",
                "FROM [DbaDatabase].[dbo].[databasesize]\r\n",
                "ORDER BY collectedAT DESC;\r\n",
                "GO"
            ],
            "metadata": {
                "azdata_cell_guid": "f69a0663-3b9a-4a0d-a6de-437d6b630a39",
                "extensions": {
                    "azuredatastudio": {
                        "views": []
                    }
                }
            },
            "outputs": [],
            "execution_count": null
        },
        {
            "cell_type": "markdown",
            "source": [
                "<span style=\"font-size: 14px;\">If you want to save the result locally in Azure SQL Database</span>\n",
                "\n",
                "<span style=\"font-size: 14px;\">Confirm collection table exist</span>\n",
                "\n",
                "Connect to ugdemotargetserver.database.windows.net adventureworks database"
            ],
            "metadata": {
                "azdata_cell_guid": "9be29da9-e6d4-44a7-86d2-bf306cd8a5ce",
                "extensions": {
                    "azuredatastudio": {
                        "views": []
                    }
                }
            }
        },
        {
            "cell_type": "code",
            "source": [
                "DROP TABLE IF EXISTS dbo.databaseSize;\n",
                "GO\n",
                "CREATE TABLE [dbo].[databaseSize]\n",
                "(\n",
                "\t[collectedAT] [datetime] NOT NULL,\n",
                "\t[serverName] [nvarchar](128) NULL,\n",
                "\t[databaseName] [nvarchar](128) NULL,\n",
                "\t[fileName] [nvarchar](64) NULL,\n",
                "\t[fileId] [int] NOT NULL,\n",
                "\t[fileSizeMB] [int] NOT NULL,\n",
                "\t[spaceUsedMB] [numeric](12, 2) NULL,\n",
                "\t[freeSpaceMB] [numeric](12, 2) NULL,\n",
                "\t[percentFree] [numeric](12, 2) NULL,\n",
                "\t[physicalName] [nvarchar](260) NULL\n",
                ") ON [PRIMARY];\n",
                "GO"
            ],
            "metadata": {
                "azdata_cell_guid": "48cfacd2-0c8f-4ad3-970f-132c35645845",
                "extensions": {
                    "azuredatastudio": {
                        "views": []
                    }
                }
            },
            "outputs": [],
            "execution_count": null
        },
        {
            "cell_type": "markdown",
            "source": [
                "Change connection back to local server  \n",
                "Executing from On-Premises SQL Server but saving the result in Azure SQL Database"
            ],
            "metadata": {
                "azdata_cell_guid": "51cec506-3c76-46ea-8208-6fbaff39dcac",
                "extensions": {
                    "azuredatastudio": {
                        "views": []
                    }
                }
            }
        },
        {
            "cell_type": "code",
            "source": [
                "INSERT INTO AzureDB_adventureworks.adventureworks.dbo.databasesize\n",
                "SELECT *\n",
                "FROM OPENQUERY \n",
                "(AzureDB_adventureworks, \n",
                "\t'\n",
                "\tSELECT \n",
                "\t\tGETDATE() AS collectedAT,\n",
                "\t\t@@SERVERNAME AS serverName, \n",
                "\t\tDB_NAME() AS databaseName, \n",
                "\t\tLEFT(a.name, 64) AS fileName,\n",
                "\t\ta.file_id AS fileId,\n",
                "\t\ta.size AS fileSizeMB,\n",
                "\t\tCONVERT(DECIMAL(12, 2), ROUND(FILEPROPERTY(a.name,''SpaceUsed'')/ 128.000, 2)) AS spaceUsedMB,\n",
                "\t\tCONVERT(DECIMAL(12, 2), ROUND(( a.size - FILEPROPERTY(a.name,''SpaceUsed''))/ 128.000, 2)) AS freeSpaceMB,\n",
                "\t\tCONVERT(DECIMAL(12, 2), (CONVERT(DECIMAL(12, 2), ROUND((a.size - FILEPROPERTY(a.name,''SpaceUsed''))/128.000, 2))*100)/ CONVERT(DECIMAL(12, 2), ROUND(a.size / 128.000, 2))) as percentFree,\n",
                "\t\ta.physical_name AS physicalName \n",
                " FROM sys.database_files a'\n",
                ") ;\n",
                "GO"
            ],
            "metadata": {
                "azdata_cell_guid": "150d91e3-e5ab-4293-a8f9-69d6c422ef2e",
                "extensions": {
                    "azuredatastudio": {
                        "views": []
                    }
                }
            },
            "outputs": [],
            "execution_count": null
        },
        {
            "cell_type": "markdown",
            "source": [
                "<span style=\"font-size: 14px;\">Connect to ugdemotargetserver.database.windows.net adventureworks database</span>\n",
                "\n",
                "<span style=\"font-size: 14px;\">See the result</span>"
            ],
            "metadata": {
                "azdata_cell_guid": "ea4e2c54-90f6-445a-893e-ceeed416754d",
                "extensions": {
                    "azuredatastudio": {
                        "views": []
                    }
                }
            }
        },
        {
            "cell_type": "code",
            "source": [
                "SELECT\r\n",
                "    [collectedAT] AS [collectedAtUTC]\r\n",
                "    , [serverName]\r\n",
                "    , [databaseName]\r\n",
                "    , [fileName]\r\n",
                "    , [fileId]\r\n",
                "    , [fileSizeMB]\r\n",
                "    , [spaceUsedMB]\r\n",
                "    , [freeSpaceMB]\r\n",
                "    , [percentFree]\r\n",
                "    , [physicalName]\r\n",
                "FROM [dbo].[databasesize];\r\n",
                "GO"
            ],
            "metadata": {
                "azdata_cell_guid": "470ef467-432e-4614-aaf1-d23ccbc914b6",
                "extensions": {
                    "azuredatastudio": {
                        "views": []
                    }
                }
            },
            "outputs": [],
            "execution_count": null
        }
    ]
}