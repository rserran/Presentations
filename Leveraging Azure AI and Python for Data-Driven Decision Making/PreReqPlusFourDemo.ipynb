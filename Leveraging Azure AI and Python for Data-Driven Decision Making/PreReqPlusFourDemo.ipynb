{
    "metadata": {
        "kernelspec": {
            "name": "SQL",
            "display_name": "SQL",
            "language": "sql"
        },
        "language_info": {
            "name": "sql",
            "version": ""
        }
    },
    "nbformat_minor": 2,
    "nbformat": 4,
    "cells": [
        {
            "cell_type": "markdown",
            "source": [
                "## PreReqPlusFourDemo.ipynb\n",
                "\n",
                "### Written by Taiob Ali\n",
                "\n",
                "@sqlworldwide"
            ],
            "metadata": {
                "azdata_cell_guid": "7072836e-2fea-404f-842b-585390389968"
            },
            "attachments": {}
        },
        {
            "cell_type": "markdown",
            "source": [
                "## Prerequisite:\n",
                "\n",
                "- Azure SQL Database with data to play with\n",
                "    \n",
                "    - Sample database (I am using a .bacpac file that I can share with you)\n",
                "    - [Amazon Sales Dataset](https:\\www.kaggle.com\\datasets\\karkavelrajaj\\amazon-sales-dataset)\n",
                "    - Server Name: ta-aidemosqlserver.database.windows.net\n",
                "    - Database Name: testdata\n",
                "- Tables outside the dbo schema did not work for me\n",
                "    \n",
                "- Create an [Azure AI Search](https:\\learn.microsoft.com\\en-us\\azure\\search\\search-what-is-azure-search) Service where you import data for indexing name \"ta-azureaisearch\"\n",
                "    \n",
                "    - Create a data source pointing to do.Customer table named \"ta-datasource-customer\"\n",
                "    - Create an index using the above data source named \"ta-index-customer\", name the indexer \"ta-indexer-customer\"\n",
                "    - <span style=\"font-size: 14px;\">Using&nbsp;</span>  'Import and vectorize data' option create an index using the above data source on dbo.walmartProducts table from the testdata database name 'ta-vector-walmartproducts'\n",
                "- Create an [Azure OpenAI](https:\\learn.microsoft.com\\en-us\\azure\\ai-services\\openai\\) service where you deploy the model and interact with the indexed data name \"ta-openai\"\n",
                "    \n",
                "    - <span style=\"color: var(--vscode-foreground); background-color: rgba(127, 127, 127, 0.1);\">Deploy base model gpt-4 name ta-model-gpt-4</span>\n",
                "    - Deploy model text-embedding-ada-002 name 'ta-model-text-embedding-ada-002'"
            ],
            "metadata": {
                "azdata_cell_guid": "04bfa214-d02c-4416-8f67-6cc618735f10"
            },
            "attachments": {}
        },
        {
            "cell_type": "markdown",
            "source": [
                "## Demo1: [Natural language to SQL in the Azure portal query editor (preview)](https:\\learn.microsoft.com\\en-us\\azure\\azure-sql\\copilot\\query-editor-natural-language-to-sql-copilot?view=azuresql)\n",
                "\n",
                "### Click Qery editor (preview) from the menu, login with Entra Admin or SQL authentication\n",
                "\n",
                "### Question:\n",
                "\n",
                "- Find customers and which products they have purchased for our mountain bikes by state and by total sales\n",
                "    - Does a good job\n",
                "- Count all customers, group by state, and give the top ten states with the most and least customers order by customer count\n",
                "    - I get a mixed answer. Multiple selections on the same CTE are not allowed, but sometimes, it gives separate CTEs for each select statement.\n",
                "- Find the hierarchy of product categories at any level\n",
                "    - Honest but interesting answer\n",
                "- Show me which tables have consumed the most space in this database\n",
                "    - Failed few days ago(most likely no access to system tables; we will come back to this in the following demo), and now I get a perfect query\n",
                "- Create a stored procedure that shows all sales by customer ID, with Customer ID as the input parameter, and raises an error if the customer ID does not exist. Drop the stored procedure if it already exists.\n",
                "    - Create the stored procedure and run the below code to test"
            ],
            "metadata": {
                "azdata_cell_guid": "ff034d5c-e8f0-449d-b168-535b0fd761de"
            },
            "attachments": {}
        },
        {
            "cell_type": "code",
            "source": [
                "EXEC [dbo].[ShowSalesByCustomerID]\r\n",
                "\t\t@CustomerID= 29847\r\n",
                "GO\r\n",
                "\r\n",
                "EXEC [dbo].[ShowSalesByCustomerID]\r\n",
                "\t\t@CustomerID= 8\r\n",
                "GO\r\n",
                "\r\n",
                "/*\r\n",
                "DROP PROCEDURE IF EXISTS [dbo].[ShowSalesByCustomerID];\r\n",
                "GO\r\n",
                "*/\r\n",
                ""
            ],
            "metadata": {
                "azdata_cell_guid": "2ef4c149-54b9-4a8c-bdff-0e9a166d5991",
                "language": "sql"
            },
            "outputs": [],
            "execution_count": null
        },
        {
            "cell_type": "markdown",
            "source": [
                "## Demo2: [Microsoft Copilot skills in Azure SQL Database (preview)](https:\\learn.microsoft.com\\en-us\\azure\\azure-sql\\copilot\\copilot-azure-sql-overview?view=azuresql)\n",
                "\n",
                "### Question:\n",
                "\n",
                "- <span style=\"font-size: 14px;\">Show me which tables have consumed the most space in this database</span>\n",
                "- Show me the top preemptive waits for this database\n",
                "- Is my database experiencing high I/O?\n",
                "- <span style=\"font-size: 14px;\">Can you show me the current I/O metrics for my database?</span>"
            ],
            "metadata": {
                "azdata_cell_guid": "65d5c8ea-55ce-4302-be76-0f6d4716801c"
            },
            "attachments": {}
        },
        {
            "cell_type": "markdown",
            "source": [
                "## Demo3: Keyword search with Large Language Model (LLM)\n",
                "\n",
                "- Using Azure Ai Seach service named \"ta-openai\"\n",
                "    \n",
                "    - Create an index on dbo.customer table from the testdata database name ta-index-customer\n",
                "- Deploy model GPT-4 \n",
                "    \n",
                "    - Deploy base model gpt-4 name ta-model-gpt-4\n",
                "    - Add data ta-index-customer, Search type Keyword, authentication API Key, \n",
                "    - Give the model instructions and context: You are an AI assistant who helps company executives gain customer insight. Please provide as many details as possible about each customer, such as first name, last name, and which company they represent. Whenever you respond, please format your answer to make it very readable, including bullet points.\n",
                "- Change 'Tokens per Minute Rate Limit to 20k (Click deployments --\\>edit)\n",
                "    \n",
                "- Question:\n",
                "    \n",
                "    - What customer names work for the company, ' Bikes and Motorbikes'?\n",
                "    - Which company name has the most number of customers? (if not getting an answer, tweak the 'Retrieved documents' setting)\n",
                "    - Which customer uses the phone number 783-555-0110?"
            ],
            "metadata": {
                "azdata_cell_guid": "23d2410d-111f-453b-b2d2-960bdc0a853c"
            },
            "attachments": {}
        },
        {
            "cell_type": "code",
            "source": [
                "/*\r\n",
                "Verify the answer of question: What customer names work for the company,' Bikes and Motorbikes'?\r\n",
                "*/\r\n",
                "SELECT \r\n",
                "\tFirstName,\r\n",
                "\tLastName,\r\n",
                "\tCompanyName\r\n",
                "FROM [dbo].customer\r\n",
                "WHERE CompanyName ='Bikes and Motorbikes'"
            ],
            "metadata": {
                "language": "sql",
                "azdata_cell_guid": "82740020-49ce-4d81-b22b-e659329d1768"
            },
            "outputs": [],
            "execution_count": null
        },
        {
            "cell_type": "code",
            "source": [
                "/*\r\n",
                "Verify the answer of question: Which company name has the most number of customers?\r\n",
                "*/\r\n",
                "SELECT\r\n",
                "\tcompanyname, \r\n",
                "\tCOUNT(0) AS countOfCustomersPerCompany\r\n",
                "FROM dbo.customer\r\n",
                "GROUP BY companyname\r\n",
                "ORDER BY countOfCustomersPerCompany DESC, companyname\r\n",
                "\r\n",
                "SELECT \r\n",
                "\t* \r\n",
                "FROM DBO.customer \r\n",
                "WHERE companyname ='Locks Company'"
            ],
            "metadata": {
                "azdata_cell_guid": "e62f9632-aeff-4c60-98ec-5bc577d8744a",
                "language": "sql"
            },
            "outputs": [],
            "execution_count": 3
        },
        {
            "cell_type": "code",
            "source": [
                "/*\r\n",
                "Verify the answer of question: Which customer uses the phone number 783-555-0110?\r\n",
                "*/\r\n",
                "SELECT \r\n",
                "\tFirstName,\r\n",
                "\tLastName,\r\n",
                "\tPhone\r\n",
                "FROM [dbo].customer\r\n",
                "WHERE Phone ='783-555-0110'"
            ],
            "metadata": {
                "language": "sql",
                "azdata_cell_guid": "0a07ff56-a875-4036-a8d8-7352b4f802ce"
            },
            "outputs": [],
            "execution_count": null
        },
        {
            "cell_type": "markdown",
            "source": [
                "## Demo4: [Integrated Vectorization](https:\\techcommunity.microsoft.com\\blog\\azure-ai-services-blog\\announcing-the-public-preview-of-integrated-vectorization-in-azure-ai-search\\3960809), Semantic ranker with Azure SQL DatabaseDeploy model text-embedding-ada-002 with vector search\n",
                "\n",
                "- Deploy model text-embedding-ada-002 name 'ta-model-text-embedding-ada-002'\n",
                "    \n",
                "- Using AI Azure Seach service\n",
                "    \n",
                "    - Create an index on dbo.walmartProducts table from the testdata database name 'ta-vector-walmartproducts'\n",
                "    - Use 'Import and vectorize data' option\n",
                "    - Search for 'Curtain' and 'Furniture' using built-in [Search Explorer](https:\\learn.microsoft.com\\en-us\\azure\\search\\search-explorer)\n",
                "        - Query options turn on 'Hide vector values in search results.'\n",
                "    - Do a search with JSON, which allows parameterized queries.\n",
                "    \n",
                "    ```\n",
                "    {\n",
                "    \"search\": \"upscale sandal\",\n",
                "    \"count\": true,\n",
                "    \"select\": \"brand, review_count, product_id, product_name, discount\",\n",
                "    \"top\": 100\n",
                "     }\n",
                "    \n",
                "    ```\n",
                "    \n",
                "- Question in Azure OpenAI service (using Azure AI studio)\n",
                "    \n",
                "    - <span style=\"background-color: rgba(127, 127, 127, 0.1); color: var(--vscode-foreground);\">I am on a tight budget</span><span style=\"font-size: 14px;\">, but I need inexpensive furniture options that are easy to install and make my living room more appealing</span>.\n",
                "- Give the mode instructions and ask the same questions (see the difference in quality of the answer)\n",
                "    \n",
                "    - You are an AI assistant who helps people shop for products. Give as many details as possible about each product, such as price. Whenever you respond, please format your answer to make it very readable, including bullet points"
            ],
            "metadata": {
                "language": "sql",
                "azdata_cell_guid": "7be6c0c4-96b5-4747-9966-228adb5dfde2"
            },
            "attachments": {}
        }
    ]
}