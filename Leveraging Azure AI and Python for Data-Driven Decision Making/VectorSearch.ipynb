{
    "metadata": {
        "kernelspec": {
            "name": "SQL",
            "display_name": "SQL",
            "language": "sql"
        },
        "language_info": {
            "name": "sql",
            "version": ""
        }
    },
    "nbformat_minor": 2,
    "nbformat": 4,
    "cells": [
        {
            "cell_type": "markdown",
            "source": [
                "## VectorSearch.ipynb\n",
                "\n",
                "### Written by Taiob Ali\n",
                "\n",
                "@sqlworldwide"
            ],
            "metadata": {
                "language": "sql",
                "azdata_cell_guid": "29a19371-cc76-4ab9-b9ed-dd1036550564"
            },
            "attachments": {}
        },
        {
            "cell_type": "markdown",
            "source": [
                "Reference: [Azure OpenAI Embeddings](https:\\github.com\\AzureSQLDB\\GenAILab\\blob\\main\\docs\\2-creating-embedding-and-storing-in-SQL-database.md)\n",
                "\n",
                "Create a function to create embeddings. You will need to change the the url and api-key value.\n",
                "\n",
                "An embedding is a special format of data representation that machine learning models and algorithms can easily use. The embedding is an information dense representation of the semantic meaning of a piece of text. Each embedding is a vector of floating-point numbers, such that the distance between two embeddings in the vector space is correlated with semantic similarity between two inputs in the original format. For example, if two texts are similar, then their vector representations should also be similar."
            ],
            "metadata": {
                "language": "sql",
                "azdata_cell_guid": "7b099c59-df47-4cba-a4e6-dc32d3eaf07d"
            },
            "attachments": {}
        },
        {
            "cell_type": "code",
            "source": [
                "CREATE OR ALTER PROCEDURE dbo.create_embeddings\r\n",
                "@inputText nvarchar(max),\r\n",
                "@embedding vector(1536) OUT\r\n",
                "AS\r\n",
                "DECLARE @url nvarchar(4000) = N'https://ta-openai.openai.azure.com/openai/deployments/ta-model-text-embedding-ada-002/embeddings?api-version=2023-05-15';\r\n",
                "\r\n",
                "DECLARE @headers nvarchar(300) = N'{\"api-key\": \"AapkdJSzEkoYtxyD3J3dVfr1g1ac7xy4c1pkmrxzy84ImajIV5EHJQQJ99ALACHYHv6XJ3w3AAABACOGOFPU\"}';\r\n",
                "\r\n",
                "DECLARE @message nvarchar(max);\r\n",
                "DECLARE @payload nvarchar(max) = N'{\"input\": \"' + @inputText + '\"}';\r\n",
                "DECLARE @retval int, @response nvarchar(max);\r\n",
                "\r\n",
                "exec @retval = sp_invoke_external_rest_endpoint \r\n",
                "    @url = @url,\r\n",
                "    @method = 'POST',\r\n",
                "    @headers = @headers,\r\n",
                "    @payload = @payload,\r\n",
                "    @timeout = 230,\r\n",
                "    @response = @response output;\r\n",
                "\r\n",
                "DECLARE @re vector(1536);\r\n",
                "IF (@retval = 0) \r\n",
                "\tBEGIN\r\n",
                "    SET @re = cast(json_query(@response, '$.result.data[0].embedding') AS vector(1536))\r\n",
                "\tEND ELSE BEGIN\r\n",
                "\tDECLARE @msg nvarchar(max) =  \r\n",
                "\t\t\t'Error calling OpenAI API' + char(13) + char(10) + \r\n",
                "\t\t\t'[HTTP Status: ' + json_value(@response, '$.response.status.http.code') + '] ' +\r\n",
                "\t\t\tjson_value(@response, '$.result.error.message');\r\n",
                "\tTHROW 50000, @msg, 1;\r\n",
                "END\r\n",
                "\r\n",
                "SET @embedding = @re;\r\n",
                "\r\n",
                "RETURN @retval\r\n",
                "GO"
            ],
            "metadata": {
                "azdata_cell_guid": "6d623016-c08c-4c97-b1a3-5113412e537d",
                "language": "sql",
                "tags": []
            },
            "outputs": [],
            "execution_count": null
        },
        {
            "cell_type": "code",
            "source": [
                "/*\r\n",
                "A function to clean up your data (My colleague Howard Dunn wrote this )\r\n",
                "*/\r\n",
                "SET ANSI_NULLS ON\r\n",
                "GO\r\n",
                "\r\n",
                "SET QUOTED_IDENTIFIER ON\r\n",
                "GO\r\n",
                "\r\n",
                "CREATE FUNCTION [dbo].[cleanString] (@str NVARCHAR(MAX))\r\n",
                "RETURNS NVARCHAR(MAX)\r\n",
                "AS\r\n",
                "BEGIN\r\n",
                "    DECLARE @i INT = 1\r\n",
                "    DECLARE @cleaned NVARCHAR(MAX) = ''\r\n",
                "\r\n",
                "    WHILE @i <= LEN(@str)\r\n",
                "    BEGIN\r\n",
                "        IF SUBSTRING(@str, @i, 1) LIKE '[a-zA-Z0-9 .,!?]'\r\n",
                "            SET @cleaned = @cleaned + SUBSTRING(@str, @i, 1)\r\n",
                "        SET @i = @i + 1\r\n",
                "    END\r\n",
                "\r\n",
                "    RETURN @cleaned\r\n",
                "END\r\n",
                "GO"
            ],
            "metadata": {
                "language": "sql",
                "azdata_cell_guid": "ec0f9ce6-9e12-41f3-811c-2ee3591ae09f"
            },
            "outputs": [],
            "execution_count": null
        },
        {
            "cell_type": "code",
            "source": [
                "DROP TABLE IF EXISTS  vectorTable\r\n",
                "SELECT TOP 250 ID, product_name, sku, brand, review_count, description\r\n",
                "INTO dbo.vectortable\r\n",
                "FROM [dbo].[walmartProducts]\r\n",
                "WHERE ID not IN (2, 7)\r\n",
                "ORDER BY [ID]\r\n",
                "GO\r\n",
                "\r\n",
                "ALTER TABLE vectorTable\r\n",
                "ADD description_vector vector(1536) NULL;\r\n",
                "GO\r\n",
                "\r\n",
                "DECLARE @i int = 1;\r\n",
                "DECLARE @text nvarchar(max);\r\n",
                "DECLARE @vector vector(1536);\r\n",
                "\r\n",
                "while @i <= 1000\r\n",
                "    BEGIN\r\n",
                "    SET @text = (SELECT isnull([product_name],'') + ': ' + isnull([brand],'')+': ' + isnull([description],'' ) \r\n",
                "\t  FROM dbo.vectortable \r\n",
                "\t  WHERE ID = @i);\r\n",
                "\r\n",
                "    IF(@text <> '')\r\n",
                "        BEGIN TRY\r\n",
                "          exec dbo.create_embeddings @text, @vector OUTPUT;\r\n",
                "          update dbo.vectortable set [description_vector ] = @vector WHERE ID= @i;\r\n",
                "        END TRY\r\n",
                "        BEGIN CATCH\r\n",
                "          SELECT ERROR_NUMBER() AS ErrorNumber,\r\n",
                "          ERROR_MESSAGE() AS ErrorMessage;\r\n",
                "        END CATCH\r\n",
                "    \r\n",
                "    SET @i = @i + 1;\r\n",
                "END"
            ],
            "metadata": {
                "language": "sql",
                "azdata_cell_guid": "cc087cef-fdc4-4b54-9a84-df976d2c7195"
            },
            "outputs": [],
            "execution_count": null
        },
        {
            "cell_type": "code",
            "source": [
                "DELETE FROM dbo.vectortable WHERE description_vector IS NULL;\r\n",
                "SELECT Count(*) FROM dbo.vectortable;\r\n",
                "SELECT TOP 10 * FROM dbo.vectortable;"
            ],
            "metadata": {
                "language": "sql",
                "azdata_cell_guid": "d1fda71a-21e4-4d6f-9659-91e1790c0535",
                "tags": []
            },
            "outputs": [],
            "execution_count": null
        },
        {
            "cell_type": "code",
            "source": [
                "-- Declare the search text\r\n",
                "declare @search_text nvarchar(max) = 'help me plan a high school graduation party';\r\n",
                "\r\n",
                "-- Declare a variable to hold the search vector\r\n",
                "declare @search_vector vector(1536);\r\n",
                "\r\n",
                "-- Generate the search vector using the 'create_embeddings' stored procedure\r\n",
                "exec dbo.create_embeddings @search_text, @search_vector output;\r\n",
                "\r\n",
                "-- Perform the search query\r\n",
                "SELECT TOP(10) \r\n",
                "  product_name, brand, DESCRIPTION,\r\n",
                "  -- Calculate the cosine distance between the search vector and product description vectors\r\n",
                "  vector_distance('cosine', @search_vector, description_vector) AS distance\r\n",
                "FROM [dbo].[vectorTable]\r\n",
                "WHERE vector_distance('cosine', @search_vector, description_vector) IS NOT NULL\r\n",
                "ORDER BY distance; -- Order by the closest distance"
            ],
            "metadata": {
                "language": "sql",
                "azdata_cell_guid": "88ee508d-d2f7-44d4-a84c-e070d86f02c8"
            },
            "outputs": [],
            "execution_count": null
        },
        {
            "cell_type": "markdown",
            "source": [
                "### Filtered Semantic Search with SQL\n",
                "\n",
                "[](https:\\github.com\\AzureSQLDB\\GenAILab\\blob\\main\\docs\\4-filtered-semantic-search.md#filtered-semantic-search-with-sql)\n",
                "\n",
                "This section explains how to implement a Filtered Search query in SQL. Hybrid Search combines traditional SQL queries with vector-based search capabilities to enhance search results.\n",
                "\n",
                "### SQL Query for Hybrid Search\n",
                "\n",
                "[](https:\\github.com\\AzureSQLDB\\GenAILab\\blob\\main\\docs\\4-filtered-semantic-search.md#sql-query-for-hybrid-search)\n",
                "\n",
                "The following SQL script demonstrates a hybrid search in an SQL database. It uses vector embeddings to find the most relevant products based on a textual description and combines with the availability of free returns"
            ],
            "metadata": {
                "azdata_cell_guid": "ba42fb4e-3141-488f-ae13-90b08ba17d20"
            },
            "attachments": {}
        },
        {
            "cell_type": "code",
            "source": [
                "-- Declare the search text\r\n",
                "declare @search_text nvarchar(max) = 'help me plan a high school graduation party';\r\n",
                "\r\n",
                "-- Declare a variable to hold the search vector\r\n",
                "declare @search_vector vector(1536);\r\n",
                "\r\n",
                "-- Generate the search vector using the 'create_embeddings' stored procedure\r\n",
                "exec dbo.create_embeddings @search_text, @search_vector output;\r\n",
                "\r\n",
                "-- Perform the search query\r\n",
                "SELECT TOP(10) \r\n",
                "  vt.product_name, vt.brand, vt.DESCRIPTION,\r\n",
                "  -- Calculate the cosine distance between the search vector and product description vectors\r\n",
                "  vector_distance('cosine', @search_vector, description_vector) AS distance\r\n",
                "FROM [dbo].[vectorTable] AS vt\r\n",
                "JOIN dbo.walmartProducts AS wpn\r\n",
                "ON vt.id = wpn.id\r\n",
                "WHERE vector_distance('cosine', @search_vector, description_vector) IS NOT NULL\r\n",
                "AND wpn.free_returns ='Free 30-day returns'\r\n",
                "ORDER BY distance; -- Order by the closest distance"
            ],
            "metadata": {
                "language": "sql",
                "azdata_cell_guid": "920cd028-b5ed-4b39-bc52-ca0286316207"
            },
            "outputs": [],
            "execution_count": null
        },
        {
            "cell_type": "markdown",
            "source": [
                "### Azure OpenAi Recommendations\n",
                "\n",
                "Copied and edited from [here](https:\\github.com\\AzureSQLDB\\GenAILab\\blob\\main\\docs\\5-azure-openai-recommendation.md)."
            ],
            "metadata": {
                "language": "sql",
                "azdata_cell_guid": "9adaa0cd-fd6f-49f6-a8ab-cf336fa37a2a"
            },
            "attachments": {}
        },
        {
            "cell_type": "code",
            "source": [
                "declare @search_text nvarchar(max) = 'help me plan a high school graduation party'\r\n",
                "\r\n",
                "-- Get the search vector for the search text\r\n",
                "declare @search_vector vector(1536)\r\n",
                "exec dbo.create_embeddings @search_text, @search_vector output;\r\n",
                "\r\n",
                "-- Get the top 50 products that are closest to the search vector\r\n",
                "drop table if exists #t;\r\n",
                "with cte as \r\n",
                "(\r\n",
                "    select         \r\n",
                "        id, product_name, [description], description_vector,        \r\n",
                "        row_number() over (partition by product_name order by id ) as rn\r\n",
                "        FROM [dbo].[vectorTable]\r\n",
                "WHERE vector_distance('cosine', @search_vector, description_vector) IS NOT NULL\r\n",
                "), \r\n",
                "cte2 as -- remove duplicates\r\n",
                "(\r\n",
                "    select \r\n",
                "        *\r\n",
                "    from\r\n",
                "        cte \r\n",
                "    where\r\n",
                "        rn = 1\r\n",
                ")\r\n",
                "select top(25)\r\n",
                "    id, product_name, [description],\r\n",
                "    vector_distance('cosine', @search_vector, description_vector) as distance\r\n",
                "into\r\n",
                "    #t\r\n",
                "from \r\n",
                "    cte2\r\n",
                "order by \r\n",
                "    distance;\r\n",
                "\r\n",
                "-- Aggregate the search results to make them easily consumable by the LLM\r\n",
                "declare @search_output nvarchar(max);\r\n",
                "select \r\n",
                "    @search_output = string_agg(cast(t.[id] as varchar(10)) +'=>' + t.[product_name] + '=>' + t.[description], char(13) + char(10))\r\n",
                "from \r\n",
                "    #t as t;\r\n",
                "\r\n",
                "-- Generate the payload for the LLM\r\n",
                "declare @llm_payload nvarchar(max);\r\n",
                "set @llm_payload = \r\n",
                "json_object(\r\n",
                "    'messages': json_array(\r\n",
                "            json_object(\r\n",
                "                'role':'system',\r\n",
                "                'content':'\r\n",
                "                    You are an awesome AI shopping assistant  tasked with helping users find appropriate items they are looking for the occasion. \r\n",
                "                    You have access to a list of products, each with an ID, product name, and description, provided to you in the format of \"Id=>Product=>Description\". \r\n",
                "                    When users ask for products for specific occasions, you can leverage this information to provide creative and personalized suggestions. \r\n",
                "                    Your goal is to assist users in planning memorable celebrations using the available products.\r\n",
                "                '\r\n",
                "            ),\r\n",
                "            json_object(\r\n",
                "                'role':'user',\r\n",
                "                'content': '## Source ##\r\n",
                "                    ' + @search_output + '\r\n",
                "                    ## End ##\r\n",
                "\r\n",
                "                    Your answer needs to be a json object with the following format.\r\n",
                "                    {\r\n",
                "                        \"answer\": // the answer to the question, add a source reference to the end of each sentence. Source reference is the product Id.\r\n",
                "                        \"products\": // a comma-separated list of product ids that you used to come up with the answer.\r\n",
                "                        \"thoughts\": // brief thoughts on how you came up with the answer, e.g. what sources you used, what you thought about, etc.\r\n",
                "                    }'\r\n",
                "            ),\r\n",
                "            json_object(\r\n",
                "                'role':'user',\r\n",
                "                'content': + @search_text\r\n",
                "            )\r\n",
                "    ),\r\n",
                "    'max_tokens': 800,\r\n",
                "    'temperature': 0.3,\r\n",
                "    'frequency_penalty': 0,\r\n",
                "    'presence_penalty': 0,\r\n",
                "    'top_p': 0.95,\r\n",
                "    'stop': null\r\n",
                ");\r\n",
                "\r\n",
                "-- Invoke the LLM to get the response\r\n",
                "declare @retval int, @response nvarchar(max);\r\n",
                "declare @headers nvarchar(300) = N'{\"api-key\": \"AapkdJSzEkoYtxyD3J3dVfr1g1ac7xy4c1pkmrxzy84ImajIV5EHJQQJ99ALACHYHv6XJ3w3AAABACOGOFPU\", \"content-type\": \"application/json\"}';\r\n",
                "exec @retval = sp_invoke_external_rest_endpoint\r\n",
                "    @url = N'https://ta-openai.openai.azure.com/openai/deployments/ta-model-gpt-4/chat/completions?api-version=2024-08-01-preview',\r\n",
                "    @headers = @headers,\r\n",
                "    @method = 'POST',    \r\n",
                "    @timeout = 120,\r\n",
                "    @payload = @llm_payload,\r\n",
                "    @response = @response output;\r\n",
                "select @retval as 'Return Code', @response as 'Response';\r\n",
                "\r\n",
                "-- Get the answer from the response\r\n",
                "select [key], [value] \r\n",
                "from openjson(( \r\n",
                "    select t.value \r\n",
                "    from openjson(@response, '$.result.choices') c cross apply openjson(c.value, '$.message') t\r\n",
                "    where t.[key] = 'content'\r\n",
                "))"
            ],
            "metadata": {
                "azdata_cell_guid": "c2506d79-c21a-44f2-974f-a90ddc47aa8f",
                "language": "sql"
            },
            "outputs": [
                {
                    "output_type": "display_data",
                    "data": {
                        "text/html": "(25 rows affected)"
                    },
                    "metadata": {}
                },
                {
                    "output_type": "display_data",
                    "data": {
                        "text/html": "(1 row affected)"
                    },
                    "metadata": {}
                },
                {
                    "output_type": "display_data",
                    "data": {
                        "text/html": "(3 rows affected)"
                    },
                    "metadata": {}
                },
                {
                    "output_type": "display_data",
                    "data": {
                        "text/html": "Total execution time: 00:00:06.351"
                    },
                    "metadata": {}
                },
                {
                    "output_type": "execute_result",
                    "metadata": {},
                    "execution_count": 7,
                    "data": {
                        "application/vnd.dataresource+json": {
                            "schema": {
                                "fields": [
                                    {
                                        "name": "Return Code"
                                    },
                                    {
                                        "name": "Response"
                                    }
                                ]
                            },
                            "data": [
                                {
                                    "Return Code": "0",
                                    "Response": "{\"response\":{\"status\":{\"http\":{\"code\":200,\"description\":\"\"}},\"headers\":{\"Cache-Control\":\"no-cache, must-revalidate\",\"Date\":\"Fri, 06 Dec 2024 12:01:15 GMT\",\"Content-Length\":\"2282\",\"Content-Type\":\"application\\/json\",\"access-control-allow-origin\":\"*\",\"apim-request-id\":\"b446b7b2-8755-465b-a9df-a2efb59a1b5d\",\"strict-transport-security\":\"max-age=31536000; includeSubDomains; preload\",\"x-content-type-options\":\"nosniff\",\"x-ms-region\":\"East US 2\",\"x-ratelimit-remaining-requests\":\"57\",\"x-ratelimit-remaining-tokens\":\"50147\",\"x-accel-buffering\":\"no\",\"x-ms-rai-invoked\":\"true\",\"x-request-id\":\"f00d435e-4be4-4d1a-8323-e74c65da3e44\",\"azureml-model-session\":\"d001-20241125160720\",\"x-envoy-upstream-service-time\":\"5834\",\"x-ms-client-request-id\":\"b446b7b2-8755-465b-a9df-a2efb59a1b5d\"}},\"result\":{\"choices\":[{\"content_filter_results\":{\"hate\":{\"filtered\":false,\"severity\":\"safe\"},\"protected_material_code\":{\"filtered\":false,\"detected\":false},\"protected_material_text\":{\"filtered\":false,\"detected\":false},\"self_harm\":{\"filtered\":false,\"severity\":\"safe\"},\"sexual\":{\"filtered\":false,\"severity\":\"safe\"},\"violence\":{\"filtered\":false,\"severity\":\"safe\"}},\"finish_reason\":\"stop\",\"index\":0,\"logprobs\":null,\"message\":{\"content\":\"{\\n    \\\"answer\\\": \\\"For a memorable high school graduation party, start by setting up a comfortable and stylish seating area with the WestinTrends Julia 10 Ft Outdoor Patio Cantilever Umbrella, which provides ample shade and a chic ambiance for your garden or backyard gathering. Source: 49. Add a touch of elegance with the Amay Grommet Top Blackout Curtain Panels in White, which can be used to create a beautiful backdrop or partition areas within your party space. Source: 76. For entertainment, consider setting up areas for games or photo booths with props, and don't forget to curate a playlist of the graduate's favorite songs to keep the energy lively. Lastly, serve refreshments and snacks on the UDPATIO High Back Outdoor Dining Chairs, ensuring comfort for your guests as they celebrate this significant milestone. Source: 51.\\\",\\n    \\\"products\\\": \\\"49, 76, 51\\\",\\n    \\\"thoughts\\\": \\\"I selected the outdoor patio umbrella and dining chairs to provide comfortable seating and a pleasant environment for the party. The blackout curtain panels were chosen to enhance the decor and can be creatively used for setting up distinct areas or as elegant backdrops. These items together help create a functional and festive atmosphere suitable for a high school graduation party.\\\"\\n}\",\"role\":\"assistant\"}}],\"created\":1733486470,\"id\":\"chatcmpl-AbRJ8e25uZMeCQXKMACjPvrFj2qGq\",\"model\":\"gpt-4-turbo-2024-04-09\",\"object\":\"chat.completion\",\"prompt_filter_results\":[{\"prompt_index\":0,\"content_filter_results\":{\"hate\":{\"filtered\":false,\"severity\":\"safe\"},\"jailbreak\":{\"filtered\":false,\"detected\":false},\"self_harm\":{\"filtered\":false,\"severity\":\"safe\"},\"sexual\":{\"filtered\":false,\"severity\":\"safe\"},\"violence\":{\"filtered\":false,\"severity\":\"safe\"}}}],\"system_fingerprint\":\"fp_5603ee5e2e\",\"usage\":{\"completion_tokens\":259,\"prompt_tokens\":6154,\"total_tokens\":6413}}}"
                                }
                            ]
                        },
                        "text/html": [
                            "<table>",
                            "<tr><th>Return Code</th><th>Response</th></tr>",
                            "<tr><td>0</td><td>{&quot;response&quot;:{&quot;status&quot;:{&quot;http&quot;:{&quot;code&quot;:200,&quot;description&quot;:&quot;&quot;}},&quot;headers&quot;:{&quot;Cache-Control&quot;:&quot;no-cache, must-revalidate&quot;,&quot;Date&quot;:&quot;Fri, 06 Dec 2024 12:01:15 GMT&quot;,&quot;Content-Length&quot;:&quot;2282&quot;,&quot;Content-Type&quot;:&quot;application\\/json&quot;,&quot;access-control-allow-origin&quot;:&quot;*&quot;,&quot;apim-request-id&quot;:&quot;b446b7b2-8755-465b-a9df-a2efb59a1b5d&quot;,&quot;strict-transport-security&quot;:&quot;max-age=31536000; includeSubDomains; preload&quot;,&quot;x-content-type-options&quot;:&quot;nosniff&quot;,&quot;x-ms-region&quot;:&quot;East US 2&quot;,&quot;x-ratelimit-remaining-requests&quot;:&quot;57&quot;,&quot;x-ratelimit-remaining-tokens&quot;:&quot;50147&quot;,&quot;x-accel-buffering&quot;:&quot;no&quot;,&quot;x-ms-rai-invoked&quot;:&quot;true&quot;,&quot;x-request-id&quot;:&quot;f00d435e-4be4-4d1a-8323-e74c65da3e44&quot;,&quot;azureml-model-session&quot;:&quot;d001-20241125160720&quot;,&quot;x-envoy-upstream-service-time&quot;:&quot;5834&quot;,&quot;x-ms-client-request-id&quot;:&quot;b446b7b2-8755-465b-a9df-a2efb59a1b5d&quot;}},&quot;result&quot;:{&quot;choices&quot;:[{&quot;content_filter_results&quot;:{&quot;hate&quot;:{&quot;filtered&quot;:false,&quot;severity&quot;:&quot;safe&quot;},&quot;protected_material_code&quot;:{&quot;filtered&quot;:false,&quot;detected&quot;:false},&quot;protected_material_text&quot;:{&quot;filtered&quot;:false,&quot;detected&quot;:false},&quot;self_harm&quot;:{&quot;filtered&quot;:false,&quot;severity&quot;:&quot;safe&quot;},&quot;sexual&quot;:{&quot;filtered&quot;:false,&quot;severity&quot;:&quot;safe&quot;},&quot;violence&quot;:{&quot;filtered&quot;:false,&quot;severity&quot;:&quot;safe&quot;}},&quot;finish_reason&quot;:&quot;stop&quot;,&quot;index&quot;:0,&quot;logprobs&quot;:null,&quot;message&quot;:{&quot;content&quot;:&quot;{\\n    \\&quot;answer\\&quot;: \\&quot;For a memorable high school graduation party, start by setting up a comfortable and stylish seating area with the WestinTrends Julia 10 Ft Outdoor Patio Cantilever Umbrella, which provides ample shade and a chic ambiance for your garden or backyard gathering. Source: 49. Add a touch of elegance with the Amay Grommet Top Blackout Curtain Panels in White, which can be used to create a beautiful backdrop or partition areas within your party space. Source: 76. For entertainment, consider setting up areas for games or photo booths with props, and don&#39;t forget to curate a playlist of the graduate&#39;s favorite songs to keep the energy lively. Lastly, serve refreshments and snacks on the UDPATIO High Back Outdoor Dining Chairs, ensuring comfort for your guests as they celebrate this significant milestone. Source: 51.\\&quot;,\\n    \\&quot;products\\&quot;: \\&quot;49, 76, 51\\&quot;,\\n    \\&quot;thoughts\\&quot;: \\&quot;I selected the outdoor patio umbrella and dining chairs to provide comfortable seating and a pleasant environment for the party. The blackout curtain panels were chosen to enhance the decor and can be creatively used for setting up distinct areas or as elegant backdrops. These items together help create a functional and festive atmosphere suitable for a high school graduation party.\\&quot;\\n}&quot;,&quot;role&quot;:&quot;assistant&quot;}}],&quot;created&quot;:1733486470,&quot;id&quot;:&quot;chatcmpl-AbRJ8e25uZMeCQXKMACjPvrFj2qGq&quot;,&quot;model&quot;:&quot;gpt-4-turbo-2024-04-09&quot;,&quot;object&quot;:&quot;chat.completion&quot;,&quot;prompt_filter_results&quot;:[{&quot;prompt_index&quot;:0,&quot;content_filter_results&quot;:{&quot;hate&quot;:{&quot;filtered&quot;:false,&quot;severity&quot;:&quot;safe&quot;},&quot;jailbreak&quot;:{&quot;filtered&quot;:false,&quot;detected&quot;:false},&quot;self_harm&quot;:{&quot;filtered&quot;:false,&quot;severity&quot;:&quot;safe&quot;},&quot;sexual&quot;:{&quot;filtered&quot;:false,&quot;severity&quot;:&quot;safe&quot;},&quot;violence&quot;:{&quot;filtered&quot;:false,&quot;severity&quot;:&quot;safe&quot;}}}],&quot;system_fingerprint&quot;:&quot;fp_5603ee5e2e&quot;,&quot;usage&quot;:{&quot;completion_tokens&quot;:259,&quot;prompt_tokens&quot;:6154,&quot;total_tokens&quot;:6413}}}</td></tr>",
                            "</table>"
                        ]
                    }
                },
                {
                    "output_type": "execute_result",
                    "metadata": {},
                    "execution_count": 7,
                    "data": {
                        "application/vnd.dataresource+json": {
                            "schema": {
                                "fields": [
                                    {
                                        "name": "key"
                                    },
                                    {
                                        "name": "value"
                                    }
                                ]
                            },
                            "data": [
                                {
                                    "key": "answer",
                                    "value": "For a memorable high school graduation party, start by setting up a comfortable and stylish seating area with the WestinTrends Julia 10 Ft Outdoor Patio Cantilever Umbrella, which provides ample shade and a chic ambiance for your garden or backyard gathering. Source: 49. Add a touch of elegance with the Amay Grommet Top Blackout Curtain Panels in White, which can be used to create a beautiful backdrop or partition areas within your party space. Source: 76. For entertainment, consider setting up areas for games or photo booths with props, and don't forget to curate a playlist of the graduate's favorite songs to keep the energy lively. Lastly, serve refreshments and snacks on the UDPATIO High Back Outdoor Dining Chairs, ensuring comfort for your guests as they celebrate this significant milestone. Source: 51."
                                },
                                {
                                    "key": "products",
                                    "value": "49, 76, 51"
                                },
                                {
                                    "key": "thoughts",
                                    "value": "I selected the outdoor patio umbrella and dining chairs to provide comfortable seating and a pleasant environment for the party. The blackout curtain panels were chosen to enhance the decor and can be creatively used for setting up distinct areas or as elegant backdrops. These items together help create a functional and festive atmosphere suitable for a high school graduation party."
                                }
                            ]
                        },
                        "text/html": [
                            "<table>",
                            "<tr><th>key</th><th>value</th></tr>",
                            "<tr><td>answer</td><td>For a memorable high school graduation party, start by setting up a comfortable and stylish seating area with the WestinTrends Julia 10 Ft Outdoor Patio Cantilever Umbrella, which provides ample shade and a chic ambiance for your garden or backyard gathering. Source: 49. Add a touch of elegance with the Amay Grommet Top Blackout Curtain Panels in White, which can be used to create a beautiful backdrop or partition areas within your party space. Source: 76. For entertainment, consider setting up areas for games or photo booths with props, and don&#39;t forget to curate a playlist of the graduate&#39;s favorite songs to keep the energy lively. Lastly, serve refreshments and snacks on the UDPATIO High Back Outdoor Dining Chairs, ensuring comfort for your guests as they celebrate this significant milestone. Source: 51.</td></tr>",
                            "<tr><td>products</td><td>49, 76, 51</td></tr>",
                            "<tr><td>thoughts</td><td>I selected the outdoor patio umbrella and dining chairs to provide comfortable seating and a pleasant environment for the party. The blackout curtain panels were chosen to enhance the decor and can be creatively used for setting up distinct areas or as elegant backdrops. These items together help create a functional and festive atmosphere suitable for a high school graduation party.</td></tr>",
                            "</table>"
                        ]
                    }
                }
            ],
            "execution_count": 7
        }
    ]
}