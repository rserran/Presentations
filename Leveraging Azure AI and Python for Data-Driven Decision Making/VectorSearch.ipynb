{
 "cells": [
  {
   "attachments": {},
   "cell_type": "markdown",
   "metadata": {
    "azdata_cell_guid": "29a19371-cc76-4ab9-b9ed-dd1036550564",
    "language": "sql"
   },
   "source": [
    "## VectorSearch.ipynb\n",
    "\n",
    "### Written by Taiob Ali\n",
    "\n",
    "@sqlworldwide"
   ]
  },
  {
   "attachments": {},
   "cell_type": "markdown",
   "metadata": {
    "azdata_cell_guid": "7b099c59-df47-4cba-a4e6-dc32d3eaf07d",
    "language": "sql"
   },
   "source": [
    "Reference: [Azure OpenAI Embeddings](https:\\github.com\\AzureSQLDB\\GenAILab\\blob\\main\\docs\\2-creating-embedding-and-storing-in-SQL-database.md)\n",
    "\n",
    "Create a function to create embeddings. You will need to change the the url and api-key value.\n",
    "\n",
    "An embedding is a special format of data representation that machine learning models and algorithms can easily use. The embedding is an information dense representation of the semantic meaning of a piece of text. Each embedding is a vector of floating-point numbers, such that the distance between two embeddings in the vector space is correlated with semantic similarity between two inputs in the original format. For example, if two texts are similar, then their vector representations should also be similar."
   ]
  },
  {
   "cell_type": "code",
   "execution_count": null,
   "metadata": {
    "azdata_cell_guid": "6d623016-c08c-4c97-b1a3-5113412e537d",
    "language": "sql",
    "tags": []
   },
   "outputs": [],
   "source": [
    "CREATE OR ALTER PROCEDURE dbo.create_embeddings\n",
    "@inputText nvarchar(max),\n",
    "@embedding vector(1536) OUT\n",
    "AS\n",
    "DECLARE @url nvarchar(4000) = N'https://ta-openai.openai.azure.com/openai/deployments/ta-model-text-embedding-ada-002/embeddings?api-version=2023-05-15';\n",
    "\n",
    "DECLARE @headers nvarchar(300) = N'{\"api-key\": \"*******************************************************************\"}';\n",
    "\n",
    "DECLARE @message nvarchar(max);\n",
    "DECLARE @payload nvarchar(max) = N'{\"input\": \"' + @inputText + '\"}';\n",
    "DECLARE @retval int, @response nvarchar(max);\n",
    "\n",
    "exec @retval = sp_invoke_external_rest_endpoint \n",
    "    @url = @url,\n",
    "    @method = 'POST',\n",
    "    @headers = @headers,\n",
    "    @payload = @payload,\n",
    "    @timeout = 230,\n",
    "    @response = @response output;\n",
    "\n",
    "DECLARE @re vector(1536);\n",
    "IF (@retval = 0) \n",
    "\tBEGIN\n",
    "    SET @re = cast(json_query(@response, '$.result.data[0].embedding') AS vector(1536))\n",
    "\tEND ELSE BEGIN\n",
    "\tDECLARE @msg nvarchar(max) =  \n",
    "\t\t\t'Error calling OpenAI API' + char(13) + char(10) + \n",
    "\t\t\t'[HTTP Status: ' + json_value(@response, '$.response.status.http.code') + '] ' +\n",
    "\t\t\tjson_value(@response, '$.result.error.message');\n",
    "\tTHROW 50000, @msg, 1;\n",
    "END\n",
    "\n",
    "SET @embedding = @re;\n",
    "\n",
    "RETURN @retval\n",
    "GO"
   ]
  },
  {
   "cell_type": "code",
   "execution_count": null,
   "metadata": {
    "azdata_cell_guid": "ec0f9ce6-9e12-41f3-811c-2ee3591ae09f",
    "language": "sql"
   },
   "outputs": [],
   "source": [
    "/*\n",
    "A function to clean up your data (My colleague Howard Dunn wrote this )\n",
    "*/\n",
    "SET ANSI_NULLS ON\n",
    "GO\n",
    "\n",
    "SET QUOTED_IDENTIFIER ON\n",
    "GO\n",
    "\n",
    "CREATE FUNCTION [dbo].[cleanString] (@str NVARCHAR(MAX))\n",
    "RETURNS NVARCHAR(MAX)\n",
    "AS\n",
    "BEGIN\n",
    "    DECLARE @i INT = 1\n",
    "    DECLARE @cleaned NVARCHAR(MAX) = ''\n",
    "\n",
    "    WHILE @i <= LEN(@str)\n",
    "    BEGIN\n",
    "        IF SUBSTRING(@str, @i, 1) LIKE '[a-zA-Z0-9 .,!?]'\n",
    "            SET @cleaned = @cleaned + SUBSTRING(@str, @i, 1)\n",
    "        SET @i = @i + 1\n",
    "    END\n",
    "\n",
    "    RETURN @cleaned\n",
    "END\n",
    "GO\n",
    "\n",
    "SELECT\n",
    "    sku, \n",
    "    brand, \n",
    "    review_count, \n",
    "    trim(dbo.cleanString(description)) as description, \n",
    "    product_id, \n",
    "    product_name, \n",
    "    root_category_name, \n",
    "    unit_price, \n",
    "    unit, aisle, \n",
    "    free_returns, \n",
    "    discount, id\n",
    "INTO dbo.walmartProductsNew\n",
    "FROM [dbo].[walmart-products]\n",
    "GO"
   ]
  },
  {
   "cell_type": "code",
   "execution_count": null,
   "metadata": {
    "azdata_cell_guid": "cc087cef-fdc4-4b54-9a84-df976d2c7195",
    "language": "sql"
   },
   "outputs": [],
   "source": [
    "DROP TABLE IF EXISTS  vectorTable\n",
    "SELECT TOP 250 ID, product_name, sku, brand, review_count, description\n",
    "INTO dbo.vectortable\n",
    "FROM [dbo].[walmartProducts]\n",
    "WHERE ID not IN (2, 7)\n",
    "ORDER BY [ID]\n",
    "GO\n",
    "\n",
    "ALTER TABLE vectorTable\n",
    "ADD description_vector vector(1536) NULL;\n",
    "GO\n",
    "\n",
    "DECLARE @i int = 1;\n",
    "DECLARE @text nvarchar(max);\n",
    "DECLARE @vector vector(1536);\n",
    "\n",
    "while @i <= 1000\n",
    "    BEGIN\n",
    "    SET @text = (SELECT isnull([product_name],'') + ': ' + isnull([brand],'')+': ' + isnull([description],'' ) \n",
    "\t  FROM dbo.vectortable \n",
    "\t  WHERE ID = @i);\n",
    "\n",
    "    IF(@text <> '')\n",
    "        BEGIN TRY\n",
    "          exec dbo.create_embeddings @text, @vector OUTPUT;\n",
    "          update dbo.vectortable set [description_vector ] = @vector WHERE ID= @i;\n",
    "        END TRY\n",
    "        BEGIN CATCH\n",
    "          SELECT ERROR_NUMBER() AS ErrorNumber,\n",
    "          ERROR_MESSAGE() AS ErrorMessage;\n",
    "        END CATCH\n",
    "    \n",
    "    SET @i = @i + 1;\n",
    "END"
   ]
  },
  {
   "cell_type": "code",
   "execution_count": null,
   "metadata": {
    "azdata_cell_guid": "d1fda71a-21e4-4d6f-9659-91e1790c0535",
    "language": "sql",
    "tags": []
   },
   "outputs": [],
   "source": [
    "DELETE FROM dbo.vectortable WHERE description_vector IS NULL;\n",
    "SELECT Count(*) FROM dbo.vectortable;\n",
    "SELECT TOP 10 * FROM dbo.vectortable;"
   ]
  },
  {
   "cell_type": "code",
   "execution_count": null,
   "metadata": {
    "azdata_cell_guid": "88ee508d-d2f7-44d4-a84c-e070d86f02c8",
    "language": "sql"
   },
   "outputs": [],
   "source": [
    "-- Declare the search text\n",
    "declare @search_text nvarchar(max) = 'help me plan a high school graduation party';\n",
    "\n",
    "-- Declare a variable to hold the search vector\n",
    "declare @search_vector vector(1536);\n",
    "\n",
    "-- Generate the search vector using the 'create_embeddings' stored procedure\n",
    "exec dbo.create_embeddings @search_text, @search_vector output;\n",
    "\n",
    "-- Perform the search query\n",
    "SELECT TOP(10) \n",
    "  product_name, brand, DESCRIPTION,\n",
    "  -- Calculate the cosine distance between the search vector and product description vectors\n",
    "  vector_distance('cosine', @search_vector, description_vector) AS distance\n",
    "FROM [dbo].[vectorTable]\n",
    "WHERE vector_distance('cosine', @search_vector, description_vector) IS NOT NULL\n",
    "ORDER BY distance; -- Order by the closest distance"
   ]
  },
  {
   "attachments": {},
   "cell_type": "markdown",
   "metadata": {
    "azdata_cell_guid": "ba42fb4e-3141-488f-ae13-90b08ba17d20"
   },
   "source": [
    "### Filtered Semantic Search with SQL\n",
    "\n",
    "[](https:\\github.com\\AzureSQLDB\\GenAILab\\blob\\main\\docs\\4-filtered-semantic-search.md#filtered-semantic-search-with-sql)\n",
    "\n",
    "This section explains how to implement a Filtered Search query in SQL. Hybrid Search combines traditional SQL queries with vector-based search capabilities to enhance search results.\n",
    "\n",
    "### SQL Query for Hybrid Search\n",
    "\n",
    "[](https:\\github.com\\AzureSQLDB\\GenAILab\\blob\\main\\docs\\4-filtered-semantic-search.md#sql-query-for-hybrid-search)\n",
    "\n",
    "The following SQL script demonstrates a hybrid search in an SQL database. It uses vector embeddings to find the most relevant products based on a textual description and combines with the availability of free returns"
   ]
  },
  {
   "cell_type": "code",
   "execution_count": 8,
   "metadata": {
    "azdata_cell_guid": "920cd028-b5ed-4b39-bc52-ca0286316207",
    "language": "sql"
   },
   "outputs": [
    {
     "data": {
      "text/html": [
       "(10 rows affected)"
      ]
     },
     "metadata": {},
     "output_type": "display_data"
    },
    {
     "data": {
      "text/html": [
       "Total execution time: 00:00:00.142"
      ]
     },
     "metadata": {},
     "output_type": "display_data"
    },
    {
     "data": {
      "application/vnd.dataresource+json": {
       "data": [
        {
         "DESCRIPTION": "These palazzo pants are the perfect addition to any wardrobe! Comfortable and stylish, these pants offer an effortless and chic look. The lightweight fabric 95 Rayon  5 Spandex is airy and breathable, keeping you cool and comfortable all day long. The wide leg design creates a flattering silhouette that will flatter any figure. These pants are available in a variety of colors and tie dyes to suit any style. Whether youre heading to the office or a night out, these pants will be sure to complete your look. Get ready to make a statement in these stylish and comfortable pants!",
         "brand": "Made by Johnny",
         "distance": "0.2906389327601112",
         "product_name": "Made by Johnny Women's Chic Palazzo Lounge Pants S HEATHER_DARK_GREY"
        },
        {
         "DESCRIPTION": "Baby girls clothing Cute christening baptism flower dress for toddler baby little girl princess formal prom tutu ball gown party wedding birthday dress sleeveless round neck tulle evening formal gown, match with a bowknot and headband, 3pcs outfits clothes set.    Baptism dress for girl Slim fitted bodice and dress hem adorned with lace flowers decoration, illusion vneckline, concealed backzip fastener. Elastic band head band for better wearing. A big removeable bowknot can decor back waist. Multlayers tulle adds to a fuller look.    Flower girl dress Breathable and lace multilayer tutu design, bowknot tie on the back, sleeveless and sweet elegant hemline. Hidden zipper back easily to allow you to easily get inout of the dress. Bow is also removable, providing more optional autonomy design possibility. Popular element design, a best gift for your lovely baby girl.    Wedding dress for baby girl Flower girl dress is suitable 36 months, 69 months, 912 months, 1218 months. Flower pattern print, gauze cover up, multilayer tulle skirt in knee length with soft lining, focus on protecting your childs delicate skin. Pretty design makes your baby be the princess.    Occasion Prefect for special occasions, christening, photo shoot, pageant, birthday party, first name day, formal day, baptism, wedding party, vacation, christmas new year, valentines day, stage performance, holiday, first communion, ceremony, artistic photo shoot, beach, formal event, bride junior bridesmaids wedding guest, recital evening communication, family gathering and other special occasion.",
         "brand": "Ibtom Castle",
         "distance": "0.29120408516564045",
         "product_name": "IBTOM CASTLE Baby Girls Formal Dress Lace Bowknot Baptism Embroidery Princess Birthday Wedding Flower Tutu Gown with Headwear 3-6 Months Red"
        },
        {
         "DESCRIPTION": "The offset patio umbrella can provide you with a shade and protection that can keep you cool and comfortable outside. A best choice for your garden, yard, pool, deck, background beach, balcony, restaurant, and any other outdoor area.   Durable long lasting 180 GSM polyester canopy fabric features fade resistant, water repellent and sun protection. Blocks up to 95 of UV rays, UV protection 30   Stay cool at all times, tilt the canopy from 90 to 180 degrees effortlessly with our ergonomically designed sliding handle, keeping the area protected throughout the day. while a wind vent cools air under the umbrella and enhance the stability.   Easy openclose with manual crank lift mechanism puts the umbrella up in just seconds with minimal effort, wrapped with strap to secure and protect the patio umbrella in a closed state.   The 8 long ribs are made of premium iron, and the 1.8 inch strong metal pole is sealed with a thick antioxidant coating to prevent corrosion and rust.   We proudly offer a 1year warranty service and 247 customer service. If you have any questions about the product, please contact us.",
         "brand": "WestinTrends",
         "distance": "0.2927422323744332",
         "product_name": "WestinTrends Julia 10 Ft Outdoor Patio Cantilever Umbrella with Base Included, Market Hanging Offset Umbrella with 4-Pieces Fillable Base Weight, Coffee"
        },
        {
         "DESCRIPTION": "Enjoy comfort and fashion at the same time with this unique Mens graphic T Shirt from The Little Mermaid.   Strut your stuff with this stylish new Mens Tee Shirt that is perfect for every occasion! Featuring your favorite characters like Ariel, Flounder, King Triton, Sebastian, Ursula.   Find the perfect fit for you! Check out size charts for more information. Made from the highest quality materials on firstclass digital directtogarment printers. This item is made to order please consider this when ordering multiple sizes.   Printed In the U.S.A with safe waterbased inks. Easy care machine wash cold inside out with similar colors, tumble dry low, hang dry for best results.   Officially licensed apparel. Designed by an exclusive collaboration with top brands amp worldclass artists.",
         "brand": "The Little Mermaid",
         "distance": "0.2947672290175656",
         "product_name": "Men's The Little Mermaid Vintage Characters  Graphic Tee Turquoise Medium"
        },
        {
         "DESCRIPTION": "Perfect is a high bar, but our updated PerfectT TriBlend tee offers the look and feel of a fashion brand and more. Enjoy the comfort and great feel of U.S. grown cotton and recycled polyester in a lightweight, modern fit. Made with cotton sourced from American farms. Luxuriously soft, lightweight 60 recycled polyester30 U.S. grown ringspun cotton10 rayon. Features an easily removed tearaway neck label. Triblend performance fabric feels amazingly soft and light. Slightly tapered fit updates your casual look.",
         "brand": "Hanes",
         "distance": "0.29513877359554164",
         "product_name": "Hanes Men's Perfect-T Tri-Blend Short Sleeve T-Shirt Solid Navy M"
        },
        {
         "DESCRIPTION": "PACKAGE CONTAINS  Beige 42 Inch Wide by 108 Inch Long1 Panel. Along with set of tie back to gather and hold the drapes, along with hooks to hang the door window curtains straightaway  NATURAL BLACKOUT Super heavy and soft Blackout Curtain Panels are very upmarket. Besides, 8599 light blocking, thermal insulated, soundproof, Faderesistant, energyefficient. Thread trimmed and wrinklefree, both sides are the same color.  AMAZING MATERIAL Made of high quality durable 100 polyester fabric, our room darkening curtains are drapery, very pleasant to touch and free from odor. Decorative choice for your room.  WIDELY TO USE These versatile curtains are available in a variety of colors and sizes. Simple solid pattern with aesthetic look, they will look great in bedroom, living room, dinning room, outdoor occasions as per requirements.  PRIVACY PROTECTION These fabulous curtains can provide a real sense of separation amp privacy. The fabric is very soft and has a good sense of verticality. Help you have a good sleep and make you energetic every day.  DESIGN and TEXTURE We offer innovative and affordable designs that are on trend yet unique. From neutral solids to colorful boho designs, our team of inhouse designers offers highquality products that everyone can enjoy.",
         "brand": "Amay's",
         "distance": "0.29568789295955844",
         "product_name": "Amay Blackout Grommet Curtain Panel Beige 42 Inch Wide by 108 Inch Long- 1Panel"
        },
        {
         "DESCRIPTION": "Experience a delicious plantpowered energy boost with V8 Energy Black Cherry and Pomegranate Blueberry Juice Energy Drinks. These concentrated fruit and vegetable juice blends are infused with natural energy from black and green tea. Each 8 fl oz can contains 1 combined serving of veggies and fruit along with 80 milligrams of caffeine  as much as leading energy drink brands. A healthy energy drink alternative, V8 Energy contains 4550 calories and 1112 grams of carbs per can. Its also an excellent source of B Vitamins. V8 Energy caffeinated juice drinks are nonGMO and glutenfree with no sugar added and no artificial colors. Enjoy V8 Energy as a coffee substitute in the morning, in place of soda during the afternoon, or as a mocktail or cocktail mixer in the evening. Its great anytime you need a plant based boost of natural caffeine. Not a low calorie food see nutrition panel for sugar and calorie content",
         "brand": "V8 Juice",
         "distance": "0.2957408354433093",
         "product_name": "V8 +Energy Black Cherry and Pomegranate Blueberry Juice Energy Drinks, 8 fl oz Can, 24 Count (4 Packs of 6)"
        },
        {
         "DESCRIPTION": "100 Polypropylene,100 Polypropylene, made in Turkey,Designed with resilience against everyday wearandtear, this rug is kid and pet friendly and perfect for high traffic areas of your home such as living room, dining room, kitchen, and hallways,Sleek and functional 0.43 pile height allows for convenient placement in entryways, underneath furniture, and will not obstruct doorways,Brimming with artistic charm, bohemian rugs help you unleash your creativity,Easy to clean and maintain, we recommend vacuuming regularly and spot treating any mild stains with carpet cleaner",
         "brand": "nuLOOM",
         "distance": "0.2970297592044099",
         "product_name": "nuLOOM Vintage Erline Area Rug"
        },
        {
         "DESCRIPTION": "Update your closet with fashion designs from NINA NEW YORK and discover all the stylish pieces they have to offer. Youll find versatile wardrobe trends that will look perfect with various outfits and occasions. Whether you are missing something modern, casual, or chic NINA NEW YORK has the selection your closet, and you, have been waiting for!",
         "brand": "NINA NEW YORK",
         "distance": "0.29727335161744495",
         "product_name": "NINA NEW YORK Womens Silver Goring Embellished Nadette Round Toe Wedge Slip On Dress Sandals Shoes 5.5 M"
        },
        {
         "DESCRIPTION": "PACKAGE CONTAINS  Greyish White 60 Inch Wide by 120 Inch Long1 Panel.Along with set of tie back to gather and hold the drapes, along with hooks to hang the door window curtains straightaway   NATURAL BLACKOUT Super heavy and soft Blackout Curtain Panels are very upmarket. Besides, 8599 light blocking, thermal insulated, soundproof, Faderesistant, energyefficient. Thread trimmed and wrinklefree, both sides are the same color.   AMAZING MATERIAL Made of high quality durable 100 polyester fabric, our room darkening curtains are drapery, very pleasant to touch and free from odor. Decorative choice for your room.   WIDELY TO USE These versatile curtains are available in a variety of colors and sizes. Simple solid pattern with aesthetic look, they will look great in bedroom, living room, dinning room, outdoor occasions as per requirements.   PRIVACY PROTECTION These fabulous curtains can provide a real sense of separation amp privacy. The fabric is very soft and has a good sense of verticality. Help you have a good sleep and make you energetic every day.   DESIGN and TEXTURE We offer innovative and affordable designs that are on trend yet unique. From neutral solids to colorful boho designs, our team of inhouse designers offers highquality products that everyone can enjoy.",
         "brand": "Amay's",
         "distance": "0.2974599098818783",
         "product_name": "Amay Grommet Top Blackout Curtain Panel Greyish White 60 Inch Wide by 120 Inch Long-1Panel"
        }
       ],
       "schema": {
        "fields": [
         {
          "name": "product_name"
         },
         {
          "name": "brand"
         },
         {
          "name": "DESCRIPTION"
         },
         {
          "name": "distance"
         }
        ]
       }
      },
      "text/html": [
       "<table><tr><th>product_name</th><th>brand</th><th>DESCRIPTION</th><th>distance</th></tr><tr><td>Made by Johnny Women&#39;s Chic Palazzo Lounge Pants S HEATHER_DARK_GREY</td><td>Made by Johnny</td><td>These palazzo pants are the perfect addition to any wardrobe! Comfortable and stylish, these pants offer an effortless and chic look. The lightweight fabric 95 Rayon  5 Spandex is airy and breathable, keeping you cool and comfortable all day long. The wide leg design creates a flattering silhouette that will flatter any figure. These pants are available in a variety of colors and tie dyes to suit any style. Whether youre heading to the office or a night out, these pants will be sure to complete your look. Get ready to make a statement in these stylish and comfortable pants!</td><td>0.2906389327601112</td></tr><tr><td>IBTOM CASTLE Baby Girls Formal Dress Lace Bowknot Baptism Embroidery Princess Birthday Wedding Flower Tutu Gown with Headwear 3-6 Months Red</td><td>Ibtom Castle</td><td>Baby girls clothing Cute christening baptism flower dress for toddler baby little girl princess formal prom tutu ball gown party wedding birthday dress sleeveless round neck tulle evening formal gown, match with a bowknot and headband, 3pcs outfits clothes set.    Baptism dress for girl Slim fitted bodice and dress hem adorned with lace flowers decoration, illusion vneckline, concealed backzip fastener. Elastic band head band for better wearing. A big removeable bowknot can decor back waist. Multlayers tulle adds to a fuller look.    Flower girl dress Breathable and lace multilayer tutu design, bowknot tie on the back, sleeveless and sweet elegant hemline. Hidden zipper back easily to allow you to easily get inout of the dress. Bow is also removable, providing more optional autonomy design possibility. Popular element design, a best gift for your lovely baby girl.    Wedding dress for baby girl Flower girl dress is suitable 36 months, 69 months, 912 months, 1218 months. Flower pattern print, gauze cover up, multilayer tulle skirt in knee length with soft lining, focus on protecting your childs delicate skin. Pretty design makes your baby be the princess.    Occasion Prefect for special occasions, christening, photo shoot, pageant, birthday party, first name day, formal day, baptism, wedding party, vacation, christmas new year, valentines day, stage performance, holiday, first communion, ceremony, artistic photo shoot, beach, formal event, bride junior bridesmaids wedding guest, recital evening communication, family gathering and other special occasion.</td><td>0.29120408516564045</td></tr><tr><td>WestinTrends Julia 10 Ft Outdoor Patio Cantilever Umbrella with Base Included, Market Hanging Offset Umbrella with 4-Pieces Fillable Base Weight, Coffee</td><td>WestinTrends</td><td>The offset patio umbrella can provide you with a shade and protection that can keep you cool and comfortable outside. A best choice for your garden, yard, pool, deck, background beach, balcony, restaurant, and any other outdoor area.   Durable long lasting 180 GSM polyester canopy fabric features fade resistant, water repellent and sun protection. Blocks up to 95 of UV rays, UV protection 30   Stay cool at all times, tilt the canopy from 90 to 180 degrees effortlessly with our ergonomically designed sliding handle, keeping the area protected throughout the day. while a wind vent cools air under the umbrella and enhance the stability.   Easy openclose with manual crank lift mechanism puts the umbrella up in just seconds with minimal effort, wrapped with strap to secure and protect the patio umbrella in a closed state.   The 8 long ribs are made of premium iron, and the 1.8 inch strong metal pole is sealed with a thick antioxidant coating to prevent corrosion and rust.   We proudly offer a 1year warranty service and 247 customer service. If you have any questions about the product, please contact us.</td><td>0.2927422323744332</td></tr><tr><td>Men&#39;s The Little Mermaid Vintage Characters  Graphic Tee Turquoise Medium</td><td>The Little Mermaid</td><td>Enjoy comfort and fashion at the same time with this unique Mens graphic T Shirt from The Little Mermaid.   Strut your stuff with this stylish new Mens Tee Shirt that is perfect for every occasion! Featuring your favorite characters like Ariel, Flounder, King Triton, Sebastian, Ursula.   Find the perfect fit for you! Check out size charts for more information. Made from the highest quality materials on firstclass digital directtogarment printers. This item is made to order please consider this when ordering multiple sizes.   Printed In the U.S.A with safe waterbased inks. Easy care machine wash cold inside out with similar colors, tumble dry low, hang dry for best results.   Officially licensed apparel. Designed by an exclusive collaboration with top brands amp worldclass artists.</td><td>0.2947672290175656</td></tr><tr><td>Hanes Men&#39;s Perfect-T Tri-Blend Short Sleeve T-Shirt Solid Navy M</td><td>Hanes</td><td>Perfect is a high bar, but our updated PerfectT TriBlend tee offers the look and feel of a fashion brand and more. Enjoy the comfort and great feel of U.S. grown cotton and recycled polyester in a lightweight, modern fit. Made with cotton sourced from American farms. Luxuriously soft, lightweight 60 recycled polyester30 U.S. grown ringspun cotton10 rayon. Features an easily removed tearaway neck label. Triblend performance fabric feels amazingly soft and light. Slightly tapered fit updates your casual look.</td><td>0.29513877359554164</td></tr><tr><td>Amay Blackout Grommet Curtain Panel Beige 42 Inch Wide by 108 Inch Long- 1Panel</td><td>Amay&#39;s</td><td>PACKAGE CONTAINS  Beige 42 Inch Wide by 108 Inch Long1 Panel. Along with set of tie back to gather and hold the drapes, along with hooks to hang the door window curtains straightaway  NATURAL BLACKOUT Super heavy and soft Blackout Curtain Panels are very upmarket. Besides, 8599 light blocking, thermal insulated, soundproof, Faderesistant, energyefficient. Thread trimmed and wrinklefree, both sides are the same color.  AMAZING MATERIAL Made of high quality durable 100 polyester fabric, our room darkening curtains are drapery, very pleasant to touch and free from odor. Decorative choice for your room.  WIDELY TO USE These versatile curtains are available in a variety of colors and sizes. Simple solid pattern with aesthetic look, they will look great in bedroom, living room, dinning room, outdoor occasions as per requirements.  PRIVACY PROTECTION These fabulous curtains can provide a real sense of separation amp privacy. The fabric is very soft and has a good sense of verticality. Help you have a good sleep and make you energetic every day.  DESIGN and TEXTURE We offer innovative and affordable designs that are on trend yet unique. From neutral solids to colorful boho designs, our team of inhouse designers offers highquality products that everyone can enjoy.</td><td>0.29568789295955844</td></tr><tr><td>V8 +Energy Black Cherry and Pomegranate Blueberry Juice Energy Drinks, 8 fl oz Can, 24 Count (4 Packs of 6)</td><td>V8 Juice</td><td>Experience a delicious plantpowered energy boost with V8 Energy Black Cherry and Pomegranate Blueberry Juice Energy Drinks. These concentrated fruit and vegetable juice blends are infused with natural energy from black and green tea. Each 8 fl oz can contains 1 combined serving of veggies and fruit along with 80 milligrams of caffeine  as much as leading energy drink brands. A healthy energy drink alternative, V8 Energy contains 4550 calories and 1112 grams of carbs per can. Its also an excellent source of B Vitamins. V8 Energy caffeinated juice drinks are nonGMO and glutenfree with no sugar added and no artificial colors. Enjoy V8 Energy as a coffee substitute in the morning, in place of soda during the afternoon, or as a mocktail or cocktail mixer in the evening. Its great anytime you need a plant based boost of natural caffeine. Not a low calorie food see nutrition panel for sugar and calorie content</td><td>0.2957408354433093</td></tr><tr><td>nuLOOM Vintage Erline Area Rug</td><td>nuLOOM</td><td>100 Polypropylene,100 Polypropylene, made in Turkey,Designed with resilience against everyday wearandtear, this rug is kid and pet friendly and perfect for high traffic areas of your home such as living room, dining room, kitchen, and hallways,Sleek and functional 0.43 pile height allows for convenient placement in entryways, underneath furniture, and will not obstruct doorways,Brimming with artistic charm, bohemian rugs help you unleash your creativity,Easy to clean and maintain, we recommend vacuuming regularly and spot treating any mild stains with carpet cleaner</td><td>0.2970297592044099</td></tr><tr><td>NINA NEW YORK Womens Silver Goring Embellished Nadette Round Toe Wedge Slip On Dress Sandals Shoes 5.5 M</td><td>NINA NEW YORK</td><td>Update your closet with fashion designs from NINA NEW YORK and discover all the stylish pieces they have to offer. Youll find versatile wardrobe trends that will look perfect with various outfits and occasions. Whether you are missing something modern, casual, or chic NINA NEW YORK has the selection your closet, and you, have been waiting for!</td><td>0.29727335161744495</td></tr><tr><td>Amay Grommet Top Blackout Curtain Panel Greyish White 60 Inch Wide by 120 Inch Long-1Panel</td><td>Amay&#39;s</td><td>PACKAGE CONTAINS  Greyish White 60 Inch Wide by 120 Inch Long1 Panel.Along with set of tie back to gather and hold the drapes, along with hooks to hang the door window curtains straightaway   NATURAL BLACKOUT Super heavy and soft Blackout Curtain Panels are very upmarket. Besides, 8599 light blocking, thermal insulated, soundproof, Faderesistant, energyefficient. Thread trimmed and wrinklefree, both sides are the same color.   AMAZING MATERIAL Made of high quality durable 100 polyester fabric, our room darkening curtains are drapery, very pleasant to touch and free from odor. Decorative choice for your room.   WIDELY TO USE These versatile curtains are available in a variety of colors and sizes. Simple solid pattern with aesthetic look, they will look great in bedroom, living room, dinning room, outdoor occasions as per requirements.   PRIVACY PROTECTION These fabulous curtains can provide a real sense of separation amp privacy. The fabric is very soft and has a good sense of verticality. Help you have a good sleep and make you energetic every day.   DESIGN and TEXTURE We offer innovative and affordable designs that are on trend yet unique. From neutral solids to colorful boho designs, our team of inhouse designers offers highquality products that everyone can enjoy.</td><td>0.2974599098818783</td></tr></table>"
      ]
     },
     "execution_count": 8,
     "metadata": {},
     "output_type": "execute_result"
    }
   ],
   "source": [
    "-- Declare the search text\n",
    "declare @search_text nvarchar(max) = 'help me plan a high school graduation party';\n",
    "\n",
    "-- Declare a variable to hold the search vector\n",
    "declare @search_vector vector(1536);\n",
    "\n",
    "-- Generate the search vector using the 'create_embeddings' stored procedure\n",
    "exec dbo.create_embeddings @search_text, @search_vector output;\n",
    "\n",
    "-- Perform the search query\n",
    "SELECT TOP(10) \n",
    "  vt.product_name, vt.brand, vt.DESCRIPTION,\n",
    "  -- Calculate the cosine distance between the search vector and product description vectors\n",
    "  vector_distance('cosine', @search_vector, description_vector) AS distance\n",
    "FROM [dbo].[vectorTable] AS vt\n",
    "JOIN dbo.walmartProducts AS wpn\n",
    "ON vt.id = wpn.id\n",
    "WHERE vector_distance('cosine', @search_vector, description_vector) IS NOT NULL\n",
    "AND wpn.free_returns ='Free 30-day returns'\n",
    "ORDER BY distance; -- Order by the closest distance"
   ]
  },
  {
   "attachments": {},
   "cell_type": "markdown",
   "metadata": {
    "azdata_cell_guid": "9adaa0cd-fd6f-49f6-a8ab-cf336fa37a2a",
    "language": "sql"
   },
   "source": [
    "### Azure OpenAi Recommendations\n",
    "\n",
    "Copied and edited from [here](https:\\github.com\\AzureSQLDB\\GenAILab\\blob\\main\\docs\\5-azure-openai-recommendation.md)."
   ]
  },
  {
   "cell_type": "code",
   "execution_count": null,
   "metadata": {
    "azdata_cell_guid": "c2506d79-c21a-44f2-974f-a90ddc47aa8f",
    "language": "sql"
   },
   "outputs": [],
   "source": [
    "declare @search_text nvarchar(max) = 'help me plan a high school graduation party'\n",
    "\n",
    "-- Get the search vector for the search text\n",
    "declare @search_vector vector(1536)\n",
    "exec dbo.create_embeddings @search_text, @search_vector output;\n",
    "\n",
    "-- Get the top 50 products that are closest to the search vector\n",
    "drop table if exists #t;\n",
    "with cte as \n",
    "(\n",
    "    select         \n",
    "        id, product_name, [description], description_vector,        \n",
    "        row_number() over (partition by product_name order by id ) as rn\n",
    "        FROM [dbo].[vectorTable]\n",
    "WHERE vector_distance('cosine', @search_vector, description_vector) IS NOT NULL\n",
    "), \n",
    "cte2 as -- remove duplicates\n",
    "(\n",
    "    select \n",
    "        *\n",
    "    from\n",
    "        cte \n",
    "    where\n",
    "        rn = 1\n",
    ")\n",
    "select top(25)\n",
    "    id, product_name, [description],\n",
    "    vector_distance('cosine', @search_vector, description_vector) as distance\n",
    "into\n",
    "    #t\n",
    "from \n",
    "    cte2\n",
    "order by \n",
    "    distance;\n",
    "\n",
    "-- Aggregate the search results to make them easily consumable by the LLM\n",
    "declare @search_output nvarchar(max);\n",
    "select \n",
    "    @search_output = string_agg(cast(t.[id] as varchar(10)) +'=>' + t.[product_name] + '=>' + t.[description], char(13) + char(10))\n",
    "from \n",
    "    #t as t;\n",
    "\n",
    "-- Generate the payload for the LLM\n",
    "declare @llm_payload nvarchar(max);\n",
    "set @llm_payload = \n",
    "json_object(\n",
    "    'messages': json_array(\n",
    "            json_object(\n",
    "                'role':'system',\n",
    "                'content':'\n",
    "                    You are an awesome AI shopping assistant  tasked with helping users find appropriate items they are looking for the occasion. \n",
    "                    You have access to a list of products, each with an ID, product name, and description, provided to you in the format of \"Id=>Product=>Description\". \n",
    "                    When users ask for products for specific occasions, you can leverage this information to provide creative and personalized suggestions. \n",
    "                    Your goal is to assist users in planning memorable celebrations using the available products.\n",
    "                '\n",
    "            ),\n",
    "            json_object(\n",
    "                'role':'user',\n",
    "                'content': '## Source ##\n",
    "                    ' + @search_output + '\n",
    "                    ## End ##\n",
    "\n",
    "                    Your answer needs to be a json object with the following format.\n",
    "                    {\n",
    "                        \"answer\": // the answer to the question, add a source reference to the end of each sentence. Source reference is the product Id.\n",
    "                        \"products\": // a comma-separated list of product ids that you used to come up with the answer.\n",
    "                        \"thoughts\": // brief thoughts on how you came up with the answer, e.g. what sources you used, what you thought about, etc.\n",
    "                    }'\n",
    "            ),\n",
    "            json_object(\n",
    "                'role':'user',\n",
    "                'content': + @search_text\n",
    "            )\n",
    "    ),\n",
    "    'max_tokens': 800,\n",
    "    'temperature': 0.3,\n",
    "    'frequency_penalty': 0,\n",
    "    'presence_penalty': 0,\n",
    "    'top_p': 0.95,\n",
    "    'stop': null\n",
    ");\n",
    "\n",
    "-- Invoke the LLM to get the response\n",
    "declare @retval int, @response nvarchar(max);\n",
    "declare @headers nvarchar(300) = N'{\"api-key\": \"*******************************************************************\", \"content-type\": \"application/json\"}';\n",
    "exec @retval = sp_invoke_external_rest_endpoint\n",
    "    @url = N'https://ta-openai.openai.azure.com/openai/deployments/ta-model-gpt-4/chat/completions?api-version=2024-08-01-preview',\n",
    "    @headers = @headers,\n",
    "    @method = 'POST',    \n",
    "    @timeout = 120,\n",
    "    @payload = @llm_payload,\n",
    "    @response = @response output;\n",
    "select @retval as 'Return Code', @response as 'Response';\n",
    "\n",
    "-- Get the answer from the response\n",
    "select [key], [value] \n",
    "from openjson(( \n",
    "    select t.value \n",
    "    from openjson(@response, '$.result.choices') c cross apply openjson(c.value, '$.message') t\n",
    "    where t.[key] = 'content'\n",
    "))"
   ]
  }
 ],
 "metadata": {
  "kernelspec": {
   "display_name": "SQL",
   "language": "sql",
   "name": "SQL"
  },
  "language_info": {
   "name": "sql",
   "version": ""
  }
 },
 "nbformat": 4,
 "nbformat_minor": 2
}
